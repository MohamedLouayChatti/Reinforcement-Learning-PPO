{
 "cells": [
  {
   "cell_type": "markdown",
   "id": "b0d54c99",
   "metadata": {},
   "source": [
    "**Adding libraries and dependencies**"
   ]
  },
  {
   "cell_type": "code",
   "execution_count": 1,
   "id": "f11e35f4",
   "metadata": {},
   "outputs": [],
   "source": [
    "import numpy as np\n",
    "import tensorflow as tf\n",
    "\n",
    "from mlagents_envs.environment import UnityEnvironment\n",
    "from mlagents_envs.side_channel.engine_configuration_channel import EngineConfigurationChannel\n",
    "from mlagents_envs.base_env import ActionTuple\n",
    "\n",
    "import tf_agents\n",
    "from tf_agents.environments import py_environment\n",
    "from tf_agents.environments import tf_py_environment\n",
    "from tf_agents.networks import q_network\n",
    "from tf_agents.agents.dqn import dqn_agent\n",
    "from tf_agents.utils import common\n",
    "from tf_agents.policies import random_tf_policy\n",
    "from tf_agents.replay_buffers import tf_uniform_replay_buffer\n",
    "from tf_agents.trajectories import trajectory\n",
    "from tf_agents.specs import array_spec\n",
    "from tf_agents.policies import policy_saver\n",
    "from tf_agents.agents.ppo import ppo_agent\n",
    "from tf_agents.networks import actor_distribution_network, value_network\n",
    "\n",
    "import matplotlib.pyplot as plt"
   ]
  },
  {
   "cell_type": "markdown",
   "id": "c1ff98d1",
   "metadata": {},
   "source": [
    "Checking GPU detection"
   ]
  },
  {
   "cell_type": "code",
   "execution_count": 3,
   "id": "d7d874e4",
   "metadata": {},
   "outputs": [
    {
     "name": "stdout",
     "output_type": "stream",
     "text": [
      "[PhysicalDevice(name='/physical_device:GPU:0', device_type='GPU')]\n"
     ]
    },
    {
     "name": "stderr",
     "output_type": "stream",
     "text": [
      "2025-08-16 23:19:48.255118: I external/local_xla/xla/stream_executor/cuda/cuda_executor.cc:887] could not open file to read NUMA node: /sys/bus/pci/devices/0000:01:00.0/numa_node\n",
      "Your kernel may have been built without NUMA support.\n",
      "2025-08-16 23:19:48.498615: I external/local_xla/xla/stream_executor/cuda/cuda_executor.cc:887] could not open file to read NUMA node: /sys/bus/pci/devices/0000:01:00.0/numa_node\n",
      "Your kernel may have been built without NUMA support.\n",
      "2025-08-16 23:19:48.498741: I external/local_xla/xla/stream_executor/cuda/cuda_executor.cc:887] could not open file to read NUMA node: /sys/bus/pci/devices/0000:01:00.0/numa_node\n",
      "Your kernel may have been built without NUMA support.\n"
     ]
    }
   ],
   "source": [
    "print(tf.config.list_physical_devices('GPU'))"
   ]
  },
  {
   "cell_type": "markdown",
   "id": "e79e48b5",
   "metadata": {},
   "source": [
    "**Establishing connection with Unity environment**"
   ]
  },
  {
   "cell_type": "code",
   "execution_count": 161,
   "id": "21070382",
   "metadata": {},
   "outputs": [],
   "source": [
    "env.close()"
   ]
  },
  {
   "cell_type": "code",
   "execution_count": 32,
   "id": "88d95eab",
   "metadata": {},
   "outputs": [],
   "source": [
    "engine_config_channel = EngineConfigurationChannel()\n",
    "\n",
    "env = UnityEnvironment(\n",
    "    file_name=None,\n",
    "    worker_id=0,\n",
    "    base_port=5004,\n",
    "    side_channels=[engine_config_channel]\n",
    ")"
   ]
  },
  {
   "cell_type": "code",
   "execution_count": 4,
   "id": "7745b4e0",
   "metadata": {},
   "outputs": [
    {
     "name": "stdout",
     "output_type": "stream",
     "text": [
      "Behavior: RobotBehaviour?team=0\n",
      "Action branches: (5,)\n",
      "Observation shapes: [(45,), (12,)]\n",
      "Active agents: 1\n"
     ]
    }
   ],
   "source": [
    "env.reset()\n",
    "behavior_names = list(env.behavior_specs)\n",
    "behavior_name = behavior_names[0]\n",
    "behavior_spec = env.behavior_specs[behavior_name]\n",
    "\n",
    "print(f\"Behavior: {behavior_name}\")\n",
    "print(f\"Action branches: {behavior_spec.action_spec.discrete_branches}\")\n",
    "print(f\"Observation shapes: {[obs.shape for obs in behavior_spec.observation_specs]}\")\n",
    "\n",
    "decision_steps, terminal_steps = env.get_steps(behavior_name)\n",
    "print(f\"Active agents: {len(decision_steps)}\")"
   ]
  },
  {
   "cell_type": "markdown",
   "id": "751d26ee",
   "metadata": {},
   "source": [
    "### Action Space\n",
    "- **5 discrete actions** corresponding to possible movements:\n",
    "  - `0`: Do nothing\n",
    "  - `1`: Go right  \n",
    "  - `2`: Go left\n",
    "  - `3`: Go forward\n",
    "  - `4`: Go backwards\n",
    "\n",
    "### Observation Space\n",
    "\n",
    "#### Ray Perception (45 dimensions)\n",
    "- **45 values** from ML-Agents Ray Perception Sensor 3D component\n",
    "- Detects tags and distances in the environment. It detects the tags: Floor, GoodSphere, Badsphere. The Sensor contains 9 rays, each contains these following 5 observations:\n",
    "  - GoodSphere: `0` not detected, `1` detected\n",
    "  - BadSphere: `0` not detected, `1` detected\n",
    "  - Floor: `0` not detected, `1` detected\n",
    "  - No-hit flag: `1` didn't detect anything, `1` detected something\n",
    "  - Distance: varies from `0`(close) to `1`(far)\n",
    "\n",
    "#### Agent State (12 dimensions)\n",
    "- **12 normalized values** divided as follows:\n",
    "  - Position: `x`, `z` coordinates\n",
    "  - Velocity: `x`, `z` velocity components  \n",
    "  - Rotation: 4 one-hot encoded values `forward` `backwards` `left` `right`\n",
    "  - Distances to floor bounds: `top`, `bottom`, `right`, `left` \n",
    "\n",
    "**Total observation size:** 57\n",
    "\n",
    "---"
   ]
  },
  {
   "cell_type": "code",
   "execution_count": 5,
   "id": "17cd20f7",
   "metadata": {},
   "outputs": [],
   "source": [
    "action_size = 5\n",
    "state_size = 57"
   ]
  },
  {
   "cell_type": "markdown",
   "id": "7955b847",
   "metadata": {},
   "source": [
    "Preparing a get_state function for model training and inference, that is responsible for getting the agent's state at the current step and returning information which will later be used by the model :\n",
    "- state (55,) : agent's state at the current step\n",
    "- reward (float) : reward of the current step\n",
    "- done (boolean) : whether the episode is terminated at the current step"
   ]
  },
  {
   "cell_type": "code",
   "execution_count": 8,
   "id": "b06a9cc6",
   "metadata": {},
   "outputs": [],
   "source": [
    "def get_state():\n",
    "    decision_steps, terminal_steps = env.get_steps(behavior_name)\n",
    "    \n",
    "    if len(decision_steps) > 0:\n",
    "        obs1 = decision_steps.obs[0][0] #Ray perception sensor observations\n",
    "        obs2 = decision_steps.obs[1][0] #Agent state observations\n",
    "        state = np.concatenate([obs1, obs2]) #Combine observations for correct DQN input format\n",
    "        return state, decision_steps.reward[0], False\n",
    "    \n",
    "    elif len(terminal_steps) > 0:\n",
    "        # Episode ended\n",
    "        obs1 = terminal_steps.obs[0][0]\n",
    "        obs2 = terminal_steps.obs[1][0] \n",
    "        state = np.concatenate([obs1, obs2])\n",
    "        return state, terminal_steps.reward[0], True\n",
    "    \n",
    "    return None, 0, False\n"
   ]
  },
  {
   "cell_type": "markdown",
   "id": "dc13a5b4",
   "metadata": {},
   "source": [
    "**Making a random Neural Network**"
   ]
  },
  {
   "cell_type": "code",
   "execution_count": 8,
   "id": "3768e999",
   "metadata": {},
   "outputs": [
    {
     "name": "stderr",
     "output_type": "stream",
     "text": [
      "2025-08-16 23:20:15.022399: I external/local_xla/xla/stream_executor/cuda/cuda_executor.cc:887] could not open file to read NUMA node: /sys/bus/pci/devices/0000:01:00.0/numa_node\n",
      "Your kernel may have been built without NUMA support.\n",
      "2025-08-16 23:20:15.022522: I external/local_xla/xla/stream_executor/cuda/cuda_executor.cc:887] could not open file to read NUMA node: /sys/bus/pci/devices/0000:01:00.0/numa_node\n",
      "Your kernel may have been built without NUMA support.\n",
      "2025-08-16 23:20:15.022545: I external/local_xla/xla/stream_executor/cuda/cuda_executor.cc:887] could not open file to read NUMA node: /sys/bus/pci/devices/0000:01:00.0/numa_node\n",
      "Your kernel may have been built without NUMA support.\n",
      "2025-08-16 23:20:15.163690: I external/local_xla/xla/stream_executor/cuda/cuda_executor.cc:887] could not open file to read NUMA node: /sys/bus/pci/devices/0000:01:00.0/numa_node\n",
      "Your kernel may have been built without NUMA support.\n",
      "2025-08-16 23:20:15.163759: I external/local_xla/xla/stream_executor/cuda/cuda_executor.cc:887] could not open file to read NUMA node: /sys/bus/pci/devices/0000:01:00.0/numa_node\n",
      "Your kernel may have been built without NUMA support.\n",
      "2025-08-16 23:20:15.163768: I tensorflow/core/common_runtime/gpu/gpu_device.cc:2022] Could not identify NUMA node of platform GPU id 0, defaulting to 0.  Your kernel may not have been built with NUMA support.\n",
      "2025-08-16 23:20:15.163797: I external/local_xla/xla/stream_executor/cuda/cuda_executor.cc:887] could not open file to read NUMA node: /sys/bus/pci/devices/0000:01:00.0/numa_node\n",
      "Your kernel may have been built without NUMA support.\n",
      "2025-08-16 23:20:15.163817: I tensorflow/core/common_runtime/gpu/gpu_device.cc:1929] Created device /job:localhost/replica:0/task:0/device:GPU:0 with 1767 MB memory:  -> device: 0, name: NVIDIA GeForce RTX 3050 Laptop GPU, pci bus id: 0000:01:00.0, compute capability: 8.6\n"
     ]
    }
   ],
   "source": [
    "model = tf.keras.Sequential([\n",
    "    tf.keras.layers.Dense(256, activation='relu', input_shape=(state_size,)),\n",
    "    tf.keras.layers.Dense(512, activation='relu'),\n",
    "    tf.keras.layers.Dense(256, activation='relu'),\n",
    "    tf.keras.layers.Dense(128, activation='relu'),\n",
    "    tf.keras.layers.Dense(action_size, activation='linear')\n",
    "])"
   ]
  },
  {
   "cell_type": "code",
   "execution_count": 9,
   "id": "9992709f",
   "metadata": {},
   "outputs": [
    {
     "name": "stdout",
     "output_type": "stream",
     "text": [
      "Model: \"sequential\"\n",
      "_________________________________________________________________\n",
      " Layer (type)                Output Shape              Param #   \n",
      "=================================================================\n",
      " dense (Dense)               (None, 256)               14336     \n",
      "                                                                 \n",
      " dense_1 (Dense)             (None, 512)               131584    \n",
      "                                                                 \n",
      " dense_2 (Dense)             (None, 256)               131328    \n",
      "                                                                 \n",
      " dense_3 (Dense)             (None, 128)               32896     \n",
      "                                                                 \n",
      " dense_4 (Dense)             (None, 5)                 645       \n",
      "                                                                 \n",
      "=================================================================\n",
      "Total params: 310789 (1.19 MB)\n",
      "Trainable params: 310789 (1.19 MB)\n",
      "Non-trainable params: 0 (0.00 Byte)\n",
      "_________________________________________________________________\n"
     ]
    }
   ],
   "source": [
    "model.summary()"
   ]
  },
  {
   "cell_type": "code",
   "execution_count": 10,
   "id": "d540d39d",
   "metadata": {},
   "outputs": [
    {
     "data": {
      "text/plain": [
       "array([ 0.0681653 , -0.02005782, -0.05309546, -0.03974345, -0.0163302 ,\n",
       "       -0.07047646,  0.05911955, -0.11428588,  0.12264444,  0.08044188,\n",
       "       -0.13879119, -0.04777802,  0.05082954, -0.13628846, -0.01311588,\n",
       "       -0.1346899 , -0.13345994,  0.0777429 , -0.09758136, -0.0744898 ,\n",
       "        0.05861302, -0.13591236, -0.11990199,  0.09239155,  0.00921832,\n",
       "        0.10093576, -0.08389317, -0.12106803, -0.12084341,  0.01047648,\n",
       "       -0.00533745,  0.0417757 , -0.05224332, -0.12261838,  0.09011672,\n",
       "       -0.12578855, -0.03288994, -0.0472386 ,  0.02029659, -0.04158714,\n",
       "       -0.06799771, -0.08428632, -0.1051219 , -0.0520586 , -0.10774223,\n",
       "        0.11603223,  0.0664769 ,  0.00097778, -0.08391118, -0.10806252,\n",
       "        0.12235253, -0.04933532, -0.08178091,  0.03291407, -0.07054544],\n",
       "      dtype=float32)"
      ]
     },
     "execution_count": 10,
     "metadata": {},
     "output_type": "execute_result"
    }
   ],
   "source": [
    "l1_weights = model.get_weights()[0]\n",
    "l1_weights[:,0] #weights of the first neuron of the first layer"
   ]
  },
  {
   "cell_type": "markdown",
   "id": "30678d9b",
   "metadata": {},
   "source": [
    "Running the model with the initial random weights"
   ]
  },
  {
   "cell_type": "code",
   "execution_count": 11,
   "id": "33ad2d7c",
   "metadata": {},
   "outputs": [
    {
     "name": "stderr",
     "output_type": "stream",
     "text": [
      "2025-08-16 23:20:22.884867: I external/local_tsl/tsl/platform/default/subprocess.cc:304] Start cannot spawn child process: No such file or directory\n"
     ]
    },
    {
     "name": "stdout",
     "output_type": "stream",
     "text": [
      "Step 0: Action 3, Reward 0.00\n",
      "Step 10: Action 1, Reward 0.00\n",
      "Step 20: Action 2, Reward 0.00\n",
      "Step 30: Action 2, Reward 0.00\n",
      "Step 40: Action 4, Reward 0.00\n",
      "Step 50: Action 1, Reward 0.00\n",
      "Step 60: Action 0, Reward -25.00\n",
      "Step 70: Action 0, Reward -25.00\n",
      "Step 80: Action 0, Reward -25.00\n",
      "Step 90: Action 0, Reward -25.00\n"
     ]
    }
   ],
   "source": [
    "for step in range(100): #Run for 100 steps\n",
    "    state, reward, done = get_state()\n",
    "    \n",
    "    if state is not None:\n",
    "        if done:\n",
    "            env.reset()\n",
    "        q_values = model.predict(np.expand_dims(state, axis=0), verbose=0)\n",
    "        action = np.argmax(q_values[0])  # Choose best action\n",
    "        \n",
    "        if step % 10 == 0: \n",
    "            print(f\"Step {step}: Action {action}, Reward {reward:.2f}\")\n",
    "        \n",
    "        # Send action to Unity\n",
    "        action_tuple = ActionTuple(discrete=np.array([[action]]))\n",
    "        env.set_actions(behavior_name, action_tuple)\n",
    "        env.step()\n",
    "    else:\n",
    "        env.close()\n",
    "    "
   ]
  },
  {
   "cell_type": "markdown",
   "id": "f0286db8",
   "metadata": {},
   "source": [
    "**Creating environment wrapper for TF agents**"
   ]
  },
  {
   "cell_type": "code",
   "execution_count": 6,
   "id": "9117ce3f",
   "metadata": {},
   "outputs": [],
   "source": [
    "class EnvironmentWrapper(py_environment.PyEnvironment):\n",
    "    def __init__(self, unity_env, behavior_name, get_state_func):\n",
    "        super().__init__()\n",
    "        self.unity_env = unity_env\n",
    "        self.behavior_name = behavior_name\n",
    "        self.get_state_func = get_state_func\n",
    "\n",
    "        self._action_spec = array_spec.BoundedArraySpec(\n",
    "            shape=(),\n",
    "            dtype=np.int32,\n",
    "            minimum=0,\n",
    "            maximum=4,\n",
    "            name='action'\n",
    "        )\n",
    "        self._observation_spec = array_spec.ArraySpec(\n",
    "            shape=(state_size,),\n",
    "            dtype=np.float32,\n",
    "            name='observation'\n",
    "        )\n",
    "\n",
    "        self._state = np.zeros(state_size, dtype=np.float32)\n",
    "        self._episode_ended = False\n",
    "\n",
    "    def action_spec(self):\n",
    "        return self._action_spec\n",
    "\n",
    "    def observation_spec(self):\n",
    "        return self._observation_spec\n",
    "\n",
    "    def _reset(self):\n",
    "        self.unity_env.reset()\n",
    "        self._episode_ended = False\n",
    "        state, _, _ = self.get_state_func()\n",
    "        if state is not None:\n",
    "            self._state = state.astype(np.float32)\n",
    "        return tf_agents.trajectories.time_step.restart(self._state)\n",
    "\n",
    "    def _step(self, action):\n",
    "        if self._episode_ended:\n",
    "            return self.reset()\n",
    "        \n",
    "        # Send action to Unity\n",
    "        action_tuple = ActionTuple(discrete=np.array([[action]]))\n",
    "        self.unity_env.set_actions(self.behavior_name, action_tuple)\n",
    "        self.unity_env.step()\n",
    "        \n",
    "        # Get new state\n",
    "        state, reward, done = self.get_state_func()\n",
    "\n",
    "        if state is not None:\n",
    "            self._state = state.astype(np.float32)\n",
    "        \n",
    "        if done:\n",
    "            self._episode_ended = True\n",
    "            return tf_agents.trajectories.time_step.termination(self._state, reward)\n",
    "        else:\n",
    "            return tf_agents.trajectories.time_step.transition(self._state, reward)"
   ]
  },
  {
   "cell_type": "code",
   "execution_count": 7,
   "id": "e94b1465",
   "metadata": {},
   "outputs": [
    {
     "ename": "NameError",
     "evalue": "name 'get_state' is not defined",
     "output_type": "error",
     "traceback": [
      "\u001b[0;31m---------------------------------------------------------------------------\u001b[0m",
      "\u001b[0;31mNameError\u001b[0m                                 Traceback (most recent call last)",
      "Cell \u001b[0;32mIn[7], line 1\u001b[0m\n\u001b[0;32m----> 1\u001b[0m env_wrapper \u001b[38;5;241m=\u001b[39m EnvironmentWrapper(env, behavior_name, \u001b[43mget_state\u001b[49m)\n\u001b[1;32m      2\u001b[0m tf_env \u001b[38;5;241m=\u001b[39m tf_py_environment\u001b[38;5;241m.\u001b[39mTFPyEnvironment(env_wrapper)\n",
      "\u001b[0;31mNameError\u001b[0m: name 'get_state' is not defined"
     ]
    }
   ],
   "source": [
    "env_wrapper = EnvironmentWrapper(env, behavior_name, get_state)\n",
    "tf_env = tf_py_environment.TFPyEnvironment(env_wrapper)"
   ]
  },
  {
   "cell_type": "markdown",
   "id": "c2157f31",
   "metadata": {},
   "source": [
    "**Setting the architecture of the Q-neural-networks**"
   ]
  },
  {
   "cell_type": "code",
   "execution_count": 149,
   "id": "1d0873d3",
   "metadata": {},
   "outputs": [],
   "source": [
    "q_net = q_network.QNetwork(\n",
    "    tf_env.observation_spec(),\n",
    "    tf_env.action_spec(),\n",
    "    fc_layer_params=(256, 512, 256, 128)\n",
    ")"
   ]
  },
  {
   "cell_type": "markdown",
   "id": "352f9818",
   "metadata": {},
   "source": [
    "**Creating the agent (Deep-Q-Network)**"
   ]
  },
  {
   "cell_type": "code",
   "execution_count": 150,
   "id": "68a27375",
   "metadata": {},
   "outputs": [],
   "source": [
    "train_step_counter = tf.Variable(0)\n",
    "optimizer = tf.keras.optimizers.Adam(learning_rate=0.001)\n",
    "\n",
    "agent = dqn_agent.DqnAgent(\n",
    "    tf_env.time_step_spec(),\n",
    "    tf_env.action_spec(),\n",
    "    q_network=q_net,\n",
    "    optimizer=optimizer,\n",
    "    td_errors_loss_fn=common.element_wise_squared_loss,\n",
    "    train_step_counter=train_step_counter,\n",
    "    epsilon_greedy=0.1,\n",
    "    target_update_period=100,\n",
    "    gamma=0.99 \n",
    ")\n",
    "\n",
    "agent.initialize()"
   ]
  },
  {
   "cell_type": "markdown",
   "id": "f8339232",
   "metadata": {},
   "source": [
    "**Creating the replay buffer**"
   ]
  },
  {
   "cell_type": "code",
   "execution_count": 151,
   "id": "446ee226",
   "metadata": {},
   "outputs": [],
   "source": [
    "replay_buffer = tf_uniform_replay_buffer.TFUniformReplayBuffer(\n",
    "    data_spec=agent.collect_data_spec,\n",
    "    batch_size=tf_env.batch_size,\n",
    "    max_length=100000\n",
    ")"
   ]
  },
  {
   "cell_type": "markdown",
   "id": "4b87fd74",
   "metadata": {},
   "source": [
    "**Creating policies**"
   ]
  },
  {
   "cell_type": "code",
   "execution_count": 152,
   "id": "45e6effa",
   "metadata": {},
   "outputs": [],
   "source": [
    "eval_policy = agent.policy # greedy: for testing and inference\n",
    "collect_policy = agent.collect_policy # Epsilon-greedy: for training and exploration\n",
    "random_policy = random_tf_policy.RandomTFPolicy(  # Completely random: for initial data collection\n",
    "    tf_env.time_step_spec(), \n",
    "    tf_env.action_spec()\n",
    ")"
   ]
  },
  {
   "cell_type": "markdown",
   "id": "559531be",
   "metadata": {},
   "source": [
    "**Data collection**"
   ]
  },
  {
   "cell_type": "code",
   "execution_count": null,
   "id": "442cdd92",
   "metadata": {},
   "outputs": [],
   "source": [
    "def collect_data(policy, steps, env, replay_buffer):\n",
    "    for i in range(steps):\n",
    "        time_step = env.current_time_step()\n",
    "        action_step = policy.action(time_step)\n",
    "        next_time_step = env.step(action_step.action)\n",
    "        traj = trajectory.from_transition(time_step, action_step, next_time_step)\n",
    "        replay_buffer.add_batch(traj)\n",
    "        if i % 100 == 0 and i > 0:\n",
    "            print(f\"Collected {i} steps\")"
   ]
  },
  {
   "cell_type": "markdown",
   "id": "537e7e72",
   "metadata": {},
   "source": [
    "### **Training the model**\n",
    " ##### **1<sup>st</sup> round of training**\n",
    "During this round, the agent learns not to fall. We remove the items from the environment and we change the reward like this:\n",
    "- Falling : -100\n",
    "- Doing nothing : -50 (to encourage the agent to learn to move without falling)"
   ]
  },
  {
   "cell_type": "markdown",
   "id": "4352f2e4",
   "metadata": {},
   "source": [
    "Collecting initial data randomly"
   ]
  },
  {
   "cell_type": "code",
   "execution_count": 163,
   "id": "b4957487",
   "metadata": {},
   "outputs": [],
   "source": [
    "#clearing the replay buffer in case it has some experiments from previous collections\n",
    "replay_buffer.clear()"
   ]
  },
  {
   "cell_type": "code",
   "execution_count": null,
   "id": "0e3a821b",
   "metadata": {},
   "outputs": [
    {
     "name": "stdout",
     "output_type": "stream",
     "text": [
      "Collected 100 steps\n",
      "Collected 200 steps\n",
      "Collected 300 steps\n",
      "Collected 400 steps\n",
      "Collected 500 steps\n",
      "Collected 600 steps\n",
      "Collected 700 steps\n",
      "Collected 800 steps\n",
      "Collected 900 steps\n"
     ]
    }
   ],
   "source": [
    "engine_config_channel.set_configuration_parameters(time_scale=5)\n",
    "env.reset()\n",
    "collect_data(random_policy, 1000, tf_env, replay_buffer)"
   ]
  },
  {
   "cell_type": "code",
   "execution_count": null,
   "id": "092f3f88",
   "metadata": {},
   "outputs": [],
   "source": [
    "num_iterations = 10000\n",
    "collect_steps_per_iteration = 4\n",
    "batch_size = 64\n",
    "speed = 100\n",
    "eval_interval = 200\n",
    "\n",
    "dataset = replay_buffer.as_dataset(\n",
    "    num_parallel_calls=3,\n",
    "    sample_batch_size=batch_size,\n",
    "    num_steps=2\n",
    ").prefetch(3)\n",
    "\n",
    "iterator = iter(dataset)"
   ]
  },
  {
   "cell_type": "code",
   "execution_count": null,
   "id": "80ad6a57",
   "metadata": {},
   "outputs": [
    {
     "name": "stdout",
     "output_type": "stream",
     "text": [
      "Training step 200: Loss = 0.7196 | Env step = 796\n",
      "Evaluation episode Return: -100.00\n",
      "Training step 400: Loss = 0.5428 | Env step = 1596\n",
      "Evaluation episode Return: 0.00\n",
      "Training step 600: Loss = 0.5635 | Env step = 2396\n",
      "Evaluation episode Return: -100.00\n",
      "Training step 800: Loss = 0.1308 | Env step = 3196\n",
      "Evaluation episode Return: -100.00\n",
      "Training step 1000: Loss = 0.0667 | Env step = 3996\n",
      "Evaluation episode Return: -100.00\n",
      "Training step 1200: Loss = 0.0141 | Env step = 4796\n",
      "Evaluation episode Return: -100.00\n",
      "Training step 1400: Loss = 0.4820 | Env step = 5596\n",
      "Evaluation episode Return: -100.00\n",
      "Training step 1600: Loss = 0.0545 | Env step = 6396\n",
      "Evaluation episode Return: -100.00\n",
      "Training step 1800: Loss = 0.0560 | Env step = 7196\n",
      "Evaluation episode Return: -100.00\n",
      "Training step 2000: Loss = 0.0557 | Env step = 7996\n",
      "Evaluation episode Return: -100.00\n",
      "Training step 2200: Loss = 0.0395 | Env step = 8796\n",
      "Evaluation episode Return: -100.00\n",
      "Training step 2400: Loss = 0.0976 | Env step = 9596\n",
      "Evaluation episode Return: -100.00\n",
      "Training step 2600: Loss = 0.1084 | Env step = 10396\n",
      "Evaluation episode Return: 0.00\n",
      "Training step 2800: Loss = 0.0093 | Env step = 11196\n",
      "Evaluation episode Return: -100.00\n",
      "Training step 3000: Loss = 0.2186 | Env step = 11996\n",
      "Evaluation episode Return: -100.00\n",
      "Training step 3200: Loss = 0.1078 | Env step = 12796\n",
      "Evaluation episode Return: -100.00\n",
      "Training step 3400: Loss = 0.0510 | Env step = 13596\n",
      "Evaluation episode Return: -100.00\n",
      "Training step 3600: Loss = 0.0175 | Env step = 14396\n",
      "Evaluation episode Return: -100.00\n",
      "Training step 3800: Loss = 21.7403 | Env step = 15196\n",
      "Evaluation episode Return: -100.00\n",
      "Training step 4000: Loss = 0.0943 | Env step = 15996\n",
      "Evaluation episode Return: 0.00\n",
      "Training step 4200: Loss = 1.0879 | Env step = 16796\n",
      "Evaluation episode Return: 0.00\n",
      "Training step 4400: Loss = 0.0866 | Env step = 17596\n",
      "Evaluation episode Return: -100.00\n",
      "Training step 4600: Loss = 0.0916 | Env step = 18396\n",
      "Evaluation episode Return: -100.00\n",
      "Training step 4800: Loss = 0.1795 | Env step = 19196\n",
      "Evaluation episode Return: -100.00\n",
      "Training step 5000: Loss = 0.0205 | Env step = 19996\n",
      "Evaluation episode Return: -100.00\n",
      "Training step 5200: Loss = 0.0022 | Env step = 20796\n",
      "Evaluation episode Return: -100.00\n",
      "Training step 5400: Loss = 0.1954 | Env step = 21596\n",
      "Evaluation episode Return: -100.00\n",
      "Training step 5600: Loss = 0.3693 | Env step = 22396\n",
      "Evaluation episode Return: -100.00\n",
      "Training step 5800: Loss = 0.1413 | Env step = 23196\n",
      "Evaluation episode Return: 0.00\n",
      "Training step 6000: Loss = 0.0349 | Env step = 23996\n",
      "Evaluation episode Return: -100.00\n",
      "Training step 6200: Loss = 0.0192 | Env step = 24796\n",
      "Evaluation episode Return: 0.00\n",
      "Training step 6400: Loss = 0.0570 | Env step = 25596\n",
      "Evaluation episode Return: -100.00\n",
      "Training step 6600: Loss = 0.0399 | Env step = 26396\n",
      "Evaluation episode Return: -100.00\n",
      "Training step 6800: Loss = 0.4489 | Env step = 27196\n",
      "Evaluation episode Return: -100.00\n",
      "Training step 7000: Loss = 0.0786 | Env step = 27996\n",
      "Evaluation episode Return: -100.00\n",
      "Training step 7200: Loss = 0.0995 | Env step = 28796\n",
      "Evaluation episode Return: -100.00\n",
      "Training step 7400: Loss = 0.0346 | Env step = 29596\n",
      "Evaluation episode Return: -100.00\n",
      "Training step 7600: Loss = 1.0579 | Env step = 30396\n",
      "Evaluation episode Return: -100.00\n",
      "Training step 7800: Loss = 0.3514 | Env step = 31196\n",
      "Evaluation episode Return: -100.00\n",
      "Training step 8000: Loss = 0.0104 | Env step = 31996\n",
      "Evaluation episode Return: -100.00\n",
      "Training step 8200: Loss = 0.0061 | Env step = 32796\n",
      "Evaluation episode Return: -100.00\n",
      "Training step 8400: Loss = 0.0107 | Env step = 33596\n",
      "Evaluation episode Return: -100.00\n",
      "Training step 8600: Loss = 0.0022 | Env step = 34396\n",
      "Evaluation episode Return: 0.00\n",
      "Training step 8800: Loss = 0.0008 | Env step = 35196\n",
      "Evaluation episode Return: -100.00\n",
      "Training step 9000: Loss = 61.0681 | Env step = 35996\n",
      "Evaluation episode Return: -100.00\n",
      "Training step 9200: Loss = 0.1541 | Env step = 36796\n",
      "Evaluation episode Return: -100.00\n",
      "Training step 9400: Loss = 0.0079 | Env step = 37596\n",
      "Evaluation episode Return: -100.00\n",
      "Training step 9600: Loss = 0.0036 | Env step = 38396\n",
      "Evaluation episode Return: -100.00\n",
      "Training step 9800: Loss = 0.0151 | Env step = 39196\n",
      "Evaluation episode Return: 0.00\n",
      "Training step 10000: Loss = 0.0135 | Env step = 39996\n",
      "Evaluation episode Return: 0.00\n",
      "Training complete\n"
     ]
    }
   ],
   "source": [
    "train_losses = []\n",
    "episode_returns = []\n",
    "\n",
    "engine_config_channel.set_configuration_parameters(time_scale=speed)\n",
    "env.reset()\n",
    "\n",
    "for iteration in range(num_iterations):\n",
    "    #collect data for 4 steps\n",
    "    collect_data(collect_policy, collect_steps_per_iteration, tf_env, replay_buffer)\n",
    "\n",
    "    # Sample a random batch from the replay buffer and train the agent\n",
    "    experience, _ = next(iterator)\n",
    "    train_loss = agent.train(experience).loss\n",
    "    \n",
    "    training_step = agent.train_step_counter.numpy()\n",
    "\n",
    "    # Log and evaluate each 200 training step\n",
    "    if training_step % eval_interval == 0:\n",
    "        print(f'Training step {training_step}: Loss = {train_loss:.4f} | Env step = {iteration * collect_steps_per_iteration}')\n",
    "        train_losses.append(train_loss.numpy())\n",
    "        \n",
    "        episode_return = 0.0\n",
    "        steps_in_episode = 0\n",
    "\n",
    "        while not time_step.is_last() and steps_in_episode < 500:\n",
    "            action_step = eval_policy.action(time_step)\n",
    "            time_step = tf_env.step(action_step.action)\n",
    "            episode_return += time_step.reward\n",
    "            steps_in_episode += 1\n",
    "            \n",
    "        episode_returns.append(episode_return.numpy()[0])\n",
    "        print(f'Evaluation episode Return: {episode_return.numpy()[0]:.2f}')\n",
    "\n",
    "print(\"Training complete\")"
   ]
  },
  {
   "cell_type": "markdown",
   "id": "00e478db",
   "metadata": {},
   "source": [
    "Visualizing training information"
   ]
  },
  {
   "cell_type": "code",
   "execution_count": 167,
   "id": "53468dbd",
   "metadata": {},
   "outputs": [
    {
     "data": {
      "image/png": "[encoded data removed]",
      "text/plain": [
       "<Figure size 1500x500 with 2 Axes>"
      ]
     },
     "metadata": {},
     "output_type": "display_data"
    }
   ],
   "source": [
    "fig, (ax1, ax2) = plt.subplots(1, 2, figsize=(15, 5))\n",
    "\n",
    "ax1.plot(train_losses)\n",
    "ax1.set_title('Training Loss Over Time')\n",
    "ax1.set_xlabel('Training step x200')\n",
    "ax1.set_ylabel('Loss')\n",
    "ax1.grid(True)\n",
    "\n",
    "ax2.plot(episode_returns)\n",
    "ax2.set_title('Episode Returns Over Time')\n",
    "ax2.set_xlabel('Training step x200')\n",
    "ax2.set_ylabel('Episode Return')\n",
    "ax2.grid(True)\n",
    "\n",
    "plt.tight_layout()\n",
    "plt.show()"
   ]
  },
  {
   "cell_type": "markdown",
   "id": "2a12d9c3",
   "metadata": {},
   "source": [
    "Running evaluation episodes"
   ]
  },
  {
   "cell_type": "code",
   "execution_count": null,
   "id": "ee1eaa3a",
   "metadata": {},
   "outputs": [
    {
     "name": "stdout",
     "output_type": "stream",
     "text": [
      "Episode 1: Return = 0.00, Steps = 400\n",
      "Episode 2: Return = 0.00, Steps = 400\n",
      "Episode 3: Return = 0.00, Steps = 400\n",
      "Episode 4: Return = 0.00, Steps = 400\n",
      "Episode 5: Return = 0.00, Steps = 400\n",
      "Episode 6: Return = 0.00, Steps = 400\n",
      "Episode 7: Return = 0.00, Steps = 400\n",
      "Episode 8: Return = 0.00, Steps = 400\n",
      "Episode 9: Return = 0.00, Steps = 400\n",
      "Episode 10: Return = 0.00, Steps = 400\n",
      "Average Return: 0.00\n",
      "Average Episode Length: 400.0 steps\n",
      "Best Episode: 0.00\n",
      "Worst Episode: 0.00\n"
     ]
    }
   ],
   "source": [
    "total_returns = []\n",
    "total_steps = []\n",
    "\n",
    "engine_config_channel.set_configuration_parameters(time_scale=2)\n",
    "for episode in range(10):\n",
    "    time_step = tf_env.reset()\n",
    "    episode_return = 0.0\n",
    "    steps_in_episode = 0\n",
    "\n",
    "    while not time_step.is_last():\n",
    "        action_step = eval_policy.action(time_step)\n",
    "        time_step = tf_env.step(action_step.action)\n",
    "        episode_return += time_step.reward\n",
    "        steps_in_episode += 1\n",
    "    \n",
    "    total_returns.append(episode_return.numpy()[0])\n",
    "    total_steps.append(steps_in_episode)\n",
    "    print(f\"Episode {episode+1}: Return = {episode_return.numpy()[0]:.2f}, Steps = {steps_in_episode}\")\n",
    "\n",
    "avg_return = np.mean(total_returns)\n",
    "avg_steps = np.mean(total_steps)\n",
    "std_return = np.std(total_returns)\n",
    "\n",
    "print(f\"Average Return: {avg_return:.2f}\")\n",
    "print(f\"Average Episode Length: {avg_steps:.1f} steps\")\n",
    "print(f\"Best Episode: {max(total_returns):.2f}\")\n",
    "print(f\"Worst Episode: {min(total_returns):.2f}\")"
   ]
  },
  {
   "cell_type": "markdown",
   "id": "6c0cf18a",
   "metadata": {},
   "source": [
    "Visualizing evaluation information"
   ]
  },
  {
   "cell_type": "code",
   "execution_count": 169,
   "id": "825692df",
   "metadata": {},
   "outputs": [
    {
     "data": {
      "image/png": "[encoded data removed]",
      "text/plain": [
       "<Figure size 1500x500 with 2 Axes>"
      ]
     },
     "metadata": {},
     "output_type": "display_data"
    }
   ],
   "source": [
    "fig, (ax1, ax2) = plt.subplots(1, 2, figsize=(15, 5))\n",
    "\n",
    "ax1.plot(total_returns)\n",
    "ax1.set_title('Evaluation returns')\n",
    "ax1.set_xlabel('Evaluation step')\n",
    "ax1.set_ylabel('Return')\n",
    "ax1.grid(True)\n",
    "\n",
    "ax2.plot(total_steps)\n",
    "ax2.set_title('Evaluation duration (in steps)')\n",
    "ax2.set_xlabel('Evaluation step')\n",
    "ax2.set_ylabel('Episode Length (steps)')\n",
    "ax2.grid(True)"
   ]
  },
  {
   "cell_type": "code",
   "execution_count": 176,
   "id": "37cc70e8",
   "metadata": {},
   "outputs": [],
   "source": [
    "env.close()"
   ]
  },
  {
   "cell_type": "markdown",
   "id": "5a121a04",
   "metadata": {},
   "source": [
    "Saving the No-Fall policy and checkpoint"
   ]
  },
  {
   "cell_type": "code",
   "execution_count": 170,
   "id": "8973cdd2",
   "metadata": {},
   "outputs": [
    {
     "name": "stdout",
     "output_type": "stream",
     "text": [
      "INFO:tensorflow:Assets written to: ./saved_models/no_fall_agent/assets\n"
     ]
    },
    {
     "name": "stderr",
     "output_type": "stream",
     "text": [
      "/home/louay/miniforge3/envs/DQL_env/lib/python3.10/site-packages/tensorflow/python/saved_model/nested_structure_coder.py:458: UserWarning: Encoding a StructuredValue with type tfp.distributions.Deterministic_ACTTypeSpec; loading this StructuredValue will require that this type be imported and registered.\n",
      "  warnings.warn(\"Encoding a StructuredValue with type %s; loading this \"\n",
      "INFO:tensorflow:Assets written to: ./saved_models/no_fall_agent/assets\n"
     ]
    },
    {
     "data": {
      "text/plain": [
       "'./checkpoints/no_fall_checkpoint-1'"
      ]
     },
     "execution_count": 170,
     "metadata": {},
     "output_type": "execute_result"
    }
   ],
   "source": [
    "no_fall_policy_saver = policy_saver.PolicySaver(agent.policy)\n",
    "no_fall_policy_saver.save('./saved_models/no_fall_agent')\n",
    "\n",
    "# Save the entire agent state for continued training\n",
    "checkpoint = tf.train.Checkpoint(\n",
    "    q_net=agent._q_network,\n",
    "    target_q_net=agent._target_q_network,\n",
    "    optimizer=agent._optimizer,\n",
    "    train_step=agent.train_step_counter\n",
    ")\n",
    "checkpoint.save('./checkpoints/no_fall_checkpoint')"
   ]
  },
  {
   "cell_type": "markdown",
   "id": "48ae4114",
   "metadata": {},
   "source": [
    "##### **2<sup>nd</sup> round of training**\n",
    "During this round, the agent learns to collect good items (green spheres). We remove the red spheres from the environment and we change the rewards like this:\n",
    "- Falling: -100\n",
    "- Doing nothing: -5 (encouraging movement)\n",
    "- Collecting green sphere: +50\n",
    "- Getting closer to spheres: + (20 x (1 - distance to closest green sphere))"
   ]
  },
  {
   "cell_type": "markdown",
   "id": "eb33c220",
   "metadata": {},
   "source": [
    "Changing the get_state implementation to add the reward for getting closer to green spheres"
   ]
  },
  {
   "cell_type": "code",
   "execution_count": 224,
   "id": "fef2984b",
   "metadata": {},
   "outputs": [],
   "source": [
    "def get_state_2():\n",
    "    decision_steps, terminal_steps = env.get_steps(behavior_name)\n",
    "    \n",
    "    if len(decision_steps) > 0:\n",
    "        obs1 = decision_steps.obs[0][0]\n",
    "        obs2 = decision_steps.obs[1][0]\n",
    "        reward = decision_steps.reward[0]\n",
    "        \n",
    "        ray_data = obs1.reshape(9, 5)\n",
    "        sphere_distances = ray_data[ray_data[:, 0] > 0, 4]\n",
    "\n",
    "        if len(sphere_distances) > 0:\n",
    "            closest_sphere_dist = np.min(sphere_distances)\n",
    "            reward += 3 * (1 - closest_sphere_dist)\n",
    "\n",
    "        state = np.concatenate([obs1, obs2])\n",
    "        return state, reward, False\n",
    "        \n",
    "    elif len(terminal_steps) > 0:\n",
    "        obs1 = terminal_steps.obs[0][0]\n",
    "        obs2 = terminal_steps.obs[1][0]\n",
    "        state = np.concatenate([obs1, obs2])\n",
    "        return state, terminal_steps.reward[0], True\n",
    "    \n",
    "    return None, 0, False"
   ]
  },
  {
   "cell_type": "markdown",
   "id": "5df85555",
   "metadata": {},
   "source": [
    "Creating a new environment wrapper that supports the new get_state function"
   ]
  },
  {
   "cell_type": "code",
   "execution_count": 225,
   "id": "b98bf25b",
   "metadata": {},
   "outputs": [],
   "source": [
    "env_wrapper_2 = EnvironmentWrapper(env, behavior_name, get_state_2)\n",
    "tf_env_2 = tf_py_environment.TFPyEnvironment(env_wrapper_2)"
   ]
  },
  {
   "cell_type": "markdown",
   "id": "f6e58c3a",
   "metadata": {},
   "source": [
    "Creating second agent with slightly different hyperparameters (for fine-tuning)"
   ]
  },
  {
   "cell_type": "code",
   "execution_count": 226,
   "id": "ee670791",
   "metadata": {},
   "outputs": [],
   "source": [
    "q_net_2 = q_network.QNetwork(\n",
    "    tf_env_2.observation_spec(),\n",
    "    tf_env_2.action_spec(),\n",
    "    fc_layer_params=(256, 512, 256, 128)\n",
    ")\n",
    "\n",
    "train_step_counter_2 = tf.Variable(0)\n",
    "optimizer_2 = tf.keras.optimizers.Adam(learning_rate=0.01)\n",
    "\n",
    "agent_2 = dqn_agent.DqnAgent(\n",
    "    tf_env_2.time_step_spec(),\n",
    "    tf_env_2.action_spec(),\n",
    "    q_network=q_net_2,\n",
    "    optimizer=optimizer_2,\n",
    "    td_errors_loss_fn=common.element_wise_squared_loss,\n",
    "    train_step_counter=train_step_counter_2,\n",
    "    epsilon_greedy=0.9,\n",
    "    target_update_period=100,\n",
    "    gamma=0.99\n",
    ")\n",
    "\n",
    "agent_2.initialize()"
   ]
  },
  {
   "cell_type": "markdown",
   "id": "e46ecf74",
   "metadata": {},
   "source": [
    "Restoring the No-Fall agent checkpoint"
   ]
  },
  {
   "cell_type": "code",
   "execution_count": 206,
   "id": "a595d327",
   "metadata": {},
   "outputs": [
    {
     "ename": "ValueError",
     "evalue": "Received incompatible tensor with shape (55, 256) when attempting to restore variable with shape (57, 256) and name QNetwork/EncodingNetwork/dense_215/kernel:0.",
     "output_type": "error",
     "traceback": [
      "\u001b[0;31m---------------------------------------------------------------------------\u001b[0m",
      "\u001b[0;31mValueError\u001b[0m                                Traceback (most recent call last)",
      "File \u001b[0;32m~/miniforge3/envs/DQL_env/lib/python3.10/site-packages/tensorflow/python/ops/resource_variable_ops.py:782\u001b[0m, in \u001b[0;36mBaseResourceVariable._restore_from_tensors\u001b[0;34m(self, restored_tensors)\u001b[0m\n\u001b[1;32m    781\u001b[0m \u001b[38;5;28;01mtry\u001b[39;00m:\n\u001b[0;32m--> 782\u001b[0m   assigned_variable \u001b[38;5;241m=\u001b[39m \u001b[43mshape_safe_assign_variable_handle\u001b[49m\u001b[43m(\u001b[49m\n\u001b[1;32m    783\u001b[0m \u001b[43m      \u001b[49m\u001b[38;5;28;43mself\u001b[39;49m\u001b[38;5;241;43m.\u001b[39;49m\u001b[43mhandle\u001b[49m\u001b[43m,\u001b[49m\u001b[43m \u001b[49m\u001b[38;5;28;43mself\u001b[39;49m\u001b[38;5;241;43m.\u001b[39;49m\u001b[43mshape\u001b[49m\u001b[43m,\u001b[49m\u001b[43m \u001b[49m\u001b[43mrestored_tensor\u001b[49m\u001b[43m)\u001b[49m\n\u001b[1;32m    784\u001b[0m \u001b[38;5;28;01mexcept\u001b[39;00m \u001b[38;5;167;01mValueError\u001b[39;00m \u001b[38;5;28;01mas\u001b[39;00m e:\n",
      "File \u001b[0;32m~/miniforge3/envs/DQL_env/lib/python3.10/site-packages/tensorflow/python/ops/resource_variable_ops.py:314\u001b[0m, in \u001b[0;36mshape_safe_assign_variable_handle\u001b[0;34m(handle, shape, value, name)\u001b[0m\n\u001b[1;32m    313\u001b[0m   value_tensor \u001b[38;5;241m=\u001b[39m ops\u001b[38;5;241m.\u001b[39mconvert_to_tensor(value)\n\u001b[0;32m--> 314\u001b[0m \u001b[43mshape\u001b[49m\u001b[38;5;241;43m.\u001b[39;49m\u001b[43massert_is_compatible_with\u001b[49m\u001b[43m(\u001b[49m\u001b[43mvalue_tensor\u001b[49m\u001b[38;5;241;43m.\u001b[39;49m\u001b[43mshape\u001b[49m\u001b[43m)\u001b[49m\n\u001b[1;32m    315\u001b[0m \u001b[38;5;28;01mreturn\u001b[39;00m gen_resource_variable_ops\u001b[38;5;241m.\u001b[39massign_variable_op(\n\u001b[1;32m    316\u001b[0m     handle, value_tensor, name\u001b[38;5;241m=\u001b[39mname)\n",
      "File \u001b[0;32m~/miniforge3/envs/DQL_env/lib/python3.10/site-packages/tensorflow/python/framework/tensor_shape.py:1384\u001b[0m, in \u001b[0;36mTensorShape.assert_is_compatible_with\u001b[0;34m(self, other)\u001b[0m\n\u001b[1;32m   1383\u001b[0m \u001b[38;5;28;01mif\u001b[39;00m \u001b[38;5;129;01mnot\u001b[39;00m \u001b[38;5;28mself\u001b[39m\u001b[38;5;241m.\u001b[39mis_compatible_with(other):\n\u001b[0;32m-> 1384\u001b[0m   \u001b[38;5;28;01mraise\u001b[39;00m \u001b[38;5;167;01mValueError\u001b[39;00m(\u001b[38;5;124m\"\u001b[39m\u001b[38;5;124mShapes \u001b[39m\u001b[38;5;132;01m%s\u001b[39;00m\u001b[38;5;124m and \u001b[39m\u001b[38;5;132;01m%s\u001b[39;00m\u001b[38;5;124m are incompatible\u001b[39m\u001b[38;5;124m\"\u001b[39m \u001b[38;5;241m%\u001b[39m (\u001b[38;5;28mself\u001b[39m, other))\n",
      "\u001b[0;31mValueError\u001b[0m: Shapes (57, 256) and (55, 256) are incompatible",
      "\nThe above exception was the direct cause of the following exception:\n",
      "\u001b[0;31mValueError\u001b[0m                                Traceback (most recent call last)",
      "Cell \u001b[0;32mIn[206], line 8\u001b[0m\n\u001b[1;32m      1\u001b[0m checkpoint_2 \u001b[38;5;241m=\u001b[39m tf\u001b[38;5;241m.\u001b[39mtrain\u001b[38;5;241m.\u001b[39mCheckpoint(\n\u001b[1;32m      2\u001b[0m     q_net\u001b[38;5;241m=\u001b[39magent_2\u001b[38;5;241m.\u001b[39m_q_network,\n\u001b[1;32m      3\u001b[0m     target_q_net\u001b[38;5;241m=\u001b[39magent_2\u001b[38;5;241m.\u001b[39m_target_q_network,\n\u001b[1;32m      4\u001b[0m     optimizer\u001b[38;5;241m=\u001b[39magent_2\u001b[38;5;241m.\u001b[39m_optimizer,\n\u001b[1;32m      5\u001b[0m     train_step\u001b[38;5;241m=\u001b[39magent_2\u001b[38;5;241m.\u001b[39mtrain_step_counter\n\u001b[1;32m      6\u001b[0m )\n\u001b[0;32m----> 8\u001b[0m checkpoint_path \u001b[38;5;241m=\u001b[39m \u001b[43mcheckpoint_2\u001b[49m\u001b[38;5;241;43m.\u001b[39;49m\u001b[43mrestore\u001b[49m\u001b[43m(\u001b[49m\u001b[38;5;124;43m'\u001b[39;49m\u001b[38;5;124;43m./checkpoints/no_fall_checkpoint-1\u001b[39;49m\u001b[38;5;124;43m'\u001b[39;49m\u001b[43m)\u001b[49m\n",
      "File \u001b[0;32m~/miniforge3/envs/DQL_env/lib/python3.10/site-packages/tensorflow/python/checkpoint/checkpoint.py:2707\u001b[0m, in \u001b[0;36mCheckpoint.restore\u001b[0;34m(self, save_path, options)\u001b[0m\n\u001b[1;32m   2704\u001b[0m   save_path \u001b[38;5;241m=\u001b[39m path_helpers\u001b[38;5;241m.\u001b[39mget_variables_path(save_path)\n\u001b[1;32m   2706\u001b[0m \u001b[38;5;28;01mtry\u001b[39;00m:\n\u001b[0;32m-> 2707\u001b[0m   status \u001b[38;5;241m=\u001b[39m \u001b[38;5;28;43mself\u001b[39;49m\u001b[38;5;241;43m.\u001b[39;49m\u001b[43mread\u001b[49m\u001b[43m(\u001b[49m\u001b[43msave_path\u001b[49m\u001b[43m,\u001b[49m\u001b[43m \u001b[49m\u001b[43moptions\u001b[49m\u001b[38;5;241;43m=\u001b[39;49m\u001b[43moptions\u001b[49m\u001b[43m)\u001b[49m\n\u001b[1;32m   2708\u001b[0m   \u001b[38;5;28;01mif\u001b[39;00m context\u001b[38;5;241m.\u001b[39mexecuting_eagerly():\n\u001b[1;32m   2709\u001b[0m     context\u001b[38;5;241m.\u001b[39masync_wait()  \u001b[38;5;66;03m# Ensure restore operations have completed.\u001b[39;00m\n",
      "File \u001b[0;32m~/miniforge3/envs/DQL_env/lib/python3.10/site-packages/tensorflow/python/checkpoint/checkpoint.py:2570\u001b[0m, in \u001b[0;36mCheckpoint.read\u001b[0;34m(self, save_path, options)\u001b[0m\n\u001b[1;32m   2568\u001b[0m   save_path \u001b[38;5;241m=\u001b[39m os\u001b[38;5;241m.\u001b[39mfspath(save_path)\n\u001b[1;32m   2569\u001b[0m options \u001b[38;5;241m=\u001b[39m options \u001b[38;5;129;01mor\u001b[39;00m checkpoint_options\u001b[38;5;241m.\u001b[39mCheckpointOptions()\n\u001b[0;32m-> 2570\u001b[0m result \u001b[38;5;241m=\u001b[39m \u001b[38;5;28;43mself\u001b[39;49m\u001b[38;5;241;43m.\u001b[39;49m\u001b[43m_saver\u001b[49m\u001b[38;5;241;43m.\u001b[39;49m\u001b[43mrestore\u001b[49m\u001b[43m(\u001b[49m\u001b[43msave_path\u001b[49m\u001b[38;5;241;43m=\u001b[39;49m\u001b[43msave_path\u001b[49m\u001b[43m,\u001b[49m\u001b[43m \u001b[49m\u001b[43moptions\u001b[49m\u001b[38;5;241;43m=\u001b[39;49m\u001b[43moptions\u001b[49m\u001b[43m)\u001b[49m\n\u001b[1;32m   2571\u001b[0m metrics\u001b[38;5;241m.\u001b[39mAddCheckpointReadDuration(\n\u001b[1;32m   2572\u001b[0m     api_label\u001b[38;5;241m=\u001b[39m_CHECKPOINT_V2,\n\u001b[1;32m   2573\u001b[0m     microseconds\u001b[38;5;241m=\u001b[39m_get_duration_microseconds(start_time, time\u001b[38;5;241m.\u001b[39mtime()))\n\u001b[1;32m   2574\u001b[0m \u001b[38;5;28;01mreturn\u001b[39;00m result\n",
      "File \u001b[0;32m~/miniforge3/envs/DQL_env/lib/python3.10/site-packages/tensorflow/python/checkpoint/checkpoint.py:1479\u001b[0m, in \u001b[0;36mTrackableSaver.restore\u001b[0;34m(self, save_path, options)\u001b[0m\n\u001b[1;32m   1468\u001b[0m object_graph_proto\u001b[38;5;241m.\u001b[39mParseFromString(object_graph_string)\n\u001b[1;32m   1469\u001b[0m checkpoint \u001b[38;5;241m=\u001b[39m _CheckpointRestoreCoordinator(\n\u001b[1;32m   1470\u001b[0m     object_graph_proto\u001b[38;5;241m=\u001b[39mobject_graph_proto,\n\u001b[1;32m   1471\u001b[0m     save_path\u001b[38;5;241m=\u001b[39msave_path,\n\u001b[0;32m   (...)\u001b[0m\n\u001b[1;32m   1476\u001b[0m     options\u001b[38;5;241m=\u001b[39moptions,\n\u001b[1;32m   1477\u001b[0m     saveables_cache\u001b[38;5;241m=\u001b[39m\u001b[38;5;28mself\u001b[39m\u001b[38;5;241m.\u001b[39m_saveables_cache)\n\u001b[1;32m   1478\u001b[0m \u001b[43mrestore_lib\u001b[49m\u001b[38;5;241;43m.\u001b[39;49m\u001b[43mCheckpointPosition\u001b[49m\u001b[43m(\u001b[49m\n\u001b[0;32m-> 1479\u001b[0m \u001b[43m    \u001b[49m\u001b[43mcheckpoint\u001b[49m\u001b[38;5;241;43m=\u001b[39;49m\u001b[43mcheckpoint\u001b[49m\u001b[43m,\u001b[49m\u001b[43m \u001b[49m\u001b[43mproto_id\u001b[49m\u001b[38;5;241;43m=\u001b[39;49m\u001b[38;5;241;43m0\u001b[39;49m\u001b[43m)\u001b[49m\u001b[38;5;241;43m.\u001b[39;49m\u001b[43mrestore\u001b[49m\u001b[43m(\u001b[49m\u001b[38;5;28;43mself\u001b[39;49m\u001b[38;5;241;43m.\u001b[39;49m\u001b[43m_graph_view\u001b[49m\u001b[38;5;241;43m.\u001b[39;49m\u001b[43mroot\u001b[49m\u001b[43m,\u001b[49m\n\u001b[1;32m   1480\u001b[0m \u001b[43m                                               \u001b[49m\u001b[43mreader\u001b[49m\u001b[43m)\u001b[49m\n\u001b[1;32m   1482\u001b[0m \u001b[38;5;66;03m# Attached dependencies are not attached to the root, so should be restored\u001b[39;00m\n\u001b[1;32m   1483\u001b[0m \u001b[38;5;66;03m# separately.\u001b[39;00m\n\u001b[1;32m   1484\u001b[0m \u001b[38;5;28;01mif\u001b[39;00m \u001b[38;5;28mself\u001b[39m\u001b[38;5;241m.\u001b[39m_graph_view\u001b[38;5;241m.\u001b[39mattached_dependencies:\n",
      "File \u001b[0;32m~/miniforge3/envs/DQL_env/lib/python3.10/site-packages/tensorflow/python/checkpoint/restore.py:62\u001b[0m, in \u001b[0;36mCheckpointPosition.restore\u001b[0;34m(self, trackable, reader)\u001b[0m\n\u001b[1;32m     58\u001b[0m \u001b[38;5;28;01mwith\u001b[39;00m ops\u001b[38;5;241m.\u001b[39minit_scope():\n\u001b[1;32m     59\u001b[0m   \u001b[38;5;28;01mif\u001b[39;00m \u001b[38;5;28mself\u001b[39m\u001b[38;5;241m.\u001b[39mbind_object(trackable):\n\u001b[1;32m     60\u001b[0m     \u001b[38;5;66;03m# This object's correspondence with a checkpointed object is new, so\u001b[39;00m\n\u001b[1;32m     61\u001b[0m     \u001b[38;5;66;03m# process deferred restorations for it and its dependencies.\u001b[39;00m\n\u001b[0;32m---> 62\u001b[0m     restore_ops \u001b[38;5;241m=\u001b[39m \u001b[38;5;28;43mself\u001b[39;49m\u001b[38;5;241;43m.\u001b[39;49m\u001b[43m_restore_descendants\u001b[49m\u001b[43m(\u001b[49m\u001b[43mreader\u001b[49m\u001b[43m)\u001b[49m\n\u001b[1;32m     63\u001b[0m     \u001b[38;5;28;01mif\u001b[39;00m restore_ops:\n\u001b[1;32m     64\u001b[0m       \u001b[38;5;28mself\u001b[39m\u001b[38;5;241m.\u001b[39m_checkpoint\u001b[38;5;241m.\u001b[39mnew_restore_ops(restore_ops)\n",
      "File \u001b[0;32m~/miniforge3/envs/DQL_env/lib/python3.10/site-packages/tensorflow/python/checkpoint/restore.py:463\u001b[0m, in \u001b[0;36mCheckpointPosition._restore_descendants\u001b[0;34m(self, reader)\u001b[0m\n\u001b[1;32m    459\u001b[0m   _queue_children_for_restoration(current_position, visit_queue)\n\u001b[1;32m    460\u001b[0m   _queue_slot_variables(current_position, visit_queue)\n\u001b[1;32m    462\u001b[0m restore_ops\u001b[38;5;241m.\u001b[39mextend(\n\u001b[0;32m--> 463\u001b[0m     \u001b[43mcurrent_position\u001b[49m\u001b[38;5;241;43m.\u001b[39;49m\u001b[43mcheckpoint\u001b[49m\u001b[38;5;241;43m.\u001b[39;49m\u001b[43mrestore_saveables\u001b[49m\u001b[43m(\u001b[49m\n\u001b[1;32m    464\u001b[0m \u001b[43m        \u001b[49m\u001b[43mtensor_saveables\u001b[49m\u001b[43m,\u001b[49m\n\u001b[1;32m    465\u001b[0m \u001b[43m        \u001b[49m\u001b[43mpython_positions\u001b[49m\u001b[43m,\u001b[49m\n\u001b[1;32m    466\u001b[0m \u001b[43m        \u001b[49m\u001b[43mregistered_savers\u001b[49m\u001b[43m,\u001b[49m\n\u001b[1;32m    467\u001b[0m \u001b[43m        \u001b[49m\u001b[43mreader\u001b[49m\u001b[38;5;241;43m=\u001b[39;49m\u001b[43mreader\u001b[49m\u001b[43m)\u001b[49m)\n\u001b[1;32m    468\u001b[0m \u001b[38;5;28;01mreturn\u001b[39;00m restore_ops\n",
      "File \u001b[0;32m~/miniforge3/envs/DQL_env/lib/python3.10/site-packages/tensorflow/python/checkpoint/checkpoint.py:379\u001b[0m, in \u001b[0;36m_CheckpointRestoreCoordinator.restore_saveables\u001b[0;34m(self, tensor_saveables, python_positions, registered_savers, reader)\u001b[0m\n\u001b[1;32m    374\u001b[0m \u001b[38;5;28;01mif\u001b[39;00m tensor_saveables \u001b[38;5;129;01mor\u001b[39;00m registered_savers:\n\u001b[1;32m    375\u001b[0m   flat_saveables \u001b[38;5;241m=\u001b[39m saveable_object_util\u001b[38;5;241m.\u001b[39mvalidate_and_slice_inputs(\n\u001b[1;32m    376\u001b[0m       tensor_saveables)\n\u001b[1;32m    377\u001b[0m   new_restore_ops \u001b[38;5;241m=\u001b[39m \u001b[43mfunctional_saver\u001b[49m\u001b[38;5;241;43m.\u001b[39;49m\u001b[43mMultiDeviceSaver\u001b[49m\u001b[38;5;241;43m.\u001b[39;49m\u001b[43mfrom_saveables\u001b[49m\u001b[43m(\u001b[49m\n\u001b[1;32m    378\u001b[0m \u001b[43m      \u001b[49m\u001b[43mflat_saveables\u001b[49m\u001b[43m,\u001b[49m\n\u001b[0;32m--> 379\u001b[0m \u001b[43m      \u001b[49m\u001b[43mregistered_savers\u001b[49m\u001b[43m)\u001b[49m\u001b[38;5;241;43m.\u001b[39;49m\u001b[43mrestore\u001b[49m\u001b[43m(\u001b[49m\u001b[38;5;28;43mself\u001b[39;49m\u001b[38;5;241;43m.\u001b[39;49m\u001b[43msave_path_tensor\u001b[49m\u001b[43m,\u001b[49m\u001b[43m \u001b[49m\u001b[38;5;28;43mself\u001b[39;49m\u001b[38;5;241;43m.\u001b[39;49m\u001b[43moptions\u001b[49m\u001b[43m)\u001b[49m\n\u001b[1;32m    380\u001b[0m   \u001b[38;5;28;01mif\u001b[39;00m \u001b[38;5;129;01mnot\u001b[39;00m context\u001b[38;5;241m.\u001b[39mexecuting_eagerly():\n\u001b[1;32m    381\u001b[0m     \u001b[38;5;28;01mfor\u001b[39;00m name, restore_op \u001b[38;5;129;01min\u001b[39;00m \u001b[38;5;28msorted\u001b[39m(new_restore_ops\u001b[38;5;241m.\u001b[39mitems()):\n",
      "File \u001b[0;32m~/miniforge3/envs/DQL_env/lib/python3.10/site-packages/tensorflow/python/checkpoint/functional_saver.py:499\u001b[0m, in \u001b[0;36mMultiDeviceSaver.restore\u001b[0;34m(self, file_prefix, options)\u001b[0m\n\u001b[1;32m    497\u001b[0m   restore_ops \u001b[38;5;241m=\u001b[39m tf_function_restore()\n\u001b[1;32m    498\u001b[0m \u001b[38;5;28;01melse\u001b[39;00m:\n\u001b[0;32m--> 499\u001b[0m   restore_ops \u001b[38;5;241m=\u001b[39m \u001b[43mrestore_fn\u001b[49m\u001b[43m(\u001b[49m\u001b[43m)\u001b[49m\n\u001b[1;32m    501\u001b[0m \u001b[38;5;28;01mreturn\u001b[39;00m restore_ops\n",
      "File \u001b[0;32m~/miniforge3/envs/DQL_env/lib/python3.10/site-packages/tensorflow/python/checkpoint/functional_saver.py:467\u001b[0m, in \u001b[0;36mMultiDeviceSaver.restore.<locals>.restore_fn\u001b[0;34m()\u001b[0m\n\u001b[1;32m    464\u001b[0m \u001b[38;5;28;01mfor\u001b[39;00m ckpt_key, tensor \u001b[38;5;129;01min\u001b[39;00m restore_fn_inputs[restore_fn]\u001b[38;5;241m.\u001b[39mitems():\n\u001b[1;32m    465\u001b[0m   restored_tensors[trackable_utils\u001b[38;5;241m.\u001b[39mextract_local_name(\n\u001b[1;32m    466\u001b[0m       ckpt_key)] \u001b[38;5;241m=\u001b[39m tensor\n\u001b[0;32m--> 467\u001b[0m ret \u001b[38;5;241m=\u001b[39m \u001b[43mrestore_fn\u001b[49m\u001b[43m(\u001b[49m\u001b[43mrestored_tensors\u001b[49m\u001b[43m)\u001b[49m\n\u001b[1;32m    468\u001b[0m \u001b[38;5;28;01mif\u001b[39;00m \u001b[38;5;28misinstance\u001b[39m(ret, \u001b[38;5;28mdict\u001b[39m):\n\u001b[1;32m    469\u001b[0m   restore_ops\u001b[38;5;241m.\u001b[39mupdate(ret)\n",
      "File \u001b[0;32m~/miniforge3/envs/DQL_env/lib/python3.10/site-packages/tensorflow/python/training/saving/saveable_object_util.py:747\u001b[0m, in \u001b[0;36mSaveableCompatibilityConverter._restore_from_tensors\u001b[0;34m(self, restored_tensors)\u001b[0m\n\u001b[1;32m    741\u001b[0m \u001b[38;5;28;01mif\u001b[39;00m \u001b[38;5;28mset\u001b[39m(expected_keys) \u001b[38;5;241m!=\u001b[39m restored_tensors\u001b[38;5;241m.\u001b[39mkeys():\n\u001b[1;32m    742\u001b[0m   \u001b[38;5;28;01mraise\u001b[39;00m \u001b[38;5;167;01mValueError\u001b[39;00m(\u001b[38;5;124mf\u001b[39m\u001b[38;5;124m\"\u001b[39m\u001b[38;5;124mCould not restore object \u001b[39m\u001b[38;5;132;01m{\u001b[39;00m\u001b[38;5;28mself\u001b[39m\u001b[38;5;241m.\u001b[39m_obj\u001b[38;5;132;01m}\u001b[39;00m\u001b[38;5;124m because not all \u001b[39m\u001b[38;5;124m\"\u001b[39m\n\u001b[1;32m    743\u001b[0m                    \u001b[38;5;124m\"\u001b[39m\u001b[38;5;124mexpected tensors were in the checkpoint.\u001b[39m\u001b[38;5;124m\"\u001b[39m\n\u001b[1;32m    744\u001b[0m                    \u001b[38;5;124mf\u001b[39m\u001b[38;5;124m\"\u001b[39m\u001b[38;5;130;01m\\n\u001b[39;00m\u001b[38;5;130;01m\\t\u001b[39;00m\u001b[38;5;124mExpected: \u001b[39m\u001b[38;5;132;01m{\u001b[39;00mexpected_keys\u001b[38;5;132;01m}\u001b[39;00m\u001b[38;5;124m\"\u001b[39m\n\u001b[1;32m    745\u001b[0m                    \u001b[38;5;124mf\u001b[39m\u001b[38;5;124m\"\u001b[39m\u001b[38;5;130;01m\\n\u001b[39;00m\u001b[38;5;130;01m\\t\u001b[39;00m\u001b[38;5;124mGot: \u001b[39m\u001b[38;5;132;01m{\u001b[39;00m\u001b[38;5;28mlist\u001b[39m(restored_tensors\u001b[38;5;241m.\u001b[39mkeys())\u001b[38;5;132;01m}\u001b[39;00m\u001b[38;5;124m\"\u001b[39m)\n\u001b[0;32m--> 747\u001b[0m \u001b[38;5;28;01mreturn\u001b[39;00m \u001b[43msaveable_object_to_restore_fn\u001b[49m\u001b[43m(\u001b[49m\u001b[38;5;28;43mself\u001b[39;49m\u001b[38;5;241;43m.\u001b[39;49m\u001b[43msaveables\u001b[49m\u001b[43m)\u001b[49m\u001b[43m(\u001b[49m\u001b[43mrestored_tensors\u001b[49m\u001b[43m)\u001b[49m\n",
      "File \u001b[0;32m~/miniforge3/envs/DQL_env/lib/python3.10/site-packages/tensorflow/python/training/saving/saveable_object_util.py:784\u001b[0m, in \u001b[0;36msaveable_object_to_restore_fn.<locals>._restore_from_tensors\u001b[0;34m(restored_tensors)\u001b[0m\n\u001b[1;32m    781\u001b[0m       maybe_tensor \u001b[38;5;241m=\u001b[39m {\u001b[38;5;124m\"\u001b[39m\u001b[38;5;124m\"\u001b[39m: maybe_tensor}\n\u001b[1;32m    783\u001b[0m     saveable_restored_tensors\u001b[38;5;241m.\u001b[39mappend(maybe_tensor[slice_spec])\n\u001b[0;32m--> 784\u001b[0m   restore_ops[saveable\u001b[38;5;241m.\u001b[39mname] \u001b[38;5;241m=\u001b[39m \u001b[43msaveable\u001b[49m\u001b[38;5;241;43m.\u001b[39;49m\u001b[43mrestore\u001b[49m\u001b[43m(\u001b[49m\n\u001b[1;32m    785\u001b[0m \u001b[43m      \u001b[49m\u001b[43msaveable_restored_tensors\u001b[49m\u001b[43m,\u001b[49m\u001b[43m \u001b[49m\u001b[43mrestored_shapes\u001b[49m\u001b[38;5;241;43m=\u001b[39;49m\u001b[38;5;28;43;01mNone\u001b[39;49;00m\u001b[43m)\u001b[49m\n\u001b[1;32m    786\u001b[0m \u001b[38;5;28;01mreturn\u001b[39;00m restore_ops\n",
      "File \u001b[0;32m~/miniforge3/envs/DQL_env/lib/python3.10/site-packages/tensorflow/python/training/saving/saveable_object_util.py:602\u001b[0m, in \u001b[0;36mTrackableSaveable.restore\u001b[0;34m(***failed resolving arguments***)\u001b[0m\n\u001b[1;32m    600\u001b[0m   ret \u001b[38;5;241m=\u001b[39m \u001b[38;5;28mself\u001b[39m\u001b[38;5;241m.\u001b[39m_call_with_mapped_captures(restore_fn, [restored_tensor_dict])\n\u001b[1;32m    601\u001b[0m \u001b[38;5;28;01melse\u001b[39;00m:\n\u001b[0;32m--> 602\u001b[0m   ret \u001b[38;5;241m=\u001b[39m \u001b[43mrestore_fn\u001b[49m\u001b[43m(\u001b[49m\u001b[43mrestored_tensor_dict\u001b[49m\u001b[43m)\u001b[49m\n\u001b[1;32m    603\u001b[0m \u001b[38;5;28;01mif\u001b[39;00m ret \u001b[38;5;129;01mis\u001b[39;00m \u001b[38;5;129;01mnot\u001b[39;00m \u001b[38;5;28;01mNone\u001b[39;00m:\n\u001b[1;32m    604\u001b[0m   \u001b[38;5;28;01mreturn\u001b[39;00m ret\n",
      "File \u001b[0;32m~/miniforge3/envs/DQL_env/lib/python3.10/site-packages/tensorflow/python/ops/resource_variable_ops.py:785\u001b[0m, in \u001b[0;36mBaseResourceVariable._restore_from_tensors\u001b[0;34m(self, restored_tensors)\u001b[0m\n\u001b[1;32m    782\u001b[0m   assigned_variable \u001b[38;5;241m=\u001b[39m shape_safe_assign_variable_handle(\n\u001b[1;32m    783\u001b[0m       \u001b[38;5;28mself\u001b[39m\u001b[38;5;241m.\u001b[39mhandle, \u001b[38;5;28mself\u001b[39m\u001b[38;5;241m.\u001b[39mshape, restored_tensor)\n\u001b[1;32m    784\u001b[0m \u001b[38;5;28;01mexcept\u001b[39;00m \u001b[38;5;167;01mValueError\u001b[39;00m \u001b[38;5;28;01mas\u001b[39;00m e:\n\u001b[0;32m--> 785\u001b[0m   \u001b[38;5;28;01mraise\u001b[39;00m \u001b[38;5;167;01mValueError\u001b[39;00m(\n\u001b[1;32m    786\u001b[0m       \u001b[38;5;124mf\u001b[39m\u001b[38;5;124m\"\u001b[39m\u001b[38;5;124mReceived incompatible tensor with shape \u001b[39m\u001b[38;5;132;01m{\u001b[39;00mrestored_tensor\u001b[38;5;241m.\u001b[39mshape\u001b[38;5;132;01m}\u001b[39;00m\u001b[38;5;124m \u001b[39m\u001b[38;5;124m\"\u001b[39m\n\u001b[1;32m    787\u001b[0m       \u001b[38;5;124mf\u001b[39m\u001b[38;5;124m\"\u001b[39m\u001b[38;5;124mwhen attempting to restore variable with shape \u001b[39m\u001b[38;5;132;01m{\u001b[39;00m\u001b[38;5;28mself\u001b[39m\u001b[38;5;241m.\u001b[39mshape\u001b[38;5;132;01m}\u001b[39;00m\u001b[38;5;124m \u001b[39m\u001b[38;5;124m\"\u001b[39m\n\u001b[1;32m    788\u001b[0m       \u001b[38;5;124mf\u001b[39m\u001b[38;5;124m\"\u001b[39m\u001b[38;5;124mand name \u001b[39m\u001b[38;5;132;01m{\u001b[39;00m\u001b[38;5;28mself\u001b[39m\u001b[38;5;241m.\u001b[39mname\u001b[38;5;132;01m}\u001b[39;00m\u001b[38;5;124m.\u001b[39m\u001b[38;5;124m\"\u001b[39m) \u001b[38;5;28;01mfrom\u001b[39;00m\u001b[38;5;250m \u001b[39m\u001b[38;5;21;01me\u001b[39;00m\n\u001b[1;32m    789\u001b[0m \u001b[38;5;28;01mreturn\u001b[39;00m assigned_variable\n",
      "\u001b[0;31mValueError\u001b[0m: Received incompatible tensor with shape (55, 256) when attempting to restore variable with shape (57, 256) and name QNetwork/EncodingNetwork/dense_215/kernel:0."
     ]
    }
   ],
   "source": [
    "checkpoint_2 = tf.train.Checkpoint(\n",
    "    q_net=agent_2._q_network,\n",
    "    target_q_net=agent_2._target_q_network,\n",
    "    optimizer=agent_2._optimizer,\n",
    "    train_step=agent_2.train_step_counter\n",
    ")\n",
    "\n",
    "checkpoint_path = checkpoint_2.restore('./checkpoints/no_fall_checkpoint-1')"
   ]
  },
  {
   "cell_type": "markdown",
   "id": "a6191f11",
   "metadata": {},
   "source": [
    "Creating replay buffer for second round of training"
   ]
  },
  {
   "cell_type": "code",
   "execution_count": 227,
   "id": "9721547e",
   "metadata": {},
   "outputs": [],
   "source": [
    "stage2_replay_buffer = tf_uniform_replay_buffer.TFUniformReplayBuffer(\n",
    "    data_spec=agent_2.collect_data_spec,\n",
    "    batch_size=tf_env_2.batch_size,\n",
    "    max_length=100000\n",
    ")"
   ]
  },
  {
   "cell_type": "markdown",
   "id": "12893ad3",
   "metadata": {},
   "source": [
    "Setting up the new policies"
   ]
  },
  {
   "cell_type": "code",
   "execution_count": 228,
   "id": "b151ccfc",
   "metadata": {},
   "outputs": [],
   "source": [
    "eval_policy_2 = agent_2.policy\n",
    "collect_policy_2 = agent_2.collect_policy\n",
    "random_policy_2 = random_tf_policy.RandomTFPolicy(\n",
    "    tf_env_2.time_step_spec(), \n",
    "    tf_env_2.action_spec()\n",
    ")"
   ]
  },
  {
   "cell_type": "markdown",
   "id": "f87cbfd3",
   "metadata": {},
   "source": [
    "Initial data collection"
   ]
  },
  {
   "cell_type": "code",
   "execution_count": 229,
   "id": "bb6fa109",
   "metadata": {},
   "outputs": [
    {
     "name": "stdout",
     "output_type": "stream",
     "text": [
      "Collected 100 steps\n",
      "Collected 200 steps\n",
      "Collected 300 steps\n",
      "Collected 400 steps\n",
      "Collected 500 steps\n",
      "Collected 600 steps\n",
      "Collected 700 steps\n",
      "Collected 800 steps\n",
      "Collected 900 steps\n",
      "Collected 1000 steps\n",
      "Collected 1100 steps\n",
      "Collected 1200 steps\n",
      "Collected 1300 steps\n",
      "Collected 1400 steps\n",
      "Collected 1500 steps\n",
      "Collected 1600 steps\n",
      "Collected 1700 steps\n",
      "Collected 1800 steps\n",
      "Collected 1900 steps\n"
     ]
    }
   ],
   "source": [
    "stage2_replay_buffer.clear()\n",
    "\n",
    "engine_config_channel.set_configuration_parameters(time_scale=5)\n",
    "env.reset()\n",
    "collect_data(random_policy_2, 2000, tf_env_2, stage2_replay_buffer)"
   ]
  },
  {
   "cell_type": "markdown",
   "id": "611c2a18",
   "metadata": {},
   "source": [
    "The training loop"
   ]
  },
  {
   "cell_type": "code",
   "execution_count": 234,
   "id": "6ac59f82",
   "metadata": {},
   "outputs": [],
   "source": [
    "num_iterations_2 = 12000\n",
    "collect_steps_per_iteration_2 = 4\n",
    "batch_size_2 = 64\n",
    "eval_interval_2 = 200\n",
    "speed_2 = 1000\n",
    "\n",
    "stage2_dataset = stage2_replay_buffer.as_dataset(\n",
    "    num_parallel_calls=3,\n",
    "    sample_batch_size=batch_size_2,\n",
    "    num_steps=2\n",
    ").prefetch(3)\n",
    "\n",
    "stage2_iterator = iter(stage2_dataset)"
   ]
  },
  {
   "cell_type": "code",
   "execution_count": 235,
   "id": "177d5b6a",
   "metadata": {},
   "outputs": [
    {
     "name": "stdout",
     "output_type": "stream",
     "text": [
      "Training step 600: Loss = 196.0280 | Env step = 500\n",
      "Episode Return: -500.50\n",
      "Training step 800: Loss = 3958.8721 | Env step = 1300\n",
      "Episode Return: -990.00\n",
      "Training step 1000: Loss = 88.4142 | Env step = 2100\n",
      "Episode Return: -503.00\n",
      "Training step 1200: Loss = 43.4552 | Env step = 2900\n",
      "Episode Return: -505.50\n",
      "Training step 1400: Loss = 59.6874 | Env step = 3700\n",
      "Episode Return: -976.53\n",
      "Training step 1600: Loss = 3951.7930 | Env step = 4500\n",
      "Episode Return: -8.00\n",
      "Training step 1800: Loss = 39.4919 | Env step = 5300\n",
      "Episode Return: -508.00\n",
      "Training step 2000: Loss = 3915.3276 | Env step = 6100\n",
      "Episode Return: -505.50\n",
      "Training step 2200: Loss = 3898.9460 | Env step = 6900\n",
      "Episode Return: -1002.50\n",
      "Training step 2400: Loss = 3890.3359 | Env step = 7700\n",
      "Episode Return: -934.14\n",
      "Training step 2600: Loss = 3895.2520 | Env step = 8500\n",
      "Episode Return: -970.00\n",
      "Training step 2800: Loss = 36.9260 | Env step = 9300\n",
      "Episode Return: -1005.00\n",
      "Training step 3000: Loss = 15.9412 | Env step = 10100\n",
      "Episode Return: -510.50\n",
      "Training step 3200: Loss = 51.3038 | Env step = 10900\n",
      "Episode Return: -975.00\n",
      "Training step 3400: Loss = 19.5592 | Env step = 11700\n",
      "Episode Return: -1002.50\n",
      "Training step 3600: Loss = 96.4117 | Env step = 12500\n",
      "Episode Return: -1005.00\n",
      "Training step 3800: Loss = 21.8850 | Env step = 13300\n",
      "Episode Return: -1005.00\n",
      "Training step 4000: Loss = 12.9641 | Env step = 14100\n",
      "Episode Return: -967.50\n",
      "Training step 4200: Loss = 58.7177 | Env step = 14900\n",
      "Episode Return: -500.00\n",
      "Training step 4400: Loss = 6.1561 | Env step = 15700\n",
      "Episode Return: -500.50\n",
      "Training step 4600: Loss = 18.0597 | Env step = 16500\n",
      "Episode Return: -500.85\n",
      "Training step 4800: Loss = 27.9322 | Env step = 17300\n",
      "Episode Return: -518.71\n",
      "Training step 5000: Loss = 44.9924 | Env step = 18100\n",
      "Episode Return: -1000.00\n",
      "Training step 5200: Loss = 29.2652 | Env step = 18900\n",
      "Episode Return: -505.50\n",
      "Training step 5400: Loss = 90.6228 | Env step = 19700\n",
      "Episode Return: -870.37\n",
      "Training step 5600: Loss = 68.8857 | Env step = 20500\n",
      "Episode Return: -503.00\n",
      "Training step 5800: Loss = 52.2912 | Env step = 21300\n",
      "Episode Return: -505.50\n",
      "Training step 6000: Loss = 3810.1790 | Env step = 22100\n",
      "Episode Return: -3.00\n",
      "Training step 6200: Loss = 31.1080 | Env step = 22900\n",
      "Episode Return: -528.00\n",
      "Training step 6400: Loss = 22.0565 | Env step = 23700\n",
      "Episode Return: -500.50\n",
      "Training step 6600: Loss = 3806.4775 | Env step = 24500\n",
      "Episode Return: -508.00\n",
      "Training step 6800: Loss = 3813.2917 | Env step = 25300\n",
      "Episode Return: -980.00\n",
      "Training step 7000: Loss = 7590.7783 | Env step = 26100\n",
      "Episode Return: 55.23\n",
      "Training step 7200: Loss = 19.3995 | Env step = 26900\n",
      "Episode Return: -975.00\n",
      "Training step 7400: Loss = 14.8493 | Env step = 27700\n",
      "Episode Return: -413.00\n",
      "Training step 7600: Loss = 17.7967 | Env step = 28500\n",
      "Episode Return: -3.00\n",
      "Training step 7800: Loss = 40.4277 | Env step = 29300\n",
      "Episode Return: -503.00\n",
      "Training step 8000: Loss = 8.6414 | Env step = 30100\n",
      "Episode Return: -533.00\n",
      "Training step 8200: Loss = 25.5400 | Env step = 30900\n",
      "Episode Return: -508.00\n",
      "Training step 8400: Loss = 40.1449 | Env step = 31700\n",
      "Episode Return: -497.16\n",
      "Training step 8600: Loss = 3715.2773 | Env step = 32500\n",
      "Episode Return: -500.50\n",
      "Training step 8800: Loss = 3725.3682 | Env step = 33300\n",
      "Episode Return: -187.50\n",
      "Training step 9000: Loss = 15.2384 | Env step = 34100\n",
      "Episode Return: -963.54\n",
      "Training step 9200: Loss = 18.0327 | Env step = 34900\n",
      "Episode Return: -500.50\n",
      "Training step 9400: Loss = 3722.2175 | Env step = 35700\n",
      "Episode Return: -972.50\n",
      "Training step 9600: Loss = 13.9538 | Env step = 36500\n",
      "Episode Return: -0.50\n",
      "Training step 9800: Loss = 8.1958 | Env step = 37300\n",
      "Episode Return: -508.00\n",
      "Training step 10000: Loss = 21.9485 | Env step = 38100\n",
      "Episode Return: -503.00\n",
      "Training step 10200: Loss = 23.8432 | Env step = 38900\n",
      "Episode Return: -525.50\n",
      "Training step 10400: Loss = 3699.1218 | Env step = 39700\n",
      "Episode Return: -500.50\n",
      "Training step 10600: Loss = 37.0554 | Env step = 40500\n",
      "Episode Return: 143.79\n",
      "Training step 10800: Loss = 23.8789 | Env step = 41300\n",
      "Episode Return: -503.00\n",
      "Training step 11000: Loss = 3689.7788 | Env step = 42100\n",
      "Episode Return: -503.00\n",
      "Training step 11200: Loss = 8.3628 | Env step = 42900\n",
      "Episode Return: -497.03\n",
      "Training step 11400: Loss = 28.0144 | Env step = 43700\n",
      "Episode Return: -1002.50\n",
      "Training step 11600: Loss = 12.4212 | Env step = 44500\n",
      "Episode Return: -937.50\n",
      "Training step 11800: Loss = 21.2068 | Env step = 45300\n",
      "Episode Return: -869.63\n",
      "Training step 12000: Loss = 39.7253 | Env step = 46100\n",
      "Episode Return: -500.13\n",
      "Training step 12200: Loss = 18.7130 | Env step = 46900\n",
      "Episode Return: -508.00\n",
      "Training step 12400: Loss = 3647.4070 | Env step = 47700\n",
      "Episode Return: -505.50\n",
      "Training complete!\n"
     ]
    }
   ],
   "source": [
    "stage2_train_losses = []\n",
    "stage2_episode_returns = []\n",
    "\n",
    "engine_config_channel.set_configuration_parameters(time_scale=speed_2)\n",
    "env.reset()\n",
    "\n",
    "for iteration in range(num_iterations_2):\n",
    "    if iteration == 1000:\n",
    "        agent_2._epsilon_greedy = 0.7\n",
    "    elif iteration == 2000:\n",
    "        agent_2._epsilon_greedy = 0.5\n",
    "    elif iteration == 4000:\n",
    "        agent_2._epsilon_greedy = 0.3\n",
    "    elif iteration == 6000:\n",
    "        agent_2._epsilon_greedy = 0.2\n",
    "    elif iteration == 8000:\n",
    "        agent_2._epsilon_greedy = 0.1\n",
    "    elif iteration == 10000:\n",
    "        agent_2._epsilon_greedy = 0.05\n",
    "\n",
    "    collect_data(collect_policy_2, \n",
    "                collect_steps_per_iteration_2,\n",
    "                tf_env_2,\n",
    "                stage2_replay_buffer)\n",
    "\n",
    "    experience, _ = next(stage2_iterator)\n",
    "    train_loss = agent_2.train(experience).loss\n",
    "\n",
    "    training_step = agent_2.train_step_counter.numpy()\n",
    "\n",
    "    # Evaluate progress\n",
    "    if training_step % eval_interval_2 == 0:\n",
    "        print(f'Training step {training_step}: Loss = {train_loss:.4f} | Env step = {iteration * collect_steps_per_iteration_2}')\n",
    "        stage2_train_losses.append(train_loss.numpy())\n",
    "        \n",
    "        time_step = tf_env_2.reset()\n",
    "        episode_return = 0.0\n",
    "        steps_in_episode = 0\n",
    "        spheres_collected = 0\n",
    "\n",
    "        while not time_step.is_last():\n",
    "            action_step = eval_policy_2.action(time_step)\n",
    "            time_step = tf_env_2.step(action_step.action)\n",
    "            episode_return += time_step.reward\n",
    "            steps_in_episode += 1\n",
    "            \n",
    "        stage2_episode_returns.append(episode_return.numpy()[0])\n",
    "        print(f'Episode Return: {episode_return.numpy()[0]:.2f}')\n",
    "\n",
    "print('Training complete!')"
   ]
  },
  {
   "cell_type": "markdown",
   "id": "6c0c5402",
   "metadata": {},
   "source": [
    "Visualizing training information"
   ]
  },
  {
   "cell_type": "code",
   "execution_count": 236,
   "id": "3c239299",
   "metadata": {},
   "outputs": [
    {
     "data": {
      "image/png": "[encoded data removed]",
      "text/plain": [
       "<Figure size 1500x500 with 2 Axes>"
      ]
     },
     "metadata": {},
     "output_type": "display_data"
    }
   ],
   "source": [
    "fig, (ax1, ax2) = plt.subplots(1, 2, figsize=(15, 5))\n",
    "\n",
    "ax1.plot(stage2_train_losses)\n",
    "ax1.set_title('Training Loss Over Time')\n",
    "ax1.set_xlabel('Training step x200')\n",
    "ax1.set_ylabel('Loss')\n",
    "ax1.grid(True)\n",
    "\n",
    "ax2.plot(stage2_episode_returns)\n",
    "ax2.set_title('Episode Returns Over Time')\n",
    "ax2.set_xlabel('Training step x200')\n",
    "ax2.set_ylabel('Episode Return')\n",
    "ax2.grid(True)\n",
    "\n",
    "plt.tight_layout()\n",
    "plt.show()"
   ]
  },
  {
   "cell_type": "markdown",
   "id": "2dce0c19",
   "metadata": {},
   "source": [
    "Model evaluation"
   ]
  },
  {
   "cell_type": "code",
   "execution_count": 238,
   "id": "dd0f9752",
   "metadata": {},
   "outputs": [
    {
     "name": "stdout",
     "output_type": "stream",
     "text": [
      "Episode 1: Return = -501.50, Steps = 13\n",
      "Episode 2: Return = -0.50, Steps = 407\n",
      "Episode 3: Return = -0.50, Steps = 407\n",
      "Episode 4: Return = -500.50, Steps = 42\n",
      "Episode 5: Return = -500.50, Steps = 13\n",
      "Episode 6: Return = -0.50, Steps = 407\n",
      "Episode 7: Return = -0.50, Steps = 407\n",
      "Episode 8: Return = -0.50, Steps = 407\n",
      "Episode 9: Return = -486.80, Steps = 34\n",
      "Episode 10: Return = 680.38, Steps = 407\n",
      "Average Return: -131.14\n",
      "Average Episode Length: 254.4 steps\n",
      "Best Episode: 680.38\n",
      "Worst Episode: -501.50\n"
     ]
    }
   ],
   "source": [
    "import time\n",
    "stage2_total_returns = []\n",
    "stage2_total_steps = []\n",
    "\n",
    "engine_config_channel.set_configuration_parameters(time_scale=2)\n",
    "for episode in range(10):\n",
    "    time_step = tf_env_2.reset()\n",
    "    episode_return = 0.0\n",
    "    steps_in_episode = 0\n",
    "\n",
    "    while not time_step.is_last():\n",
    "        action_step = eval_policy_2.action(time_step)\n",
    "        time_step = tf_env_2.step(action_step.action)\n",
    "        episode_return += time_step.reward\n",
    "        steps_in_episode += 1\n",
    "\n",
    "    stage2_total_returns.append(episode_return.numpy()[0])\n",
    "    stage2_total_steps.append(steps_in_episode)\n",
    "    print(f\"Episode {episode+1}: Return = {episode_return.numpy()[0]:.2f}, Steps = {steps_in_episode}\")\n",
    "\n",
    "avg_return = np.mean(stage2_total_returns)\n",
    "avg_steps = np.mean(stage2_total_steps)\n",
    "std_return = np.std(stage2_total_returns)\n",
    "\n",
    "print(f\"Average Return: {avg_return:.2f}\")\n",
    "print(f\"Average Episode Length: {avg_steps:.1f} steps\")\n",
    "print(f\"Best Episode: {max(stage2_total_returns):.2f}\")\n",
    "print(f\"Worst Episode: {min(stage2_total_returns):.2f}\")"
   ]
  },
  {
   "cell_type": "code",
   "execution_count": 46,
   "id": "ce37735e",
   "metadata": {},
   "outputs": [],
   "source": [
    "env.close()"
   ]
  },
  {
   "cell_type": "markdown",
   "id": "7a6ab16f",
   "metadata": {},
   "source": [
    "#### **Proximal Policy Optimization (PPO)**\n",
    "We are going to use PPO instead of a simple DQN agent, the rewards will be like this:\n",
    "- Falling: -100\n",
    "- Doing nothing: -1 (encouraging movement)\n",
    "- Collecting green sphere: +50"
   ]
  },
  {
   "cell_type": "markdown",
   "id": "6574c4a0",
   "metadata": {},
   "source": [
    "Creating a new environment wrapper"
   ]
  },
  {
   "cell_type": "code",
   "execution_count": 29,
   "id": "b8a2dbf1",
   "metadata": {},
   "outputs": [],
   "source": [
    "env.close()"
   ]
  },
  {
   "cell_type": "code",
   "execution_count": 33,
   "id": "da552e1f",
   "metadata": {},
   "outputs": [],
   "source": [
    "env_wrapper_ppo = EnvironmentWrapper(env, behavior_name, get_state)\n",
    "tf_env_ppo = tf_py_environment.TFPyEnvironment(env_wrapper_ppo)"
   ]
  },
  {
   "cell_type": "markdown",
   "id": "28aa5c11",
   "metadata": {},
   "source": [
    "Creating actor and critic networks"
   ]
  },
  {
   "cell_type": "code",
   "execution_count": 34,
   "id": "b8bbd2dd",
   "metadata": {},
   "outputs": [],
   "source": [
    "actor_net = actor_distribution_network.ActorDistributionNetwork(\n",
    "    tf_env_ppo.observation_spec(),\n",
    "    tf_env_ppo.action_spec(),\n",
    "    fc_layer_params=(256, 512, 128)\n",
    ")\n",
    "\n",
    "value_net = value_network.ValueNetwork(\n",
    "    tf_env_ppo.observation_spec(),\n",
    "    fc_layer_params=(256, 512, 128)\n",
    ")"
   ]
  },
  {
   "cell_type": "markdown",
   "id": "23394d92",
   "metadata": {},
   "source": [
    "Creating the agent"
   ]
  },
  {
   "cell_type": "code",
   "execution_count": 35,
   "id": "97828ff1",
   "metadata": {},
   "outputs": [],
   "source": [
    "train_step_counter_ppo = tf.Variable(0)\n",
    "\n",
    "optimizer_ppo = tf.keras.optimizers.Adam(learning_rate=0.001)\n",
    "\n",
    "ppo = ppo_agent.PPOAgent(\n",
    "    tf_env_ppo.time_step_spec(),\n",
    "    tf_env_ppo.action_spec(),\n",
    "    actor_net=actor_net,\n",
    "    value_net=value_net,\n",
    "    optimizer=optimizer_ppo,\n",
    "    normalize_observations=True,\n",
    "    normalize_rewards=True,\n",
    "    use_gae=True,\n",
    "    lambda_value=0.95,\n",
    "    train_step_counter=train_step_counter_ppo,\n",
    ")\n",
    "\n",
    "ppo.initialize()"
   ]
  },
  {
   "cell_type": "markdown",
   "id": "ba77a1e4",
   "metadata": {},
   "source": [
    "Creating the replay buffer"
   ]
  },
  {
   "cell_type": "code",
   "execution_count": 36,
   "id": "8c7301ed",
   "metadata": {},
   "outputs": [],
   "source": [
    "replay_buffer_ppo = tf_uniform_replay_buffer.TFUniformReplayBuffer(\n",
    "    data_spec=ppo.collect_data_spec,\n",
    "    batch_size=tf_env_ppo.batch_size,\n",
    "    max_length=100000\n",
    ")"
   ]
  },
  {
   "cell_type": "markdown",
   "id": "018166dd",
   "metadata": {},
   "source": [
    "Setting up the policies"
   ]
  },
  {
   "cell_type": "code",
   "execution_count": 37,
   "id": "b1249ef6",
   "metadata": {},
   "outputs": [],
   "source": [
    "eval_policy_ppo = ppo.policy\n",
    "collect_policy_ppo = ppo.collect_policy\n",
    "random_policy_ppo = random_tf_policy.RandomTFPolicy(\n",
    "    tf_env_ppo.time_step_spec(), \n",
    "    tf_env_ppo.action_spec()\n",
    ")"
   ]
  },
  {
   "cell_type": "markdown",
   "id": "f73912b7",
   "metadata": {},
   "source": [
    "Implementing the collect data function for PPO :\n",
    "<br>&emsp;&emsp;*Since we are using GAE, we need to store episodes and whole trajectories instead of batching random steps*"
   ]
  },
  {
   "cell_type": "code",
   "execution_count": 38,
   "id": "69303b02",
   "metadata": {},
   "outputs": [],
   "source": [
    "def collect_data_ppo(env, policy, num_episodes):\n",
    "    episode_counter = 0\n",
    "    episode_returns = []\n",
    "    \n",
    "    while episode_counter < num_episodes:\n",
    "        time_step = env.reset()\n",
    "        episode_return = 0.0\n",
    "        \n",
    "        while not time_step.is_last():\n",
    "            action_step = policy.action(time_step)\n",
    "            next_time_step = env.step(action_step.action)\n",
    "            traj = trajectory.from_transition(time_step, action_step, next_time_step)\n",
    "            \n",
    "            replay_buffer_ppo.add_batch(traj)\n",
    "            \n",
    "            episode_return += next_time_step.reward\n",
    "            time_step = next_time_step\n",
    "        \n",
    "        episode_returns.append(episode_return.numpy()[0])\n",
    "        episode_counter += 1\n",
    "    \n",
    "    return np.mean(episode_returns)"
   ]
  },
  {
   "cell_type": "code",
   "execution_count": 46,
   "id": "50626c32",
   "metadata": {},
   "outputs": [],
   "source": [
    "num_iterations_ppo = 200\n",
    "num_episodes_per_iteration = 5\n",
    "num_epochs_per_iteration = 5\n",
    "batch_size_ppo = 128\n",
    "eval_interval_ppo = 20\n",
    "speed_ppo = 500"
   ]
  },
  {
   "cell_type": "code",
   "execution_count": null,
   "id": "d2f25671",
   "metadata": {},
   "outputs": [
    {
     "name": "stdout",
     "output_type": "stream",
     "text": [
      "Data collected\n",
      "Iteration 0: Loss = -0.1556, Return = -128.80\n",
      "Evaluation return: -100.00 in 6 steps\n",
      "Data collected\n"
     ]
    },
    {
     "ename": "KeyboardInterrupt",
     "evalue": "",
     "output_type": "error",
     "traceback": [
      "\u001b[0;31m---------------------------------------------------------------------------\u001b[0m",
      "\u001b[0;31mKeyboardInterrupt\u001b[0m                         Traceback (most recent call last)",
      "Cell \u001b[0;32mIn[47], line 24\u001b[0m\n\u001b[1;32m     22\u001b[0m     \u001b[38;5;28;01mfor\u001b[39;00m j \u001b[38;5;129;01min\u001b[39;00m \u001b[38;5;28mrange\u001b[39m(replay_buffer_ppo\u001b[38;5;241m.\u001b[39mnum_frames() \u001b[38;5;241m/\u001b[39m\u001b[38;5;241m/\u001b[39m batch_size_ppo):\n\u001b[1;32m     23\u001b[0m         experience, _ \u001b[38;5;241m=\u001b[39m \u001b[38;5;28mnext\u001b[39m(iterator)\n\u001b[0;32m---> 24\u001b[0m         loss_info \u001b[38;5;241m=\u001b[39m \u001b[43mppo\u001b[49m\u001b[38;5;241;43m.\u001b[39;49m\u001b[43mtrain\u001b[49m\u001b[43m(\u001b[49m\u001b[43mexperience\u001b[49m\u001b[43m)\u001b[49m\n\u001b[1;32m     25\u001b[0m         total_loss \u001b[38;5;241m+\u001b[39m\u001b[38;5;241m=\u001b[39m loss_info\u001b[38;5;241m.\u001b[39mloss\u001b[38;5;241m.\u001b[39mnumpy()\n\u001b[1;32m     27\u001b[0m avg_loss \u001b[38;5;241m=\u001b[39m total_loss \u001b[38;5;241m/\u001b[39m (num_epochs_per_iteration \u001b[38;5;241m*\u001b[39m (replay_buffer_ppo\u001b[38;5;241m.\u001b[39mnum_frames() \u001b[38;5;241m/\u001b[39m\u001b[38;5;241m/\u001b[39m batch_size_ppo))\n",
      "File \u001b[0;32m~/miniforge3/envs/DQL_env/lib/python3.10/site-packages/tf_agents/agents/tf_agent.py:348\u001b[0m, in \u001b[0;36mTFAgent.train\u001b[0;34m(self, experience, weights, **kwargs)\u001b[0m\n\u001b[1;32m    342\u001b[0m   \u001b[38;5;28;01mraise\u001b[39;00m \u001b[38;5;167;01mRuntimeError\u001b[39;00m(\n\u001b[1;32m    343\u001b[0m       \u001b[38;5;124m\"\u001b[39m\u001b[38;5;124mCannot find _train_fn.  Did \u001b[39m\u001b[38;5;132;01m%s\u001b[39;00m\u001b[38;5;124m.__init__ call super?\u001b[39m\u001b[38;5;124m\"\u001b[39m\n\u001b[1;32m    344\u001b[0m       \u001b[38;5;241m%\u001b[39m \u001b[38;5;28mtype\u001b[39m(\u001b[38;5;28mself\u001b[39m)\u001b[38;5;241m.\u001b[39m\u001b[38;5;18m__name__\u001b[39m\n\u001b[1;32m    345\u001b[0m   )\n\u001b[1;32m    347\u001b[0m \u001b[38;5;28;01mif\u001b[39;00m \u001b[38;5;28mself\u001b[39m\u001b[38;5;241m.\u001b[39m_enable_functions:\n\u001b[0;32m--> 348\u001b[0m   loss_info \u001b[38;5;241m=\u001b[39m \u001b[38;5;28;43mself\u001b[39;49m\u001b[38;5;241;43m.\u001b[39;49m\u001b[43m_train_fn\u001b[49m\u001b[43m(\u001b[49m\n\u001b[1;32m    349\u001b[0m \u001b[43m      \u001b[49m\u001b[43mexperience\u001b[49m\u001b[38;5;241;43m=\u001b[39;49m\u001b[43mexperience\u001b[49m\u001b[43m,\u001b[49m\u001b[43m \u001b[49m\u001b[43mweights\u001b[49m\u001b[38;5;241;43m=\u001b[39;49m\u001b[43mweights\u001b[49m\u001b[43m,\u001b[49m\u001b[43m \u001b[49m\u001b[38;5;241;43m*\u001b[39;49m\u001b[38;5;241;43m*\u001b[39;49m\u001b[43mkwargs\u001b[49m\n\u001b[1;32m    350\u001b[0m \u001b[43m  \u001b[49m\u001b[43m)\u001b[49m\n\u001b[1;32m    351\u001b[0m \u001b[38;5;28;01melse\u001b[39;00m:\n\u001b[1;32m    352\u001b[0m   loss_info \u001b[38;5;241m=\u001b[39m \u001b[38;5;28mself\u001b[39m\u001b[38;5;241m.\u001b[39m_train(experience\u001b[38;5;241m=\u001b[39mexperience, weights\u001b[38;5;241m=\u001b[39mweights, \u001b[38;5;241m*\u001b[39m\u001b[38;5;241m*\u001b[39mkwargs)\n",
      "File \u001b[0;32m~/miniforge3/envs/DQL_env/lib/python3.10/site-packages/tf_agents/utils/common.py:193\u001b[0m, in \u001b[0;36mfunction_in_tf1.<locals>.maybe_wrap.<locals>.with_check_resource_vars\u001b[0;34m(*fn_args, **fn_kwargs)\u001b[0m\n\u001b[1;32m    189\u001b[0m check_tf1_allowed()\n\u001b[1;32m    190\u001b[0m \u001b[38;5;28;01mif\u001b[39;00m has_eager_been_enabled():\n\u001b[1;32m    191\u001b[0m   \u001b[38;5;66;03m# We're either in eager mode or in tf.function mode (no in-between); so\u001b[39;00m\n\u001b[1;32m    192\u001b[0m   \u001b[38;5;66;03m# autodep-like behavior is already expected of fn.\u001b[39;00m\n\u001b[0;32m--> 193\u001b[0m   \u001b[38;5;28;01mreturn\u001b[39;00m \u001b[43mfn\u001b[49m\u001b[43m(\u001b[49m\u001b[38;5;241;43m*\u001b[39;49m\u001b[43mfn_args\u001b[49m\u001b[43m,\u001b[49m\u001b[43m \u001b[49m\u001b[38;5;241;43m*\u001b[39;49m\u001b[38;5;241;43m*\u001b[39;49m\u001b[43mfn_kwargs\u001b[49m\u001b[43m)\u001b[49m\n\u001b[1;32m    194\u001b[0m \u001b[38;5;28;01mif\u001b[39;00m \u001b[38;5;129;01mnot\u001b[39;00m resource_variables_enabled():\n\u001b[1;32m    195\u001b[0m   \u001b[38;5;28;01mraise\u001b[39;00m \u001b[38;5;167;01mRuntimeError\u001b[39;00m(MISSING_RESOURCE_VARIABLES_ERROR)\n",
      "File \u001b[0;32m~/miniforge3/envs/DQL_env/lib/python3.10/site-packages/tf_agents/agents/ppo/ppo_agent.py:947\u001b[0m, in \u001b[0;36mPPOAgent._train\u001b[0;34m(self, experience, weights)\u001b[0m\n\u001b[1;32m    932\u001b[0m \u001b[38;5;28;01mwith\u001b[39;00m tf\u001b[38;5;241m.\u001b[39mGradientTape() \u001b[38;5;28;01mas\u001b[39;00m tape:\n\u001b[1;32m    933\u001b[0m   loss_info \u001b[38;5;241m=\u001b[39m \u001b[38;5;28mself\u001b[39m\u001b[38;5;241m.\u001b[39mget_loss(\n\u001b[1;32m    934\u001b[0m       time_steps,\n\u001b[1;32m    935\u001b[0m       actions,\n\u001b[0;32m   (...)\u001b[0m\n\u001b[1;32m    944\u001b[0m       training\u001b[38;5;241m=\u001b[39m\u001b[38;5;28;01mTrue\u001b[39;00m,\n\u001b[1;32m    945\u001b[0m   )\n\u001b[0;32m--> 947\u001b[0m grads \u001b[38;5;241m=\u001b[39m \u001b[43mtape\u001b[49m\u001b[38;5;241;43m.\u001b[39;49m\u001b[43mgradient\u001b[49m\u001b[43m(\u001b[49m\u001b[43mloss_info\u001b[49m\u001b[38;5;241;43m.\u001b[39;49m\u001b[43mloss\u001b[49m\u001b[43m,\u001b[49m\u001b[43m \u001b[49m\u001b[43mvariables_to_train\u001b[49m\u001b[43m)\u001b[49m\n\u001b[1;32m    948\u001b[0m \u001b[38;5;28;01mif\u001b[39;00m \u001b[38;5;28mself\u001b[39m\u001b[38;5;241m.\u001b[39m_gradient_clipping \u001b[38;5;241m>\u001b[39m \u001b[38;5;241m0\u001b[39m:\n\u001b[1;32m    949\u001b[0m   grads, _ \u001b[38;5;241m=\u001b[39m tf\u001b[38;5;241m.\u001b[39mclip_by_global_norm(grads, \u001b[38;5;28mself\u001b[39m\u001b[38;5;241m.\u001b[39m_gradient_clipping)\n",
      "File \u001b[0;32m~/miniforge3/envs/DQL_env/lib/python3.10/site-packages/tensorflow/python/eager/backprop.py:1066\u001b[0m, in \u001b[0;36mGradientTape.gradient\u001b[0;34m(self, target, sources, output_gradients, unconnected_gradients)\u001b[0m\n\u001b[1;32m   1060\u001b[0m   output_gradients \u001b[38;5;241m=\u001b[39m (\n\u001b[1;32m   1061\u001b[0m       composite_tensor_gradient\u001b[38;5;241m.\u001b[39mget_flat_tensors_for_gradients(\n\u001b[1;32m   1062\u001b[0m           output_gradients))\n\u001b[1;32m   1063\u001b[0m   output_gradients \u001b[38;5;241m=\u001b[39m [\u001b[38;5;28;01mNone\u001b[39;00m \u001b[38;5;28;01mif\u001b[39;00m x \u001b[38;5;129;01mis\u001b[39;00m \u001b[38;5;28;01mNone\u001b[39;00m \u001b[38;5;28;01melse\u001b[39;00m ops\u001b[38;5;241m.\u001b[39mconvert_to_tensor(x)\n\u001b[1;32m   1064\u001b[0m                       \u001b[38;5;28;01mfor\u001b[39;00m x \u001b[38;5;129;01min\u001b[39;00m output_gradients]\n\u001b[0;32m-> 1066\u001b[0m flat_grad \u001b[38;5;241m=\u001b[39m \u001b[43mimperative_grad\u001b[49m\u001b[38;5;241;43m.\u001b[39;49m\u001b[43mimperative_grad\u001b[49m\u001b[43m(\u001b[49m\n\u001b[1;32m   1067\u001b[0m \u001b[43m    \u001b[49m\u001b[38;5;28;43mself\u001b[39;49m\u001b[38;5;241;43m.\u001b[39;49m\u001b[43m_tape\u001b[49m\u001b[43m,\u001b[49m\n\u001b[1;32m   1068\u001b[0m \u001b[43m    \u001b[49m\u001b[43mflat_targets\u001b[49m\u001b[43m,\u001b[49m\n\u001b[1;32m   1069\u001b[0m \u001b[43m    \u001b[49m\u001b[43mflat_sources\u001b[49m\u001b[43m,\u001b[49m\n\u001b[1;32m   1070\u001b[0m \u001b[43m    \u001b[49m\u001b[43moutput_gradients\u001b[49m\u001b[38;5;241;43m=\u001b[39;49m\u001b[43moutput_gradients\u001b[49m\u001b[43m,\u001b[49m\n\u001b[1;32m   1071\u001b[0m \u001b[43m    \u001b[49m\u001b[43msources_raw\u001b[49m\u001b[38;5;241;43m=\u001b[39;49m\u001b[43mflat_sources_raw\u001b[49m\u001b[43m,\u001b[49m\n\u001b[1;32m   1072\u001b[0m \u001b[43m    \u001b[49m\u001b[43munconnected_gradients\u001b[49m\u001b[38;5;241;43m=\u001b[39;49m\u001b[43munconnected_gradients\u001b[49m\u001b[43m)\u001b[49m\n\u001b[1;32m   1074\u001b[0m \u001b[38;5;28;01mif\u001b[39;00m \u001b[38;5;129;01mnot\u001b[39;00m \u001b[38;5;28mself\u001b[39m\u001b[38;5;241m.\u001b[39m_persistent:\n\u001b[1;32m   1075\u001b[0m   \u001b[38;5;66;03m# Keep track of watched variables before setting tape to None\u001b[39;00m\n\u001b[1;32m   1076\u001b[0m   \u001b[38;5;28mself\u001b[39m\u001b[38;5;241m.\u001b[39m_watched_variables \u001b[38;5;241m=\u001b[39m \u001b[38;5;28mself\u001b[39m\u001b[38;5;241m.\u001b[39m_tape\u001b[38;5;241m.\u001b[39mwatched_variables()\n",
      "File \u001b[0;32m~/miniforge3/envs/DQL_env/lib/python3.10/site-packages/tensorflow/python/eager/imperative_grad.py:67\u001b[0m, in \u001b[0;36mimperative_grad\u001b[0;34m(tape, target, sources, output_gradients, sources_raw, unconnected_gradients)\u001b[0m\n\u001b[1;32m     63\u001b[0m \u001b[38;5;28;01mexcept\u001b[39;00m \u001b[38;5;167;01mValueError\u001b[39;00m:\n\u001b[1;32m     64\u001b[0m   \u001b[38;5;28;01mraise\u001b[39;00m \u001b[38;5;167;01mValueError\u001b[39;00m(\n\u001b[1;32m     65\u001b[0m       \u001b[38;5;124m\"\u001b[39m\u001b[38;5;124mUnknown value for unconnected_gradients: \u001b[39m\u001b[38;5;132;01m%r\u001b[39;00m\u001b[38;5;124m\"\u001b[39m \u001b[38;5;241m%\u001b[39m unconnected_gradients)\n\u001b[0;32m---> 67\u001b[0m \u001b[38;5;28;01mreturn\u001b[39;00m \u001b[43mpywrap_tfe\u001b[49m\u001b[38;5;241;43m.\u001b[39;49m\u001b[43mTFE_Py_TapeGradient\u001b[49m\u001b[43m(\u001b[49m\n\u001b[1;32m     68\u001b[0m \u001b[43m    \u001b[49m\u001b[43mtape\u001b[49m\u001b[38;5;241;43m.\u001b[39;49m\u001b[43m_tape\u001b[49m\u001b[43m,\u001b[49m\u001b[43m  \u001b[49m\u001b[38;5;66;43;03m# pylint: disable=protected-access\u001b[39;49;00m\n\u001b[1;32m     69\u001b[0m \u001b[43m    \u001b[49m\u001b[43mtarget\u001b[49m\u001b[43m,\u001b[49m\n\u001b[1;32m     70\u001b[0m \u001b[43m    \u001b[49m\u001b[43msources\u001b[49m\u001b[43m,\u001b[49m\n\u001b[1;32m     71\u001b[0m \u001b[43m    \u001b[49m\u001b[43moutput_gradients\u001b[49m\u001b[43m,\u001b[49m\n\u001b[1;32m     72\u001b[0m \u001b[43m    \u001b[49m\u001b[43msources_raw\u001b[49m\u001b[43m,\u001b[49m\n\u001b[1;32m     73\u001b[0m \u001b[43m    \u001b[49m\u001b[43mcompat\u001b[49m\u001b[38;5;241;43m.\u001b[39;49m\u001b[43mas_str\u001b[49m\u001b[43m(\u001b[49m\u001b[43munconnected_gradients\u001b[49m\u001b[38;5;241;43m.\u001b[39;49m\u001b[43mvalue\u001b[49m\u001b[43m)\u001b[49m\u001b[43m)\u001b[49m\n",
      "File \u001b[0;32m~/miniforge3/envs/DQL_env/lib/python3.10/site-packages/tensorflow/python/eager/backprop.py:148\u001b[0m, in \u001b[0;36m_gradient_function\u001b[0;34m(op_name, attr_tuple, num_inputs, inputs, outputs, out_grads, skip_input_indices, forward_pass_name_scope)\u001b[0m\n\u001b[1;32m    146\u001b[0m     gradient_name_scope \u001b[38;5;241m+\u001b[39m\u001b[38;5;241m=\u001b[39m forward_pass_name_scope \u001b[38;5;241m+\u001b[39m \u001b[38;5;124m\"\u001b[39m\u001b[38;5;124m/\u001b[39m\u001b[38;5;124m\"\u001b[39m\n\u001b[1;32m    147\u001b[0m   \u001b[38;5;28;01mwith\u001b[39;00m ops\u001b[38;5;241m.\u001b[39mname_scope(gradient_name_scope):\n\u001b[0;32m--> 148\u001b[0m     \u001b[38;5;28;01mreturn\u001b[39;00m \u001b[43mgrad_fn\u001b[49m\u001b[43m(\u001b[49m\u001b[43mmock_op\u001b[49m\u001b[43m,\u001b[49m\u001b[43m \u001b[49m\u001b[38;5;241;43m*\u001b[39;49m\u001b[43mout_grads\u001b[49m\u001b[43m)\u001b[49m\n\u001b[1;32m    149\u001b[0m \u001b[38;5;28;01melse\u001b[39;00m:\n\u001b[1;32m    150\u001b[0m   \u001b[38;5;28;01mreturn\u001b[39;00m grad_fn(mock_op, \u001b[38;5;241m*\u001b[39mout_grads)\n",
      "File \u001b[0;32m~/miniforge3/envs/DQL_env/lib/python3.10/site-packages/tensorflow/python/ops/math_grad.py:1423\u001b[0m, in \u001b[0;36m_MulGrad\u001b[0;34m(op, grad)\u001b[0m\n\u001b[1;32m   1417\u001b[0m x \u001b[38;5;241m=\u001b[39m op\u001b[38;5;241m.\u001b[39minputs[\u001b[38;5;241m0\u001b[39m]\n\u001b[1;32m   1418\u001b[0m \u001b[38;5;28;01mif\u001b[39;00m (\n\u001b[1;32m   1419\u001b[0m     \u001b[38;5;28misinstance\u001b[39m(grad, tensor\u001b[38;5;241m.\u001b[39mTensor)\n\u001b[1;32m   1420\u001b[0m     \u001b[38;5;129;01mand\u001b[39;00m _ShapesFullySpecifiedAndEqual(x, y, grad)\n\u001b[1;32m   1421\u001b[0m     \u001b[38;5;129;01mand\u001b[39;00m grad\u001b[38;5;241m.\u001b[39mdtype \u001b[38;5;129;01min\u001b[39;00m (dtypes\u001b[38;5;241m.\u001b[39mint32, dtypes\u001b[38;5;241m.\u001b[39mfloat32)\n\u001b[1;32m   1422\u001b[0m ):\n\u001b[0;32m-> 1423\u001b[0m   \u001b[38;5;28;01mreturn\u001b[39;00m \u001b[43mgen_math_ops\u001b[49m\u001b[38;5;241;43m.\u001b[39;49m\u001b[43mmul\u001b[49m\u001b[43m(\u001b[49m\u001b[43mgrad\u001b[49m\u001b[43m,\u001b[49m\u001b[43m \u001b[49m\u001b[43my\u001b[49m\u001b[43m)\u001b[49m, gen_math_ops\u001b[38;5;241m.\u001b[39mmul(grad, x)\n\u001b[1;32m   1424\u001b[0m \u001b[38;5;28;01massert\u001b[39;00m x\u001b[38;5;241m.\u001b[39mdtype\u001b[38;5;241m.\u001b[39mbase_dtype \u001b[38;5;241m==\u001b[39m y\u001b[38;5;241m.\u001b[39mdtype\u001b[38;5;241m.\u001b[39mbase_dtype, (x\u001b[38;5;241m.\u001b[39mdtype, \u001b[38;5;124m\"\u001b[39m\u001b[38;5;124m vs. \u001b[39m\u001b[38;5;124m\"\u001b[39m, y\u001b[38;5;241m.\u001b[39mdtype)\n\u001b[1;32m   1426\u001b[0m \u001b[38;5;28;01mif\u001b[39;00m \u001b[38;5;241m0\u001b[39m \u001b[38;5;129;01min\u001b[39;00m skip_input_indices:\n",
      "File \u001b[0;32m~/miniforge3/envs/DQL_env/lib/python3.10/site-packages/tensorflow/python/ops/gen_math_ops.py:6751\u001b[0m, in \u001b[0;36mmul\u001b[0;34m(x, y, name)\u001b[0m\n\u001b[1;32m   6749\u001b[0m \u001b[38;5;28;01mif\u001b[39;00m tld\u001b[38;5;241m.\u001b[39mis_eager:\n\u001b[1;32m   6750\u001b[0m   \u001b[38;5;28;01mtry\u001b[39;00m:\n\u001b[0;32m-> 6751\u001b[0m     _result \u001b[38;5;241m=\u001b[39m \u001b[43mpywrap_tfe\u001b[49m\u001b[38;5;241;43m.\u001b[39;49m\u001b[43mTFE_Py_FastPathExecute\u001b[49m\u001b[43m(\u001b[49m\n\u001b[1;32m   6752\u001b[0m \u001b[43m      \u001b[49m\u001b[43m_ctx\u001b[49m\u001b[43m,\u001b[49m\u001b[43m \u001b[49m\u001b[38;5;124;43m\"\u001b[39;49m\u001b[38;5;124;43mMul\u001b[39;49m\u001b[38;5;124;43m\"\u001b[39;49m\u001b[43m,\u001b[49m\u001b[43m \u001b[49m\u001b[43mname\u001b[49m\u001b[43m,\u001b[49m\u001b[43m \u001b[49m\u001b[43mx\u001b[49m\u001b[43m,\u001b[49m\u001b[43m \u001b[49m\u001b[43my\u001b[49m\u001b[43m)\u001b[49m\n\u001b[1;32m   6753\u001b[0m     \u001b[38;5;28;01mreturn\u001b[39;00m _result\n\u001b[1;32m   6754\u001b[0m   \u001b[38;5;28;01mexcept\u001b[39;00m _core\u001b[38;5;241m.\u001b[39m_NotOkStatusException \u001b[38;5;28;01mas\u001b[39;00m e:\n",
      "\u001b[0;31mKeyboardInterrupt\u001b[0m: "
     ]
    }
   ],
   "source": [
    "ppo_train_losses = []\n",
    "ppo_episode_returns = []\n",
    "\n",
    "engine_config_channel.set_configuration_parameters(time_scale=speed_ppo)\n",
    "env.reset()\n",
    "\n",
    "for iteration in range(num_iterations_ppo):\n",
    "    replay_buffer_ppo.clear()\n",
    "    avg_return = collect_data_ppo(tf_env_ppo, collect_policy_ppo, num_episodes_per_iteration)\n",
    "    \n",
    "    dataset = replay_buffer_ppo.as_dataset(\n",
    "        num_parallel_calls=3,\n",
    "        sample_batch_size=batch_size_ppo,\n",
    "        num_steps=2\n",
    "    ).prefetch(3)\n",
    "    iterator = iter(dataset)\n",
    "    \n",
    "    total_loss = 0\n",
    "    for i in range(num_epochs_per_iteration):\n",
    "        for j in range(replay_buffer_ppo.num_frames() // batch_size_ppo):\n",
    "            experience, _ = next(iterator)\n",
    "            loss_info = ppo.train(experience)\n",
    "            total_loss += loss_info.loss.numpy()\n",
    "    \n",
    "    avg_loss = total_loss / (num_epochs_per_iteration * (replay_buffer_ppo.num_frames() // batch_size_ppo))\n",
    "    \n",
    "    ppo_train_losses.append(avg_loss)\n",
    "    ppo_episode_returns.append(avg_return)\n",
    "\n",
    "    print(f'Iteration {iteration}: Loss = {avg_loss:.4f}, Return = {avg_return:.2f}')\n",
    "    \n",
    "    if iteration % eval_interval_ppo == 0:\n",
    "        time_step = tf_env_ppo.reset()\n",
    "        eval_return = 0.0\n",
    "        steps = 0\n",
    "        \n",
    "        while not time_step.is_last():\n",
    "            action_step = eval_policy_ppo.action(time_step)\n",
    "            time_step = tf_env_ppo.step(action_step.action)\n",
    "            eval_return += time_step.reward\n",
    "            steps += 1\n",
    "            \n",
    "        print(f'Evaluation return: {eval_return.numpy()[0]:.2f} in {steps} steps')\n",
    "\n",
    "print('Training complete!')"
   ]
  }
 ],
 "metadata": {
  "kernelspec": {
   "display_name": "DQL_env",
   "language": "python",
   "name": "python3"
  },
  "language_info": {
   "codemirror_mode": {
    "name": "ipython",
    "version": 3
   },
   "file_extension": ".py",
   "mimetype": "text/x-python",
   "name": "python",
   "nbconvert_exporter": "python",
   "pygments_lexer": "ipython3",
   "version": "3.10.12"
  }
 },
 "nbformat": 4,
 "nbformat_minor": 5
}
