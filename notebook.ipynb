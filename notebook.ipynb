{
 "cells": [
  {
   "cell_type": "markdown",
   "id": "b0d54c99",
   "metadata": {},
   "source": [
    "**Adding libraries and dependencies**"
   ]
  },
  {
   "cell_type": "code",
   "execution_count": 72,
   "id": "f11e35f4",
   "metadata": {},
   "outputs": [],
   "source": [
    "import numpy as np\n",
    "import tensorflow as tf\n",
    "\n",
    "from mlagents_envs.environment import UnityEnvironment\n",
    "from mlagents_envs.side_channel.engine_configuration_channel import EngineConfigurationChannel\n",
    "from mlagents_envs.base_env import ActionTuple\n",
    "from collections import deque\n",
    "\n",
    "import tf_agents\n",
    "from tf_agents.environments import py_environment\n",
    "from tf_agents.environments import tf_py_environment\n",
    "from tf_agents.networks import q_network\n",
    "from tf_agents.agents.dqn import dqn_agent\n",
    "from tf_agents.utils import common\n",
    "from tf_agents.policies import random_tf_policy\n",
    "from tf_agents.replay_buffers import tf_uniform_replay_buffer\n",
    "from tf_agents.trajectories import trajectory\n",
    "from tf_agents.specs import array_spec\n",
    "from tf_agents.policies import policy_saver\n",
    "\n",
    "import matplotlib.pyplot as plt"
   ]
  },
  {
   "cell_type": "markdown",
   "id": "c1ff98d1",
   "metadata": {},
   "source": [
    "Checking GPU detection"
   ]
  },
  {
   "cell_type": "code",
   "execution_count": 2,
   "id": "d7d874e4",
   "metadata": {},
   "outputs": [
    {
     "name": "stdout",
     "output_type": "stream",
     "text": [
      "[PhysicalDevice(name='/physical_device:GPU:0', device_type='GPU')]\n"
     ]
    },
    {
     "name": "stderr",
     "output_type": "stream",
     "text": [
      "2025-08-14 16:10:56.015565: I external/local_xla/xla/stream_executor/cuda/cuda_executor.cc:887] could not open file to read NUMA node: /sys/bus/pci/devices/0000:01:00.0/numa_node\n",
      "Your kernel may have been built without NUMA support.\n",
      "2025-08-14 16:10:56.063709: I external/local_xla/xla/stream_executor/cuda/cuda_executor.cc:887] could not open file to read NUMA node: /sys/bus/pci/devices/0000:01:00.0/numa_node\n",
      "Your kernel may have been built without NUMA support.\n",
      "2025-08-14 16:10:56.063765: I external/local_xla/xla/stream_executor/cuda/cuda_executor.cc:887] could not open file to read NUMA node: /sys/bus/pci/devices/0000:01:00.0/numa_node\n",
      "Your kernel may have been built without NUMA support.\n"
     ]
    }
   ],
   "source": [
    "print(tf.config.list_physical_devices('GPU'))"
   ]
  },
  {
   "cell_type": "markdown",
   "id": "e79e48b5",
   "metadata": {},
   "source": [
    "**Establishing connection with Unity environment**"
   ]
  },
  {
   "cell_type": "code",
   "execution_count": 159,
   "id": "44ab5f5f",
   "metadata": {},
   "outputs": [],
   "source": [
    "env.close()"
   ]
  },
  {
   "cell_type": "code",
   "execution_count": 160,
   "id": "88d95eab",
   "metadata": {},
   "outputs": [],
   "source": [
    "engine_config_channel = EngineConfigurationChannel()\n",
    "\n",
    "env = UnityEnvironment(\n",
    "    file_name=None,\n",
    "    worker_id=0,\n",
    "    base_port=5004,\n",
    "    side_channels=[engine_config_channel]\n",
    ")"
   ]
  },
  {
   "cell_type": "code",
   "execution_count": 161,
   "id": "7745b4e0",
   "metadata": {},
   "outputs": [
    {
     "name": "stdout",
     "output_type": "stream",
     "text": [
      "Behavior: RobotBehaviour?team=0\n",
      "Action branches: (5,)\n",
      "Observation shapes: [(45,), (10,)]\n",
      "Active agents: 1\n"
     ]
    }
   ],
   "source": [
    "env.reset()\n",
    "behavior_names = list(env.behavior_specs)\n",
    "behavior_name = behavior_names[0]\n",
    "behavior_spec = env.behavior_specs[behavior_name]\n",
    "\n",
    "print(f\"Behavior: {behavior_name}\")\n",
    "print(f\"Action branches: {behavior_spec.action_spec.discrete_branches}\")\n",
    "print(f\"Observation shapes: {[obs.shape for obs in behavior_spec.observation_specs]}\")\n",
    "\n",
    "decision_steps, terminal_steps = env.get_steps(behavior_name)\n",
    "print(f\"Active agents: {len(decision_steps)}\")"
   ]
  },
  {
   "cell_type": "markdown",
   "id": "751d26ee",
   "metadata": {},
   "source": [
    "### Action Space\n",
    "- **5 discrete actions** corresponding to possible movements:\n",
    "  - `0`: Do nothing\n",
    "  - `1`: Go right  \n",
    "  - `2`: Go left\n",
    "  - `3`: Go forward\n",
    "  - `4`: Go backwards\n",
    "\n",
    "### Observation Space\n",
    "\n",
    "#### Ray Perception (45 dimensions)\n",
    "- **45 values** from ML-Agents Ray Perception Sensor 3D component\n",
    "- Detects tags and distances in the environment. It detects the tags: Floor, GoodSphere, Badsphere. The Sensor contains 9 rays, each contains these following 5 observations:\n",
    "  - Floor: `0` not detected, `1` detected\n",
    "  - GoodSphere: `0` not detected, `1` detected\n",
    "  - BadSphere: `0` not detected, `1` detected\n",
    "  - Distance: varies from `0`(far) to `1`(close)\n",
    "  - Hit normal: Surface normal vector at the point where the ray intersects with the object (normalized)\n",
    "\n",
    "#### Agent State (10 dimensions)\n",
    "- **10 normalized values** divided as follows:\n",
    "  - Position: `x`, `z` coordinates\n",
    "  - Velocity: `x`, `z` velocity components  \n",
    "  - Rotation: `y`-axis rotation (facing direction)\n",
    "  - Distances to floor bounds: `top`, `bottom`, `right`, `left` \n",
    "  - Time: Elapsed time since episode start\n",
    "\n",
    "**Total observation size:** 55\n",
    "\n",
    "---"
   ]
  },
  {
   "cell_type": "code",
   "execution_count": 141,
   "id": "17cd20f7",
   "metadata": {},
   "outputs": [],
   "source": [
    "action_size = 5\n",
    "state_size = 55"
   ]
  },
  {
   "cell_type": "markdown",
   "id": "7955b847",
   "metadata": {},
   "source": [
    "Preparing a get_state function for model training and inference, that is responsible for getting the agent's state at the current step and returning information which will later be used by the model :\n",
    "- state (55,) : agent's state at the current step\n",
    "- reward (float) : reward of the current step\n",
    "- done (boolean) : whether the episode is terminated at the current step"
   ]
  },
  {
   "cell_type": "code",
   "execution_count": 142,
   "id": "b06a9cc6",
   "metadata": {},
   "outputs": [],
   "source": [
    "def get_state():\n",
    "    decision_steps, terminal_steps = env.get_steps(behavior_name)\n",
    "    \n",
    "    if len(decision_steps) > 0:\n",
    "        obs1 = decision_steps.obs[0][0] #Ray perception sensor observations\n",
    "        obs2 = decision_steps.obs[1][0] #Agent state observations\n",
    "        state = np.concatenate([obs1, obs2]) #Combine observations for correct DQN input format\n",
    "        return state, decision_steps.reward[0], False\n",
    "    \n",
    "    elif len(terminal_steps) > 0:\n",
    "        # Episode ended\n",
    "        obs1 = terminal_steps.obs[0][0]\n",
    "        obs2 = terminal_steps.obs[1][0] \n",
    "        state = np.concatenate([obs1, obs2])\n",
    "        return state, terminal_steps.reward[0], True\n",
    "    \n",
    "    return None, 0, False\n"
   ]
  },
  {
   "cell_type": "markdown",
   "id": "dc13a5b4",
   "metadata": {},
   "source": [
    "**Making a random Neural Network**"
   ]
  },
  {
   "cell_type": "code",
   "execution_count": 143,
   "id": "3768e999",
   "metadata": {},
   "outputs": [],
   "source": [
    "model = tf.keras.Sequential([\n",
    "    tf.keras.layers.Dense(256, activation='relu', input_shape=(state_size,)),\n",
    "    tf.keras.layers.Dense(512, activation='relu'),\n",
    "    tf.keras.layers.Dense(256, activation='relu'),\n",
    "    tf.keras.layers.Dense(128, activation='relu'),\n",
    "    tf.keras.layers.Dense(action_size, activation='linear')\n",
    "])"
   ]
  },
  {
   "cell_type": "code",
   "execution_count": 144,
   "id": "9992709f",
   "metadata": {},
   "outputs": [
    {
     "name": "stdout",
     "output_type": "stream",
     "text": [
      "Model: \"sequential_3\"\n",
      "_________________________________________________________________\n",
      " Layer (type)                Output Shape              Param #   \n",
      "=================================================================\n",
      " dense_85 (Dense)            (None, 256)               14336     \n",
      "                                                                 \n",
      " dense_86 (Dense)            (None, 512)               131584    \n",
      "                                                                 \n",
      " dense_87 (Dense)            (None, 256)               131328    \n",
      "                                                                 \n",
      " dense_88 (Dense)            (None, 128)               32896     \n",
      "                                                                 \n",
      " dense_89 (Dense)            (None, 5)                 645       \n",
      "                                                                 \n",
      "=================================================================\n",
      "Total params: 310789 (1.19 MB)\n",
      "Trainable params: 310789 (1.19 MB)\n",
      "Non-trainable params: 0 (0.00 Byte)\n",
      "_________________________________________________________________\n"
     ]
    }
   ],
   "source": [
    "model.summary()"
   ]
  },
  {
   "cell_type": "code",
   "execution_count": 145,
   "id": "d540d39d",
   "metadata": {},
   "outputs": [
    {
     "data": {
      "text/plain": [
       "array([ 0.13750727,  0.00921607,  0.03249387,  0.07085869, -0.03566846,\n",
       "        0.05218567, -0.02091374, -0.02513511,  0.07827139,  0.07110067,\n",
       "        0.13165237, -0.04992564, -0.09733048,  0.05739731, -0.03092451,\n",
       "       -0.04039246, -0.12494984,  0.00405794,  0.03127687,  0.03236151,\n",
       "       -0.01069216,  0.02104722, -0.12931222,  0.04634036,  0.07652424,\n",
       "       -0.0891984 ,  0.03692609, -0.09307221,  0.02865909,  0.08901645,\n",
       "        0.03213388,  0.07909602,  0.00285971, -0.05333754, -0.11070258,\n",
       "       -0.0636193 ,  0.08487228, -0.11352024,  0.10623053,  0.1303613 ,\n",
       "       -0.07430696, -0.02079445,  0.08171985, -0.0742671 ,  0.13154258,\n",
       "        0.13719131,  0.09895338,  0.02390234,  0.00431363, -0.02783852,\n",
       "       -0.09801717,  0.12024151,  0.0356047 ,  0.05814715, -0.08808   ],\n",
       "      dtype=float32)"
      ]
     },
     "execution_count": 145,
     "metadata": {},
     "output_type": "execute_result"
    }
   ],
   "source": [
    "l1_weights = model.get_weights()[0]\n",
    "l1_weights[:,0] #weights of the first neuron of the first layer"
   ]
  },
  {
   "cell_type": "markdown",
   "id": "30678d9b",
   "metadata": {},
   "source": [
    "Running the model with the initial random weights"
   ]
  },
  {
   "cell_type": "code",
   "execution_count": 146,
   "id": "33ad2d7c",
   "metadata": {},
   "outputs": [
    {
     "name": "stdout",
     "output_type": "stream",
     "text": [
      "Step 0: Action 2, Reward 0.00\n",
      "Step 10: Action 2, Reward 0.00\n",
      "Step 20: Action 2, Reward 0.00\n",
      "Step 30: Action 2, Reward 0.00\n",
      "Step 40: Action 2, Reward 0.00\n",
      "Step 50: Action 2, Reward 0.00\n",
      "Step 60: Action 2, Reward 0.00\n",
      "Step 70: Action 2, Reward 0.00\n",
      "Step 80: Action 2, Reward 0.00\n",
      "Step 90: Action 2, Reward 0.00\n"
     ]
    }
   ],
   "source": [
    "for step in range(100): #Run for 100 steps\n",
    "    state, reward, done = get_state()\n",
    "    \n",
    "    if state is not None:\n",
    "        if done:\n",
    "            env.reset()\n",
    "        q_values = model.predict(np.expand_dims(state, axis=0), verbose=0)\n",
    "        action = np.argmax(q_values[0])  # Choose best action\n",
    "        \n",
    "        if step % 10 == 0: \n",
    "            print(f\"Step {step}: Action {action}, Reward {reward:.2f}\")\n",
    "        \n",
    "        # Send action to Unity\n",
    "        action_tuple = ActionTuple(discrete=np.array([[action]]))\n",
    "        env.set_actions(behavior_name, action_tuple)\n",
    "        env.step()\n",
    "    else:\n",
    "        env.close()\n",
    "    "
   ]
  },
  {
   "cell_type": "markdown",
   "id": "f0286db8",
   "metadata": {},
   "source": [
    "**Creating environment wrapper for TF agents**"
   ]
  },
  {
   "cell_type": "code",
   "execution_count": 147,
   "id": "9117ce3f",
   "metadata": {},
   "outputs": [],
   "source": [
    "class EnvironmentWrapper(py_environment.PyEnvironment):\n",
    "    def __init__(self, unity_env, behavior_name):\n",
    "        super().__init__()\n",
    "        self.unity_env = unity_env\n",
    "        self.behavior_name = behavior_name\n",
    "        \n",
    "        self._action_spec = array_spec.BoundedArraySpec(\n",
    "            shape=(),\n",
    "            dtype=np.int32,\n",
    "            minimum=0,\n",
    "            maximum=4,\n",
    "            name='action'\n",
    "        )\n",
    "        self._observation_spec = array_spec.ArraySpec(\n",
    "            shape=(state_size,),\n",
    "            dtype=np.float32,\n",
    "            name='observation'\n",
    "        )\n",
    "\n",
    "        self._state = np.zeros(state_size, dtype=np.float32)\n",
    "        self._episode_ended = False\n",
    "\n",
    "    def action_spec(self):\n",
    "        return self._action_spec\n",
    "\n",
    "    def observation_spec(self):\n",
    "        return self._observation_spec\n",
    "\n",
    "    def _reset(self):\n",
    "        self.unity_env.reset()\n",
    "        self._episode_ended = False\n",
    "        state, _, _ = get_state()\n",
    "        if state is not None:\n",
    "            self._state = state.astype(np.float32)\n",
    "        return tf_agents.trajectories.time_step.restart(self._state)\n",
    "\n",
    "    def _step(self, action):\n",
    "        if self._episode_ended:\n",
    "            return self.reset()\n",
    "        \n",
    "        # Send action to Unity\n",
    "        action_tuple = ActionTuple(discrete=np.array([[action]]))\n",
    "        self.unity_env.set_actions(self.behavior_name, action_tuple)\n",
    "        self.unity_env.step()\n",
    "        \n",
    "        # Get new state\n",
    "        state, reward, done = get_state()\n",
    "        \n",
    "        if state is not None:\n",
    "            self._state = state.astype(np.float32)\n",
    "        \n",
    "        if done:\n",
    "            self._episode_ended = True\n",
    "            return tf_agents.trajectories.time_step.termination(self._state, reward)\n",
    "        else:\n",
    "            return tf_agents.trajectories.time_step.transition(self._state, reward)"
   ]
  },
  {
   "cell_type": "code",
   "execution_count": 162,
   "id": "e94b1465",
   "metadata": {},
   "outputs": [],
   "source": [
    "env_wrapper = EnvironmentWrapper(env, behavior_name)\n",
    "tf_env = tf_py_environment.TFPyEnvironment(env_wrapper)"
   ]
  },
  {
   "cell_type": "markdown",
   "id": "c2157f31",
   "metadata": {},
   "source": [
    "**Setting the architecture of the Q-neural-networks**"
   ]
  },
  {
   "cell_type": "code",
   "execution_count": 149,
   "id": "1d0873d3",
   "metadata": {},
   "outputs": [],
   "source": [
    "q_net = q_network.QNetwork(\n",
    "    tf_env.observation_spec(),\n",
    "    tf_env.action_spec(),\n",
    "    fc_layer_params=(256, 512, 256, 128)\n",
    ")"
   ]
  },
  {
   "cell_type": "markdown",
   "id": "352f9818",
   "metadata": {},
   "source": [
    "**Creating the agent (Deep-Q-Network)**"
   ]
  },
  {
   "cell_type": "code",
   "execution_count": 150,
   "id": "68a27375",
   "metadata": {},
   "outputs": [],
   "source": [
    "train_step_counter = tf.Variable(0)\n",
    "optimizer = tf.keras.optimizers.Adam(learning_rate=0.001)\n",
    "\n",
    "agent = dqn_agent.DqnAgent(\n",
    "    tf_env.time_step_spec(),\n",
    "    tf_env.action_spec(),\n",
    "    q_network=q_net,\n",
    "    optimizer=optimizer,\n",
    "    td_errors_loss_fn=common.element_wise_squared_loss,\n",
    "    train_step_counter=train_step_counter,\n",
    "    epsilon_greedy=0.1,\n",
    "    target_update_period=100,\n",
    "    gamma=0.99 \n",
    ")\n",
    "\n",
    "agent.initialize()"
   ]
  },
  {
   "cell_type": "markdown",
   "id": "f8339232",
   "metadata": {},
   "source": [
    "**Creating the replay buffer**"
   ]
  },
  {
   "cell_type": "code",
   "execution_count": 151,
   "id": "446ee226",
   "metadata": {},
   "outputs": [],
   "source": [
    "replay_buffer = tf_uniform_replay_buffer.TFUniformReplayBuffer(\n",
    "    data_spec=agent.collect_data_spec,\n",
    "    batch_size=tf_env.batch_size,\n",
    "    max_length=100000\n",
    ")"
   ]
  },
  {
   "cell_type": "markdown",
   "id": "4b87fd74",
   "metadata": {},
   "source": [
    "**Creating policies**"
   ]
  },
  {
   "cell_type": "code",
   "execution_count": 152,
   "id": "45e6effa",
   "metadata": {},
   "outputs": [],
   "source": [
    "eval_policy = agent.policy # greedy: for testing and inference\n",
    "collect_policy = agent.collect_policy # Epsilon-greedy: for training and exploration\n",
    "random_policy = random_tf_policy.RandomTFPolicy(  # Completely random: for initial data collection\n",
    "    tf_env.time_step_spec(), \n",
    "    tf_env.action_spec()\n",
    ")"
   ]
  },
  {
   "cell_type": "markdown",
   "id": "559531be",
   "metadata": {},
   "source": [
    "**Data collection**"
   ]
  },
  {
   "cell_type": "code",
   "execution_count": 157,
   "id": "442cdd92",
   "metadata": {},
   "outputs": [],
   "source": [
    "def collect_data(policy, steps, speed, replay_buffer):\n",
    "    engine_config_channel.set_configuration_parameters(time_scale=speed)\n",
    "    tf_env.reset()\n",
    "    for i in range(steps):\n",
    "        time_step = tf_env.current_time_step()\n",
    "        action_step = policy.action(time_step)\n",
    "        next_time_step = tf_env.step(action_step.action)\n",
    "        traj = trajectory.from_transition(time_step, action_step, next_time_step)\n",
    "        replay_buffer.add_batch(traj)\n",
    "        if i % 100 == 0 and i > 0:\n",
    "            print(f\"Collected {i} steps\")"
   ]
  },
  {
   "cell_type": "markdown",
   "id": "537e7e72",
   "metadata": {},
   "source": [
    "### **Training the model**\n",
    "**1<sup>st</sup> round of training**\n",
    "During this round, the agent learns not to fall. We remove the items from the environment and we change the reward like this:\n",
    "- Falling : -100\n",
    "- Doing nothing : -50 (to encourage the agent to learn to move without falling)"
   ]
  },
  {
   "cell_type": "markdown",
   "id": "4352f2e4",
   "metadata": {},
   "source": [
    "Collecting initial data randomly"
   ]
  },
  {
   "cell_type": "code",
   "execution_count": 163,
   "id": "b4957487",
   "metadata": {},
   "outputs": [],
   "source": [
    "#clearing the replay buffer in case it has some experiments from previous collections\n",
    "replay_buffer.clear()"
   ]
  },
  {
   "cell_type": "code",
   "execution_count": 164,
   "id": "0e3a821b",
   "metadata": {},
   "outputs": [
    {
     "name": "stdout",
     "output_type": "stream",
     "text": [
      "Collected 100 steps\n",
      "Collected 200 steps\n",
      "Collected 300 steps\n",
      "Collected 400 steps\n",
      "Collected 500 steps\n",
      "Collected 600 steps\n",
      "Collected 700 steps\n",
      "Collected 800 steps\n",
      "Collected 900 steps\n"
     ]
    }
   ],
   "source": [
    "collect_data(random_policy, 1000, 5, replay_buffer)"
   ]
  },
  {
   "cell_type": "code",
   "execution_count": 165,
   "id": "092f3f88",
   "metadata": {},
   "outputs": [],
   "source": [
    "num_iterations = 10000\n",
    "collect_steps_per_iteration = 4\n",
    "batch_size = 64\n",
    "eval_interval = 200\n",
    "\n",
    "dataset = replay_buffer.as_dataset(\n",
    "    num_parallel_calls=3,\n",
    "    sample_batch_size=batch_size,\n",
    "    num_steps=2\n",
    ").prefetch(3)\n",
    "\n",
    "iterator = iter(dataset)"
   ]
  },
  {
   "cell_type": "code",
   "execution_count": 166,
   "id": "80ad6a57",
   "metadata": {},
   "outputs": [
    {
     "name": "stdout",
     "output_type": "stream",
     "text": [
      "Training step 200: Loss = 0.7196 | Env step = 796\n",
      "Evaluation episode Return: -100.00\n",
      "Training step 400: Loss = 0.5428 | Env step = 1596\n",
      "Evaluation episode Return: 0.00\n",
      "Training step 600: Loss = 0.5635 | Env step = 2396\n",
      "Evaluation episode Return: -100.00\n",
      "Training step 800: Loss = 0.1308 | Env step = 3196\n",
      "Evaluation episode Return: -100.00\n",
      "Training step 1000: Loss = 0.0667 | Env step = 3996\n",
      "Evaluation episode Return: -100.00\n",
      "Training step 1200: Loss = 0.0141 | Env step = 4796\n",
      "Evaluation episode Return: -100.00\n",
      "Training step 1400: Loss = 0.4820 | Env step = 5596\n",
      "Evaluation episode Return: -100.00\n",
      "Training step 1600: Loss = 0.0545 | Env step = 6396\n",
      "Evaluation episode Return: -100.00\n",
      "Training step 1800: Loss = 0.0560 | Env step = 7196\n",
      "Evaluation episode Return: -100.00\n",
      "Training step 2000: Loss = 0.0557 | Env step = 7996\n",
      "Evaluation episode Return: -100.00\n",
      "Training step 2200: Loss = 0.0395 | Env step = 8796\n",
      "Evaluation episode Return: -100.00\n",
      "Training step 2400: Loss = 0.0976 | Env step = 9596\n",
      "Evaluation episode Return: -100.00\n",
      "Training step 2600: Loss = 0.1084 | Env step = 10396\n",
      "Evaluation episode Return: 0.00\n",
      "Training step 2800: Loss = 0.0093 | Env step = 11196\n",
      "Evaluation episode Return: -100.00\n",
      "Training step 3000: Loss = 0.2186 | Env step = 11996\n",
      "Evaluation episode Return: -100.00\n",
      "Training step 3200: Loss = 0.1078 | Env step = 12796\n",
      "Evaluation episode Return: -100.00\n",
      "Training step 3400: Loss = 0.0510 | Env step = 13596\n",
      "Evaluation episode Return: -100.00\n",
      "Training step 3600: Loss = 0.0175 | Env step = 14396\n",
      "Evaluation episode Return: -100.00\n",
      "Training step 3800: Loss = 21.7403 | Env step = 15196\n",
      "Evaluation episode Return: -100.00\n",
      "Training step 4000: Loss = 0.0943 | Env step = 15996\n",
      "Evaluation episode Return: 0.00\n",
      "Training step 4200: Loss = 1.0879 | Env step = 16796\n",
      "Evaluation episode Return: 0.00\n",
      "Training step 4400: Loss = 0.0866 | Env step = 17596\n",
      "Evaluation episode Return: -100.00\n",
      "Training step 4600: Loss = 0.0916 | Env step = 18396\n",
      "Evaluation episode Return: -100.00\n",
      "Training step 4800: Loss = 0.1795 | Env step = 19196\n",
      "Evaluation episode Return: -100.00\n",
      "Training step 5000: Loss = 0.0205 | Env step = 19996\n",
      "Evaluation episode Return: -100.00\n",
      "Training step 5200: Loss = 0.0022 | Env step = 20796\n",
      "Evaluation episode Return: -100.00\n",
      "Training step 5400: Loss = 0.1954 | Env step = 21596\n",
      "Evaluation episode Return: -100.00\n",
      "Training step 5600: Loss = 0.3693 | Env step = 22396\n",
      "Evaluation episode Return: -100.00\n",
      "Training step 5800: Loss = 0.1413 | Env step = 23196\n",
      "Evaluation episode Return: 0.00\n",
      "Training step 6000: Loss = 0.0349 | Env step = 23996\n",
      "Evaluation episode Return: -100.00\n",
      "Training step 6200: Loss = 0.0192 | Env step = 24796\n",
      "Evaluation episode Return: 0.00\n",
      "Training step 6400: Loss = 0.0570 | Env step = 25596\n",
      "Evaluation episode Return: -100.00\n",
      "Training step 6600: Loss = 0.0399 | Env step = 26396\n",
      "Evaluation episode Return: -100.00\n",
      "Training step 6800: Loss = 0.4489 | Env step = 27196\n",
      "Evaluation episode Return: -100.00\n",
      "Training step 7000: Loss = 0.0786 | Env step = 27996\n",
      "Evaluation episode Return: -100.00\n",
      "Training step 7200: Loss = 0.0995 | Env step = 28796\n",
      "Evaluation episode Return: -100.00\n",
      "Training step 7400: Loss = 0.0346 | Env step = 29596\n",
      "Evaluation episode Return: -100.00\n",
      "Training step 7600: Loss = 1.0579 | Env step = 30396\n",
      "Evaluation episode Return: -100.00\n",
      "Training step 7800: Loss = 0.3514 | Env step = 31196\n",
      "Evaluation episode Return: -100.00\n",
      "Training step 8000: Loss = 0.0104 | Env step = 31996\n",
      "Evaluation episode Return: -100.00\n",
      "Training step 8200: Loss = 0.0061 | Env step = 32796\n",
      "Evaluation episode Return: -100.00\n",
      "Training step 8400: Loss = 0.0107 | Env step = 33596\n",
      "Evaluation episode Return: -100.00\n",
      "Training step 8600: Loss = 0.0022 | Env step = 34396\n",
      "Evaluation episode Return: 0.00\n",
      "Training step 8800: Loss = 0.0008 | Env step = 35196\n",
      "Evaluation episode Return: -100.00\n",
      "Training step 9000: Loss = 61.0681 | Env step = 35996\n",
      "Evaluation episode Return: -100.00\n",
      "Training step 9200: Loss = 0.1541 | Env step = 36796\n",
      "Evaluation episode Return: -100.00\n",
      "Training step 9400: Loss = 0.0079 | Env step = 37596\n",
      "Evaluation episode Return: -100.00\n",
      "Training step 9600: Loss = 0.0036 | Env step = 38396\n",
      "Evaluation episode Return: -100.00\n",
      "Training step 9800: Loss = 0.0151 | Env step = 39196\n",
      "Evaluation episode Return: 0.00\n",
      "Training step 10000: Loss = 0.0135 | Env step = 39996\n",
      "Evaluation episode Return: 0.00\n",
      "Training complete\n"
     ]
    }
   ],
   "source": [
    "train_losses = []\n",
    "episode_returns = []\n",
    "\n",
    "for iteration in range(num_iterations):\n",
    "    #collect data for 4 steps\n",
    "    collect_data(collect_policy, collect_steps_per_iteration, 100, replay_buffer)\n",
    "\n",
    "    # Sample a random batch from the replay buffer and train the agent\n",
    "    experience, _ = next(iterator)\n",
    "    train_loss = agent.train(experience).loss\n",
    "    \n",
    "    training_step = agent.train_step_counter.numpy()\n",
    "\n",
    "    # Log and evaluate each 200 training step\n",
    "    if training_step % eval_interval == 0:\n",
    "        print(f'Training step {training_step}: Loss = {train_loss:.4f} | Env step = {iteration * collect_steps_per_iteration}')\n",
    "        train_losses.append(train_loss.numpy())\n",
    "        \n",
    "        engine_config_channel.set_configuration_parameters(time_scale=1)\n",
    "        time_step = tf_env.reset()\n",
    "        episode_return = 0.0\n",
    "        steps_in_episode = 0\n",
    "\n",
    "        while not time_step.is_last() and steps_in_episode < 500:\n",
    "            action_step = eval_policy.action(time_step)\n",
    "            time_step = tf_env.step(action_step.action)\n",
    "            episode_return += time_step.reward\n",
    "            steps_in_episode += 1\n",
    "            \n",
    "        episode_returns.append(episode_return.numpy()[0])\n",
    "        print(f'Evaluation episode Return: {episode_return.numpy()[0]:.2f}')\n",
    "\n",
    "print(\"Training complete\")"
   ]
  },
  {
   "cell_type": "markdown",
   "id": "00e478db",
   "metadata": {},
   "source": [
    "Visualizing training information"
   ]
  },
  {
   "cell_type": "code",
   "execution_count": 167,
   "id": "53468dbd",
   "metadata": {},
   "outputs": [
    {
     "data": {
      "image/png": "[encoded data removed]",
      "text/plain": [
       "<Figure size 1500x500 with 2 Axes>"
      ]
     },
     "metadata": {},
     "output_type": "display_data"
    }
   ],
   "source": [
    "fig, (ax1, ax2) = plt.subplots(1, 2, figsize=(15, 5))\n",
    "\n",
    "ax1.plot(train_losses)\n",
    "ax1.set_title('Training Loss Over Time')\n",
    "ax1.set_xlabel('Training step x200')\n",
    "ax1.set_ylabel('Loss')\n",
    "ax1.grid(True)\n",
    "\n",
    "ax2.plot(episode_returns)\n",
    "ax2.set_title('Episode Returns Over Time')\n",
    "ax2.set_xlabel('Training step x200')\n",
    "ax2.set_ylabel('Episode Return')\n",
    "ax2.grid(True)\n",
    "\n",
    "plt.tight_layout()\n",
    "plt.show()"
   ]
  },
  {
   "cell_type": "markdown",
   "id": "2a12d9c3",
   "metadata": {},
   "source": [
    "Running evaluation episodes"
   ]
  },
  {
   "cell_type": "code",
   "execution_count": 168,
   "id": "ee1eaa3a",
   "metadata": {},
   "outputs": [
    {
     "name": "stdout",
     "output_type": "stream",
     "text": [
      "Episode 1: Return = 0.00, Steps = 400\n",
      "Episode 2: Return = 0.00, Steps = 400\n",
      "Episode 3: Return = 0.00, Steps = 400\n",
      "Episode 4: Return = 0.00, Steps = 400\n",
      "Episode 5: Return = 0.00, Steps = 400\n",
      "Episode 6: Return = 0.00, Steps = 400\n",
      "Episode 7: Return = 0.00, Steps = 400\n",
      "Episode 8: Return = 0.00, Steps = 400\n",
      "Episode 9: Return = 0.00, Steps = 400\n",
      "Episode 10: Return = 0.00, Steps = 400\n",
      "Average Return: 0.00\n",
      "Average Episode Length: 400.0 steps\n",
      "Best Episode: 0.00\n",
      "Worst Episode: 0.00\n"
     ]
    }
   ],
   "source": [
    "total_returns = []\n",
    "total_steps = []\n",
    "\n",
    "engine_config_channel.set_configuration_parameters(time_scale=1)\n",
    "for episode in range(10):\n",
    "    time_step = tf_env.reset()\n",
    "    episode_return = 0.0\n",
    "    steps_in_episode = 0\n",
    "\n",
    "    while not time_step.is_last():\n",
    "        action_step = eval_policy.action(time_step)\n",
    "        time_step = tf_env.step(action_step.action)\n",
    "        episode_return += time_step.reward\n",
    "        steps_in_episode += 1\n",
    "    \n",
    "    total_returns.append(episode_return.numpy()[0])\n",
    "    total_steps.append(steps_in_episode)\n",
    "    print(f\"Episode {episode+1}: Return = {episode_return.numpy()[0]:.2f}, Steps = {steps_in_episode}\")\n",
    "\n",
    "avg_return = np.mean(total_returns)\n",
    "avg_steps = np.mean(total_steps)\n",
    "std_return = np.std(total_returns)\n",
    "\n",
    "print(f\"Average Return: {avg_return:.2f}\")\n",
    "print(f\"Average Episode Length: {avg_steps:.1f} steps\")\n",
    "print(f\"Best Episode: {max(total_returns):.2f}\")\n",
    "print(f\"Worst Episode: {min(total_returns):.2f}\")"
   ]
  },
  {
   "cell_type": "markdown",
   "id": "6c0cf18a",
   "metadata": {},
   "source": [
    "Visualizing evaluation information"
   ]
  },
  {
   "cell_type": "code",
   "execution_count": 169,
   "id": "825692df",
   "metadata": {},
   "outputs": [
    {
     "data": {
      "image/png": "[encoded data removed]",
      "text/plain": [
       "<Figure size 1500x500 with 2 Axes>"
      ]
     },
     "metadata": {},
     "output_type": "display_data"
    }
   ],
   "source": [
    "fig, (ax1, ax2) = plt.subplots(1, 2, figsize=(15, 5))\n",
    "\n",
    "ax1.plot(total_returns)\n",
    "ax1.set_title('Evaluation returns')\n",
    "ax1.set_xlabel('Evaluation step')\n",
    "ax1.set_ylabel('Return')\n",
    "ax1.grid(True)\n",
    "\n",
    "ax2.plot(total_steps)\n",
    "ax2.set_title('Evaluation duration (in steps)')\n",
    "ax2.set_xlabel('Evaluation step')\n",
    "ax2.set_ylabel('Episode Length (steps)')\n",
    "ax2.grid(True)"
   ]
  },
  {
   "cell_type": "code",
   "execution_count": 77,
   "id": "37cc70e8",
   "metadata": {},
   "outputs": [],
   "source": [
    "env.close()"
   ]
  },
  {
   "cell_type": "markdown",
   "id": "5a121a04",
   "metadata": {},
   "source": [
    "Saving the No-Fall policy and checkpoint"
   ]
  },
  {
   "cell_type": "code",
   "execution_count": 170,
   "id": "8973cdd2",
   "metadata": {},
   "outputs": [
    {
     "name": "stdout",
     "output_type": "stream",
     "text": [
      "INFO:tensorflow:Assets written to: ./saved_models/no_fall_agent/assets\n"
     ]
    },
    {
     "name": "stderr",
     "output_type": "stream",
     "text": [
      "/home/louay/miniforge3/envs/DQL_env/lib/python3.10/site-packages/tensorflow/python/saved_model/nested_structure_coder.py:458: UserWarning: Encoding a StructuredValue with type tfp.distributions.Deterministic_ACTTypeSpec; loading this StructuredValue will require that this type be imported and registered.\n",
      "  warnings.warn(\"Encoding a StructuredValue with type %s; loading this \"\n",
      "INFO:tensorflow:Assets written to: ./saved_models/no_fall_agent/assets\n"
     ]
    },
    {
     "data": {
      "text/plain": [
       "'./checkpoints/no_fall_checkpoint-1'"
      ]
     },
     "execution_count": 170,
     "metadata": {},
     "output_type": "execute_result"
    }
   ],
   "source": [
    "no_fall_policy_saver = policy_saver.PolicySaver(agent.policy)\n",
    "no_fall_policy_saver.save('./saved_models/no_fall_agent')\n",
    "\n",
    "# Save the entire agent state for continued training\n",
    "checkpoint = tf.train.Checkpoint(\n",
    "    q_net=agent._q_network,\n",
    "    target_q_net=agent._target_q_network,\n",
    "    optimizer=agent._optimizer,\n",
    "    train_step=agent.train_step_counter\n",
    ")\n",
    "checkpoint.save('./checkpoints/no_fall_checkpoint')"
   ]
  },
  {
   "cell_type": "markdown",
   "id": "48ae4114",
   "metadata": {},
   "source": [
    "**2<sup>nd</sup> round of training**\n",
    "During this round, the agent learns to collect good items (green spheres). We remove the red spheres from the environment and we change the rewards like this:\n",
    "- Falling : -100\n",
    "- Doing nothing : -5 (encouraging movement)\n",
    "- Collecting green sphere : +50"
   ]
  },
  {
   "cell_type": "markdown",
   "id": "f6e58c3a",
   "metadata": {},
   "source": [
    "Creating second agent with slightly different hyperparameters (for fine-tuning)"
   ]
  },
  {
   "cell_type": "code",
   "execution_count": 129,
   "id": "ee670791",
   "metadata": {},
   "outputs": [],
   "source": [
    "q_net = q_network.QNetwork(\n",
    "    tf_env.observation_spec(),\n",
    "    tf_env.action_spec(),\n",
    "    fc_layer_params=(256, 512, 256, 128)\n",
    ")\n",
    "\n",
    "train_step_counter = tf.Variable(0)\n",
    "optimizer = tf.keras.optimizers.Adam(learning_rate=0.0001)\n",
    "\n",
    "agent = dqn_agent.DqnAgent(\n",
    "    tf_env.time_step_spec(),\n",
    "    tf_env.action_spec(),\n",
    "    q_network=q_net,\n",
    "    optimizer=optimizer,\n",
    "    td_errors_loss_fn=common.element_wise_squared_loss,\n",
    "    train_step_counter=train_step_counter,\n",
    "    epsilon_greedy=0.02,\n",
    "    target_update_period=100,\n",
    "    gamma=0.99\n",
    ")\n",
    "\n",
    "agent.initialize()"
   ]
  },
  {
   "cell_type": "markdown",
   "id": "e46ecf74",
   "metadata": {},
   "source": [
    "Restoring the No-Fall agent checkpoint"
   ]
  },
  {
   "cell_type": "code",
   "execution_count": 130,
   "id": "a595d327",
   "metadata": {},
   "outputs": [],
   "source": [
    "checkpoint = tf.train.Checkpoint(\n",
    "    q_net=agent._q_network,\n",
    "    target_q_net=agent._target_q_network,\n",
    "    optimizer=agent._optimizer,\n",
    "    train_step=agent.train_step_counter\n",
    ")\n",
    "\n",
    "checkpoint_path = checkpoint.restore('./checkpoints/no_fall_checkpoint-1')"
   ]
  },
  {
   "cell_type": "markdown",
   "id": "a6191f11",
   "metadata": {},
   "source": [
    "Creating replay buffer for second round of training"
   ]
  },
  {
   "cell_type": "code",
   "execution_count": 104,
   "id": "9721547e",
   "metadata": {},
   "outputs": [],
   "source": [
    "stage2_replay_buffer = tf_uniform_replay_buffer.TFUniformReplayBuffer(\n",
    "    data_spec=agent.collect_data_spec,\n",
    "    batch_size=tf_env.batch_size,\n",
    "    max_length=100000\n",
    ")"
   ]
  },
  {
   "cell_type": "markdown",
   "id": "12893ad3",
   "metadata": {},
   "source": [
    "Setting up the new policies"
   ]
  },
  {
   "cell_type": "code",
   "execution_count": 131,
   "id": "b151ccfc",
   "metadata": {},
   "outputs": [],
   "source": [
    "eval_policy = agent.policy\n",
    "collect_policy = agent.collect_policy\n",
    "random_policy = random_tf_policy.RandomTFPolicy(\n",
    "    tf_env.time_step_spec(), \n",
    "    tf_env.action_spec()\n",
    ")"
   ]
  },
  {
   "cell_type": "markdown",
   "id": "f87cbfd3",
   "metadata": {},
   "source": [
    "Initial data collection"
   ]
  },
  {
   "cell_type": "code",
   "execution_count": 114,
   "id": "bb6fa109",
   "metadata": {},
   "outputs": [
    {
     "name": "stdout",
     "output_type": "stream",
     "text": [
      "Collected 100 steps\n",
      "Collected 200 steps\n",
      "Collected 300 steps\n",
      "Collected 400 steps\n",
      "Collected 100 steps\n",
      "Collected 200 steps\n",
      "Collected 300 steps\n",
      "Collected 400 steps\n",
      "Collected 500 steps\n",
      "Collected 600 steps\n",
      "Collected 700 steps\n",
      "Collected 800 steps\n",
      "Collected 900 steps\n"
     ]
    }
   ],
   "source": [
    "stage2_replay_buffer.clear()\n",
    "\n",
    "collect_data(eval_policy, 500, 5, stage2_replay_buffer)  # Collect some experiences from the No-Fall policy\n",
    "collect_data(random_policy, 1000, 5, stage2_replay_buffer)"
   ]
  },
  {
   "cell_type": "markdown",
   "id": "611c2a18",
   "metadata": {},
   "source": [
    "The training loop"
   ]
  },
  {
   "cell_type": "code",
   "execution_count": 115,
   "id": "6ac59f82",
   "metadata": {},
   "outputs": [],
   "source": [
    "num_iterations = 8000\n",
    "collect_steps_per_iteration = 2\n",
    "batch_size = 64\n",
    "eval_interval = 200\n",
    "speed = 100\n",
    "\n",
    "stage2_dataset = stage2_replay_buffer.as_dataset(\n",
    "    num_parallel_calls=3,\n",
    "    sample_batch_size=batch_size,\n",
    "    num_steps=2\n",
    ").prefetch(3)\n",
    "\n",
    "stage2_iterator = iter(stage2_dataset)"
   ]
  },
  {
   "cell_type": "code",
   "execution_count": 116,
   "id": "177d5b6a",
   "metadata": {},
   "outputs": [
    {
     "name": "stdout",
     "output_type": "stream",
     "text": [
      "Training step 10200: Loss = 3.9322 | Env step = 398\n",
      "Episode Return: 50.00\n",
      "Training step 10400: Loss = 63.2497 | Env step = 798\n",
      "Episode Return: -100.00\n",
      "Training step 10600: Loss = 5.3917 | Env step = 1198\n",
      "Episode Return: 0.00\n",
      "Training step 10800: Loss = 4.9053 | Env step = 1598\n",
      "Episode Return: -100.00\n",
      "Training step 11000: Loss = 3.5257 | Env step = 1998\n",
      "Episode Return: -120.00\n",
      "Training step 11200: Loss = 2.6830 | Env step = 2398\n",
      "Episode Return: -100.00\n",
      "Training step 11400: Loss = 16.2441 | Env step = 2798\n",
      "Episode Return: -100.00\n",
      "Training step 11600: Loss = 11.7937 | Env step = 3198\n",
      "Episode Return: -100.00\n",
      "Training step 11800: Loss = 4.7022 | Env step = 3598\n",
      "Episode Return: -100.00\n",
      "Training step 12000: Loss = 3.2641 | Env step = 3998\n",
      "Episode Return: -100.00\n",
      "Training step 12200: Loss = 4.3489 | Env step = 4398\n",
      "Episode Return: -100.00\n",
      "Training step 12400: Loss = 1.5620 | Env step = 4798\n",
      "Episode Return: -100.00\n",
      "Training step 12600: Loss = 0.7987 | Env step = 5198\n",
      "Episode Return: -100.00\n",
      "Training step 12800: Loss = 0.8531 | Env step = 5598\n",
      "Episode Return: -100.00\n",
      "Training step 13000: Loss = 1.3215 | Env step = 5998\n",
      "Episode Return: -110.00\n",
      "Training step 13200: Loss = 2.3423 | Env step = 6398\n",
      "Episode Return: 0.00\n",
      "Training step 13400: Loss = 0.7388 | Env step = 6798\n",
      "Episode Return: -115.00\n",
      "Training step 13600: Loss = 2.7538 | Env step = 7198\n",
      "Episode Return: -100.00\n",
      "Training step 13800: Loss = 6.7131 | Env step = 7598\n",
      "Episode Return: 0.00\n",
      "Training step 14000: Loss = 6.5604 | Env step = 7998\n",
      "Episode Return: -165.00\n",
      "Training step 14200: Loss = 1.1720 | Env step = 8398\n",
      "Episode Return: 100.00\n",
      "Training step 14400: Loss = 1.6877 | Env step = 8798\n",
      "Episode Return: -100.00\n",
      "Training step 14600: Loss = 9.5190 | Env step = 9198\n",
      "Episode Return: -140.00\n",
      "Training step 14800: Loss = 33.8634 | Env step = 9598\n",
      "Episode Return: -100.00\n",
      "Training step 15000: Loss = 4.4725 | Env step = 9998\n",
      "Episode Return: -100.00\n",
      "Training step 15200: Loss = 11.4101 | Env step = 10398\n",
      "Episode Return: -100.00\n",
      "Training step 15400: Loss = 5.7457 | Env step = 10798\n",
      "Episode Return: -100.00\n",
      "Training step 15600: Loss = 1.3587 | Env step = 11198\n",
      "Episode Return: -100.00\n",
      "Training step 15800: Loss = 1.7726 | Env step = 11598\n",
      "Episode Return: -100.00\n",
      "Training step 16000: Loss = 22.9786 | Env step = 11998\n",
      "Episode Return: -50.00\n",
      "Training step 16200: Loss = 1.5510 | Env step = 12398\n",
      "Episode Return: -100.00\n",
      "Training step 16400: Loss = 10.4689 | Env step = 12798\n",
      "Episode Return: -100.00\n",
      "Training step 16600: Loss = 3.1695 | Env step = 13198\n",
      "Episode Return: -105.00\n",
      "Training step 16800: Loss = 39.6631 | Env step = 13598\n",
      "Episode Return: -115.00\n",
      "Training step 17000: Loss = 1.7503 | Env step = 13998\n",
      "Episode Return: -105.00\n",
      "Training step 17200: Loss = 3.1972 | Env step = 14398\n",
      "Episode Return: -100.00\n",
      "Training step 17400: Loss = 5.2455 | Env step = 14798\n",
      "Episode Return: -120.00\n",
      "Training step 17600: Loss = 12.1161 | Env step = 15198\n",
      "Episode Return: -100.00\n",
      "Training step 17800: Loss = 3.1459 | Env step = 15598\n",
      "Episode Return: -100.00\n",
      "Training step 18000: Loss = 2.9612 | Env step = 15998\n",
      "Episode Return: -100.00\n",
      "Training complete!\n"
     ]
    }
   ],
   "source": [
    "stage2_train_losses = []\n",
    "stage2_episode_returns = []\n",
    "\n",
    "for iteration in range(num_iterations):\n",
    "    collect_data(collect_policy, \n",
    "                collect_steps_per_iteration, \n",
    "                speed,\n",
    "                stage2_replay_buffer)\n",
    "\n",
    "    experience, _ = next(stage2_iterator)\n",
    "    train_loss = agent.train(experience).loss\n",
    "    \n",
    "    training_step = agent.train_step_counter.numpy()\n",
    "\n",
    "    # Evaluate progress\n",
    "    if training_step % eval_interval == 0:\n",
    "        print(f'Training step {training_step}: Loss = {train_loss:.4f} | Env step = {iteration * collect_steps_per_iteration}')\n",
    "        stage2_train_losses.append(train_loss.numpy())\n",
    "        \n",
    "        engine_config_channel.set_configuration_parameters(time_scale=1)\n",
    "        time_step = tf_env.reset()\n",
    "        episode_return = 0.0\n",
    "        steps_in_episode = 0\n",
    "        spheres_collected = 0\n",
    "\n",
    "        while not time_step.is_last():\n",
    "            action_step = eval_policy.action(time_step)\n",
    "            time_step = tf_env.step(action_step.action)\n",
    "            episode_return += time_step.reward\n",
    "            steps_in_episode += 1\n",
    "            \n",
    "        stage2_episode_returns.append(episode_return.numpy()[0])\n",
    "        print(f'Episode Return: {episode_return.numpy()[0]:.2f}')\n",
    "\n",
    "print('Training complete!')"
   ]
  },
  {
   "cell_type": "markdown",
   "id": "6c0c5402",
   "metadata": {},
   "source": [
    "Visualizing training information"
   ]
  },
  {
   "cell_type": "code",
   "execution_count": 117,
   "id": "3c239299",
   "metadata": {},
   "outputs": [
    {
     "data": {
      "image/png": "[encoded data removed]",
      "text/plain": [
       "<Figure size 1500x500 with 2 Axes>"
      ]
     },
     "metadata": {},
     "output_type": "display_data"
    }
   ],
   "source": [
    "fig, (ax1, ax2) = plt.subplots(1, 2, figsize=(15, 5))\n",
    "\n",
    "ax1.plot(stage2_train_losses)\n",
    "ax1.set_title('Training Loss Over Time')\n",
    "ax1.set_xlabel('Training step x200')\n",
    "ax1.set_ylabel('Loss')\n",
    "ax1.grid(True)\n",
    "\n",
    "ax2.plot(stage2_episode_returns)\n",
    "ax2.set_title('Episode Returns Over Time')\n",
    "ax2.set_xlabel('Training step x200')\n",
    "ax2.set_ylabel('Episode Return')\n",
    "ax2.grid(True)\n",
    "\n",
    "plt.tight_layout()\n",
    "plt.show()"
   ]
  },
  {
   "cell_type": "markdown",
   "id": "2dce0c19",
   "metadata": {},
   "source": [
    "Model evaluation"
   ]
  },
  {
   "cell_type": "code",
   "execution_count": 132,
   "id": "dd0f9752",
   "metadata": {},
   "outputs": [
    {
     "name": "stdout",
     "output_type": "stream",
     "text": [
      "Episode 1: Return = 0.00, Steps = 400\n",
      "Episode 2: Return = 50.00, Steps = 400\n",
      "Episode 3: Return = 0.00, Steps = 400\n",
      "Episode 4: Return = -100.00, Steps = 6\n",
      "Episode 5: Return = 50.00, Steps = 400\n",
      "Episode 6: Return = -100.00, Steps = 15\n",
      "Episode 7: Return = 50.00, Steps = 400\n",
      "Episode 8: Return = 0.00, Steps = 400\n",
      "Episode 9: Return = 50.00, Steps = 400\n",
      "Episode 10: Return = 0.00, Steps = 400\n",
      "Average Return: 0.00\n",
      "Average Episode Length: 322.1 steps\n",
      "Best Episode: 50.00\n",
      "Worst Episode: -100.00\n"
     ]
    }
   ],
   "source": [
    "stage2_total_returns = []\n",
    "stage2_total_steps = []\n",
    "\n",
    "engine_config_channel.set_configuration_parameters(time_scale=3)\n",
    "for episode in range(10):\n",
    "    time_step = tf_env.reset()\n",
    "    episode_return = 0.0\n",
    "    steps_in_episode = 0\n",
    "\n",
    "    while not time_step.is_last():\n",
    "        action_step = eval_policy.action(time_step)\n",
    "        time_step = tf_env.step(action_step.action)\n",
    "        episode_return += time_step.reward\n",
    "        steps_in_episode += 1\n",
    "    \n",
    "    stage2_total_returns.append(episode_return.numpy()[0])\n",
    "    stage2_total_steps.append(steps_in_episode)\n",
    "    print(f\"Episode {episode+1}: Return = {episode_return.numpy()[0]:.2f}, Steps = {steps_in_episode}\")\n",
    "\n",
    "avg_return = np.mean(stage2_total_returns)\n",
    "avg_steps = np.mean(stage2_total_steps)\n",
    "std_return = np.std(stage2_total_returns)\n",
    "\n",
    "print(f\"Average Return: {avg_return:.2f}\")\n",
    "print(f\"Average Episode Length: {avg_steps:.1f} steps\")\n",
    "print(f\"Best Episode: {max(stage2_total_returns):.2f}\")\n",
    "print(f\"Worst Episode: {min(stage2_total_returns):.2f}\")"
   ]
  }
 ],
 "metadata": {
  "kernelspec": {
   "display_name": "DQL_env",
   "language": "python",
   "name": "python3"
  },
  "language_info": {
   "codemirror_mode": {
    "name": "ipython",
    "version": 3
   },
   "file_extension": ".py",
   "mimetype": "text/x-python",
   "name": "python",
   "nbconvert_exporter": "python",
   "pygments_lexer": "ipython3",
   "version": "3.10.12"
  }
 },
 "nbformat": 4,
 "nbformat_minor": 5
}
