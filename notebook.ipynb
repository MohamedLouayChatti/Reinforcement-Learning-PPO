{
 "cells": [
  {
   "cell_type": "markdown",
   "id": "b0d54c99",
   "metadata": {},
   "source": [
    "**Adding libraries and dependencies**"
   ]
  },
  {
   "cell_type": "code",
   "execution_count": 72,
   "id": "f11e35f4",
   "metadata": {},
   "outputs": [],
   "source": [
    "import numpy as np\n",
    "import tensorflow as tf\n",
    "\n",
    "from mlagents_envs.environment import UnityEnvironment\n",
    "from mlagents_envs.side_channel.engine_configuration_channel import EngineConfigurationChannel\n",
    "from mlagents_envs.base_env import ActionTuple\n",
    "from collections import deque\n",
    "\n",
    "import tf_agents\n",
    "from tf_agents.environments import py_environment\n",
    "from tf_agents.environments import tf_py_environment\n",
    "from tf_agents.networks import q_network\n",
    "from tf_agents.agents.dqn import dqn_agent\n",
    "from tf_agents.utils import common\n",
    "from tf_agents.policies import random_tf_policy\n",
    "from tf_agents.replay_buffers import tf_uniform_replay_buffer\n",
    "from tf_agents.trajectories import trajectory\n",
    "from tf_agents.specs import array_spec\n",
    "from tf_agents.policies import policy_saver\n",
    "\n",
    "import matplotlib.pyplot as plt"
   ]
  },
  {
   "cell_type": "markdown",
   "id": "c1ff98d1",
   "metadata": {},
   "source": [
    "Checking GPU detection"
   ]
  },
  {
   "cell_type": "code",
   "execution_count": 2,
   "id": "d7d874e4",
   "metadata": {},
   "outputs": [
    {
     "name": "stdout",
     "output_type": "stream",
     "text": [
      "[PhysicalDevice(name='/physical_device:GPU:0', device_type='GPU')]\n"
     ]
    },
    {
     "name": "stderr",
     "output_type": "stream",
     "text": [
      "2025-08-14 16:10:56.015565: I external/local_xla/xla/stream_executor/cuda/cuda_executor.cc:887] could not open file to read NUMA node: /sys/bus/pci/devices/0000:01:00.0/numa_node\n",
      "Your kernel may have been built without NUMA support.\n",
      "2025-08-14 16:10:56.063709: I external/local_xla/xla/stream_executor/cuda/cuda_executor.cc:887] could not open file to read NUMA node: /sys/bus/pci/devices/0000:01:00.0/numa_node\n",
      "Your kernel may have been built without NUMA support.\n",
      "2025-08-14 16:10:56.063765: I external/local_xla/xla/stream_executor/cuda/cuda_executor.cc:887] could not open file to read NUMA node: /sys/bus/pci/devices/0000:01:00.0/numa_node\n",
      "Your kernel may have been built without NUMA support.\n"
     ]
    }
   ],
   "source": [
    "print(tf.config.list_physical_devices('GPU'))"
   ]
  },
  {
   "cell_type": "markdown",
   "id": "e79e48b5",
   "metadata": {},
   "source": [
    "**Establishing connection with Unity environment**"
   ]
  },
  {
   "cell_type": "code",
   "execution_count": 84,
   "id": "88d95eab",
   "metadata": {},
   "outputs": [],
   "source": [
    "engine_config_channel = EngineConfigurationChannel()\n",
    "\n",
    "env = UnityEnvironment(\n",
    "    file_name=None,\n",
    "    worker_id=0,\n",
    "    base_port=5004,\n",
    "    side_channels=[engine_config_channel]\n",
    ")"
   ]
  },
  {
   "cell_type": "code",
   "execution_count": 85,
   "id": "7745b4e0",
   "metadata": {},
   "outputs": [
    {
     "name": "stdout",
     "output_type": "stream",
     "text": [
      "Behavior: RobotBehaviour?team=0\n",
      "Action branches: (5,)\n",
      "Observation shapes: [(45,), (12,)]\n",
      "Active agents: 1\n"
     ]
    }
   ],
   "source": [
    "env.reset()\n",
    "behavior_names = list(env.behavior_specs)\n",
    "behavior_name = behavior_names[0]\n",
    "behavior_spec = env.behavior_specs[behavior_name]\n",
    "\n",
    "print(f\"Behavior: {behavior_name}\")\n",
    "print(f\"Action branches: {behavior_spec.action_spec.discrete_branches}\")\n",
    "print(f\"Observation shapes: {[obs.shape for obs in behavior_spec.observation_specs]}\")\n",
    "\n",
    "decision_steps, terminal_steps = env.get_steps(behavior_name)\n",
    "print(f\"Active agents: {len(decision_steps)}\")"
   ]
  },
  {
   "cell_type": "markdown",
   "id": "751d26ee",
   "metadata": {},
   "source": [
    "### Action Space\n",
    "- **5 discrete actions** corresponding to possible movements:\n",
    "  - `0`: Do nothing\n",
    "  - `1`: Go right  \n",
    "  - `2`: Go left\n",
    "  - `3`: Go forward\n",
    "  - `4`: Go backwards\n",
    "\n",
    "### Observation Space\n",
    "\n",
    "#### Ray Perception (45 dimensions)\n",
    "- **45 values** from ML-Agents Ray Perception Sensor 3D component\n",
    "- Detects sphere tags and distances in the environment\n",
    "\n",
    "#### Agent State (12 dimensions)\n",
    "- **8 values** divided as follows:\n",
    "  - Position: `x`, `y`, `z` coordinates\n",
    "  - Velocity: `x`, `y`, `z` velocity components  \n",
    "  - Rotation: `y`-axis rotation (facing direction)\n",
    "  - Distances to floor bounds: `top`, `bottom`, `right`, `left` \n",
    "  - Time: Elapsed time since episode start\n",
    "\n",
    "**Total observation size:** 57\n",
    "\n",
    "---"
   ]
  },
  {
   "cell_type": "code",
   "execution_count": 54,
   "id": "17cd20f7",
   "metadata": {},
   "outputs": [],
   "source": [
    "action_size = 5\n",
    "state_size = 57"
   ]
  },
  {
   "cell_type": "markdown",
   "id": "7955b847",
   "metadata": {},
   "source": [
    "Preparing a get_state function for model training and inference, that is responsible for getting the agent's state at the current step and returning information which will later be used by the model :\n",
    "- state (48,) : agent's state at the current step\n",
    "- reward (float) : reward of the current step\n",
    "- done (boolean) : whether the episode is terminated at the current step"
   ]
  },
  {
   "cell_type": "code",
   "execution_count": 55,
   "id": "b06a9cc6",
   "metadata": {},
   "outputs": [],
   "source": [
    "def get_state():\n",
    "    decision_steps, terminal_steps = env.get_steps(behavior_name)\n",
    "    \n",
    "    if len(decision_steps) > 0:\n",
    "        obs1 = decision_steps.obs[0][0] #Ray perception sensor observations\n",
    "        obs2 = decision_steps.obs[1][0] #Agent state observations\n",
    "        state = np.concatenate([obs1, obs2]) #Combine observations for correct DQN input format\n",
    "        return state, decision_steps.reward[0], False\n",
    "    \n",
    "    elif len(terminal_steps) > 0:\n",
    "        # Episode ended\n",
    "        obs1 = terminal_steps.obs[0][0]\n",
    "        obs2 = terminal_steps.obs[1][0] \n",
    "        state = np.concatenate([obs1, obs2])\n",
    "        return state, terminal_steps.reward[0], True\n",
    "    \n",
    "    return None, 0, False\n"
   ]
  },
  {
   "cell_type": "markdown",
   "id": "dc13a5b4",
   "metadata": {},
   "source": [
    "**Making a random Neural Network**"
   ]
  },
  {
   "cell_type": "code",
   "execution_count": 56,
   "id": "3768e999",
   "metadata": {},
   "outputs": [],
   "source": [
    "model = tf.keras.Sequential([\n",
    "    tf.keras.layers.Dense(256, activation='relu', input_shape=(state_size,)),\n",
    "    tf.keras.layers.Dense(512, activation='relu'),\n",
    "    tf.keras.layers.Dense(256, activation='relu'),\n",
    "    tf.keras.layers.Dense(128, activation='relu'),\n",
    "    tf.keras.layers.Dense(action_size, activation='linear')\n",
    "])"
   ]
  },
  {
   "cell_type": "code",
   "execution_count": 57,
   "id": "9992709f",
   "metadata": {},
   "outputs": [
    {
     "name": "stdout",
     "output_type": "stream",
     "text": [
      "Model: \"sequential_2\"\n",
      "_________________________________________________________________\n",
      " Layer (type)                Output Shape              Param #   \n",
      "=================================================================\n",
      " dense_30 (Dense)            (None, 256)               14848     \n",
      "                                                                 \n",
      " dense_31 (Dense)            (None, 512)               131584    \n",
      "                                                                 \n",
      " dense_32 (Dense)            (None, 256)               131328    \n",
      "                                                                 \n",
      " dense_33 (Dense)            (None, 128)               32896     \n",
      "                                                                 \n",
      " dense_34 (Dense)            (None, 5)                 645       \n",
      "                                                                 \n",
      "=================================================================\n",
      "Total params: 311301 (1.19 MB)\n",
      "Trainable params: 311301 (1.19 MB)\n",
      "Non-trainable params: 0 (0.00 Byte)\n",
      "_________________________________________________________________\n"
     ]
    }
   ],
   "source": [
    "model.summary()"
   ]
  },
  {
   "cell_type": "code",
   "execution_count": 38,
   "id": "d540d39d",
   "metadata": {},
   "outputs": [
    {
     "data": {
      "text/plain": [
       "array([-0.02838897,  0.02333619,  0.04874171, -0.08549783, -0.10646552,\n",
       "       -0.13457386,  0.06700088, -0.02750652, -0.06954829, -0.03087867,\n",
       "       -0.08117439,  0.02015552,  0.10516781,  0.1060719 , -0.03732625,\n",
       "        0.00188391,  0.0436953 ,  0.07761207,  0.03557386, -0.05899277,\n",
       "        0.08375359, -0.10286411,  0.05555463,  0.0234054 , -0.0813136 ,\n",
       "       -0.05215312, -0.05487957,  0.13594769,  0.00822037, -0.04489828,\n",
       "       -0.13517821,  0.07965907, -0.038134  , -0.00900714, -0.10342023,\n",
       "       -0.04595608, -0.0030787 , -0.02070685,  0.05747057,  0.0612779 ,\n",
       "        0.02498183, -0.10417239, -0.09693228,  0.09807782, -0.0392561 ,\n",
       "       -0.11684372,  0.09479111,  0.11922835,  0.09325603,  0.0564481 ,\n",
       "        0.10255653, -0.13235676, -0.12824011, -0.03055682, -0.09615614,\n",
       "        0.11107819, -0.00457402], dtype=float32)"
      ]
     },
     "execution_count": 38,
     "metadata": {},
     "output_type": "execute_result"
    }
   ],
   "source": [
    "l1_weights = model.get_weights()[0]\n",
    "l1_weights[:,0] #weights of the first neuron of the first layer"
   ]
  },
  {
   "cell_type": "markdown",
   "id": "30678d9b",
   "metadata": {},
   "source": [
    "Running the model with the initial random weights"
   ]
  },
  {
   "cell_type": "code",
   "execution_count": 39,
   "id": "33ad2d7c",
   "metadata": {},
   "outputs": [
    {
     "name": "stdout",
     "output_type": "stream",
     "text": [
      "Step 0: Action 0, Reward 0.00\n",
      "Step 10: Action 0, Reward -250.00\n",
      "Step 20: Action 0, Reward -250.00\n",
      "Step 30: Action 0, Reward -250.00\n",
      "Step 40: Action 0, Reward -250.00\n",
      "Step 50: Action 0, Reward -290.00\n",
      "Step 60: Action 0, Reward -250.00\n",
      "Step 70: Action 0, Reward -250.00\n",
      "Step 80: Action 0, Reward -250.00\n",
      "Step 90: Action 0, Reward -250.00\n"
     ]
    }
   ],
   "source": [
    "for step in range(100): #Run for 100 steps\n",
    "    state, reward, done = get_state()\n",
    "    \n",
    "    if state is not None:\n",
    "        if done:\n",
    "            env.reset()\n",
    "        q_values = model.predict(np.expand_dims(state, axis=0), verbose=0)\n",
    "        action = np.argmax(q_values[0])  # Choose best action\n",
    "        \n",
    "        if step % 10 == 0: \n",
    "            print(f\"Step {step}: Action {action}, Reward {reward:.2f}\")\n",
    "        \n",
    "        # Send action to Unity\n",
    "        action_tuple = ActionTuple(discrete=np.array([[action]]))\n",
    "        env.set_actions(behavior_name, action_tuple)\n",
    "        env.step()\n",
    "    else:\n",
    "        env.close()\n",
    "    "
   ]
  },
  {
   "cell_type": "markdown",
   "id": "f0286db8",
   "metadata": {},
   "source": [
    "**Creating environment wrapper for TF agents**"
   ]
  },
  {
   "cell_type": "code",
   "execution_count": 87,
   "id": "9117ce3f",
   "metadata": {},
   "outputs": [],
   "source": [
    "class EnvironmentWrapper(py_environment.PyEnvironment):\n",
    "    def __init__(self, unity_env, behavior_name):\n",
    "        super().__init__()\n",
    "        self.unity_env = unity_env\n",
    "        self.behavior_name = behavior_name\n",
    "        \n",
    "        self._action_spec = array_spec.BoundedArraySpec(\n",
    "            shape=(),\n",
    "            dtype=np.int32,\n",
    "            minimum=0,\n",
    "            maximum=4,\n",
    "            name='action'\n",
    "        )\n",
    "        self._observation_spec = array_spec.ArraySpec(\n",
    "            shape=(state_size,),\n",
    "            dtype=np.float32,\n",
    "            name='observation'\n",
    "        )\n",
    "\n",
    "        self._state = np.zeros(state_size, dtype=np.float32)\n",
    "        self._episode_ended = False\n",
    "\n",
    "    def action_spec(self):\n",
    "        return self._action_spec\n",
    "\n",
    "    def observation_spec(self):\n",
    "        return self._observation_spec\n",
    "\n",
    "    def _reset(self):\n",
    "        self.unity_env.reset()\n",
    "        self._episode_ended = False\n",
    "        state, _, _ = get_state()\n",
    "        if state is not None:\n",
    "            self._state = state.astype(np.float32)\n",
    "        return tf_agents.trajectories.time_step.restart(self._state)\n",
    "\n",
    "    def _step(self, action):\n",
    "        if self._episode_ended:\n",
    "            return self.reset()\n",
    "        \n",
    "        # Send action to Unity\n",
    "        action_tuple = ActionTuple(discrete=np.array([[action]]))\n",
    "        self.unity_env.set_actions(self.behavior_name, action_tuple)\n",
    "        self.unity_env.step()\n",
    "        \n",
    "        # Get new state\n",
    "        state, reward, done = get_state()\n",
    "        \n",
    "        if state is not None:\n",
    "            self._state = state.astype(np.float32)\n",
    "        \n",
    "        if done:\n",
    "            self._episode_ended = True\n",
    "            return tf_agents.trajectories.time_step.termination(self._state, reward)\n",
    "        else:\n",
    "            return tf_agents.trajectories.time_step.transition(self._state, reward)"
   ]
  },
  {
   "cell_type": "code",
   "execution_count": 88,
   "id": "e94b1465",
   "metadata": {},
   "outputs": [],
   "source": [
    "env_wrapper = EnvironmentWrapper(env, behavior_name)\n",
    "tf_env = tf_py_environment.TFPyEnvironment(env_wrapper)"
   ]
  },
  {
   "cell_type": "markdown",
   "id": "c2157f31",
   "metadata": {},
   "source": [
    "**Setting the architecture of the Q-neural-networks**"
   ]
  },
  {
   "cell_type": "code",
   "execution_count": 60,
   "id": "1d0873d3",
   "metadata": {},
   "outputs": [],
   "source": [
    "q_net = q_network.QNetwork(\n",
    "    tf_env.observation_spec(),\n",
    "    tf_env.action_spec(),\n",
    "    fc_layer_params=(256, 512, 256, 128)\n",
    ")"
   ]
  },
  {
   "cell_type": "markdown",
   "id": "352f9818",
   "metadata": {},
   "source": [
    "**Creating the agent (Deep-Q-Network)**"
   ]
  },
  {
   "cell_type": "code",
   "execution_count": 61,
   "id": "68a27375",
   "metadata": {},
   "outputs": [],
   "source": [
    "train_step_counter = tf.Variable(0)\n",
    "optimizer = tf.keras.optimizers.Adam(learning_rate=0.001)\n",
    "\n",
    "agent = dqn_agent.DqnAgent(\n",
    "    tf_env.time_step_spec(),\n",
    "    tf_env.action_spec(),\n",
    "    q_network=q_net,\n",
    "    optimizer=optimizer,\n",
    "    td_errors_loss_fn=common.element_wise_squared_loss,\n",
    "    train_step_counter=train_step_counter,\n",
    "    epsilon_greedy=0.1,\n",
    "    target_update_period=100,\n",
    "    gamma=0.99 \n",
    ")\n",
    "\n",
    "agent.initialize()"
   ]
  },
  {
   "cell_type": "markdown",
   "id": "f8339232",
   "metadata": {},
   "source": [
    "**Creating the replay buffer**"
   ]
  },
  {
   "cell_type": "code",
   "execution_count": 62,
   "id": "446ee226",
   "metadata": {},
   "outputs": [],
   "source": [
    "replay_buffer = tf_uniform_replay_buffer.TFUniformReplayBuffer(\n",
    "    data_spec=agent.collect_data_spec,\n",
    "    batch_size=tf_env.batch_size,\n",
    "    max_length=100000\n",
    ")"
   ]
  },
  {
   "cell_type": "markdown",
   "id": "4b87fd74",
   "metadata": {},
   "source": [
    "**Creating policies**"
   ]
  },
  {
   "cell_type": "code",
   "execution_count": 63,
   "id": "45e6effa",
   "metadata": {},
   "outputs": [],
   "source": [
    "eval_policy = agent.policy # greedy: for testing and inference\n",
    "collect_policy = agent.collect_policy # Epsilon-greedy: for training and exploration\n",
    "random_policy = random_tf_policy.RandomTFPolicy(  # Completely random: for initial data collection\n",
    "    tf_env.time_step_spec(), \n",
    "    tf_env.action_spec()\n",
    ")"
   ]
  },
  {
   "cell_type": "markdown",
   "id": "559531be",
   "metadata": {},
   "source": [
    "**Data collection**"
   ]
  },
  {
   "cell_type": "code",
   "execution_count": 82,
   "id": "442cdd92",
   "metadata": {},
   "outputs": [],
   "source": [
    "def collect_data(policy, steps, speed, replay_buffer):\n",
    "    engine_config_channel.set_configuration_parameters(time_scale=speed)\n",
    "    tf_env.reset()\n",
    "    for i in range(steps):\n",
    "        time_step = tf_env.current_time_step()\n",
    "        action_step = policy.action(time_step)\n",
    "        next_time_step = tf_env.step(action_step.action)\n",
    "        traj = trajectory.from_transition(time_step, action_step, next_time_step)\n",
    "        replay_buffer.add_batch(traj)\n",
    "        if i % 100 == 0 and i > 0:\n",
    "            print(f\"Collected {i} steps\")"
   ]
  },
  {
   "cell_type": "markdown",
   "id": "4352f2e4",
   "metadata": {},
   "source": [
    "Collecting initial data randomly"
   ]
  },
  {
   "cell_type": "code",
   "execution_count": 65,
   "id": "b4957487",
   "metadata": {},
   "outputs": [],
   "source": [
    "#clearing the replay buffer in case it has some experiments from previous collections\n",
    "replay_buffer.clear()"
   ]
  },
  {
   "cell_type": "code",
   "execution_count": null,
   "id": "0e3a821b",
   "metadata": {},
   "outputs": [
    {
     "name": "stdout",
     "output_type": "stream",
     "text": [
      "Collected 100 steps\n",
      "Collected 200 steps\n",
      "Collected 300 steps\n",
      "Collected 400 steps\n",
      "Collected 500 steps\n",
      "Collected 600 steps\n",
      "Collected 700 steps\n",
      "Collected 800 steps\n",
      "Collected 900 steps\n"
     ]
    }
   ],
   "source": [
    "collect_data(random_policy, 1000, 5, replay_buffer)"
   ]
  },
  {
   "cell_type": "markdown",
   "id": "b1185483",
   "metadata": {},
   "source": [
    "### **Actual training**\n",
    "**1<sup>st</sup> round of training**\n",
    "During this round, the agent learns not to fall. We remove the items from the environment and we change the reward like this:\n",
    "- Falling : -100\n",
    "- Doing nothing : -50 (to encourage the agent to learn to move without falling)"
   ]
  },
  {
   "cell_type": "code",
   "execution_count": 67,
   "id": "092f3f88",
   "metadata": {},
   "outputs": [],
   "source": [
    "num_iterations = 10000\n",
    "collect_steps_per_iteration = 4\n",
    "batch_size = 64\n",
    "eval_interval = 200\n",
    "\n",
    "dataset = replay_buffer.as_dataset(\n",
    "    num_parallel_calls=3,\n",
    "    sample_batch_size=batch_size,\n",
    "    num_steps=2\n",
    ").prefetch(3)\n",
    "\n",
    "iterator = iter(dataset)"
   ]
  },
  {
   "cell_type": "code",
   "execution_count": null,
   "id": "80ad6a57",
   "metadata": {},
   "outputs": [
    {
     "name": "stdout",
     "output_type": "stream",
     "text": [
      "Training step 200: Loss = 1.9575 | Env step = 796\n",
      "Evaluation episode Return: -100.00\n",
      "Training step 400: Loss = 2.0888 | Env step = 1596\n",
      "Evaluation episode Return: -100.00\n",
      "Training step 600: Loss = 0.9484 | Env step = 2396\n",
      "Evaluation episode Return: -100.00\n",
      "Training step 800: Loss = 0.7700 | Env step = 3196\n",
      "Evaluation episode Return: -100.00\n",
      "Training step 1000: Loss = 1.0885 | Env step = 3996\n",
      "Evaluation episode Return: -100.00\n",
      "Training step 1200: Loss = 0.7358 | Env step = 4796\n",
      "Evaluation episode Return: -100.00\n",
      "Training step 1400: Loss = 3.0332 | Env step = 5596\n",
      "Evaluation episode Return: -100.00\n",
      "Training step 1600: Loss = 9.2283 | Env step = 6396\n",
      "Evaluation episode Return: 0.00\n",
      "Training step 1800: Loss = 0.7808 | Env step = 7196\n",
      "Evaluation episode Return: -100.00\n",
      "Training step 2000: Loss = 0.8653 | Env step = 7996\n",
      "Evaluation episode Return: -100.00\n",
      "Training step 2200: Loss = 0.8565 | Env step = 8796\n",
      "Evaluation episode Return: -100.00\n",
      "Training step 2400: Loss = 0.4699 | Env step = 9596\n",
      "Evaluation episode Return: -100.00\n",
      "Training step 2600: Loss = 2.2448 | Env step = 10396\n",
      "Evaluation episode Return: -100.00\n",
      "Training step 2800: Loss = 0.8384 | Env step = 11196\n",
      "Evaluation episode Return: -100.00\n",
      "Training step 3000: Loss = 0.1060 | Env step = 11996\n",
      "Evaluation episode Return: -100.00\n",
      "Training step 3200: Loss = 2.7741 | Env step = 12796\n",
      "Evaluation episode Return: -100.00\n",
      "Training step 3400: Loss = 1.3912 | Env step = 13596\n",
      "Evaluation episode Return: -100.00\n",
      "Training step 3600: Loss = 0.6929 | Env step = 14396\n",
      "Evaluation episode Return: -100.00\n",
      "Training step 3800: Loss = 0.2806 | Env step = 15196\n",
      "Evaluation episode Return: -100.00\n",
      "Training step 4000: Loss = 0.3799 | Env step = 15996\n",
      "Evaluation episode Return: -100.00\n",
      "Training step 4200: Loss = 0.5084 | Env step = 16796\n",
      "Evaluation episode Return: -100.00\n",
      "Training step 4400: Loss = 1.6881 | Env step = 17596\n",
      "Evaluation episode Return: -100.00\n",
      "Training step 4600: Loss = 0.8269 | Env step = 18396\n",
      "Evaluation episode Return: -100.00\n",
      "Training step 4800: Loss = 0.7254 | Env step = 19196\n",
      "Evaluation episode Return: -100.00\n",
      "Training step 5000: Loss = 4.8204 | Env step = 19996\n",
      "Evaluation episode Return: -100.00\n",
      "Training step 5200: Loss = 0.2926 | Env step = 20796\n",
      "Evaluation episode Return: -100.00\n",
      "Training step 5400: Loss = 0.1259 | Env step = 21596\n",
      "Evaluation episode Return: -100.00\n",
      "Training step 5600: Loss = 2.2713 | Env step = 22396\n",
      "Evaluation episode Return: -100.00\n",
      "Training step 5800: Loss = 0.3423 | Env step = 23196\n",
      "Evaluation episode Return: -100.00\n",
      "Training step 6000: Loss = 0.8262 | Env step = 23996\n",
      "Evaluation episode Return: -100.00\n",
      "Training step 6200: Loss = 11.0486 | Env step = 24796\n",
      "Evaluation episode Return: -100.00\n",
      "Training step 6400: Loss = 0.5856 | Env step = 25596\n",
      "Evaluation episode Return: -100.00\n",
      "Training step 6600: Loss = 1.4537 | Env step = 26396\n",
      "Evaluation episode Return: -100.00\n",
      "Training step 6800: Loss = 2.1422 | Env step = 27196\n",
      "Evaluation episode Return: -100.00\n",
      "Training step 7000: Loss = 0.2171 | Env step = 27996\n",
      "Evaluation episode Return: -100.00\n",
      "Training step 7200: Loss = 0.0570 | Env step = 28796\n",
      "Evaluation episode Return: -100.00\n",
      "Training step 7400: Loss = 6.8908 | Env step = 29596\n",
      "Evaluation episode Return: -100.00\n",
      "Training step 7600: Loss = 0.6088 | Env step = 30396\n",
      "Evaluation episode Return: -100.00\n",
      "Training step 7800: Loss = 0.0928 | Env step = 31196\n",
      "Evaluation episode Return: -100.00\n",
      "Training step 8000: Loss = 1.8748 | Env step = 31996\n",
      "Evaluation episode Return: -100.00\n",
      "Training step 8200: Loss = 0.9434 | Env step = 32796\n",
      "Evaluation episode Return: -100.00\n",
      "Training step 8400: Loss = 1.4409 | Env step = 33596\n",
      "Evaluation episode Return: -100.00\n",
      "Training step 8600: Loss = 0.0776 | Env step = 34396\n",
      "Evaluation episode Return: -100.00\n",
      "Training step 8800: Loss = 2.2230 | Env step = 35196\n",
      "Evaluation episode Return: 0.00\n",
      "Training step 9000: Loss = 0.1401 | Env step = 35996\n",
      "Evaluation episode Return: -100.00\n",
      "Training step 9200: Loss = 0.2146 | Env step = 36796\n",
      "Evaluation episode Return: -100.00\n",
      "Training step 9400: Loss = 5.3152 | Env step = 37596\n",
      "Evaluation episode Return: -100.00\n",
      "Training step 9600: Loss = 0.5166 | Env step = 38396\n",
      "Evaluation episode Return: -100.00\n",
      "Training step 9800: Loss = 15.0416 | Env step = 39196\n",
      "Evaluation episode Return: -100.00\n",
      "Training step 10000: Loss = 0.5363 | Env step = 39996\n",
      "Evaluation episode Return: -100.00\n",
      "Training complete\n"
     ]
    }
   ],
   "source": [
    "train_losses = []\n",
    "episode_returns = []\n",
    "\n",
    "for iteration in range(num_iterations):\n",
    "    #collect data for 4 steps\n",
    "    collect_data(collect_policy, collect_steps_per_iteration, 100, replay_buffer)\n",
    "\n",
    "    # Sample a random batch from the replay buffer and train the agent\n",
    "    experience, _ = next(iterator)\n",
    "    train_loss = agent.train(experience).loss\n",
    "    \n",
    "    training_step = agent.train_step_counter.numpy()\n",
    "\n",
    "    # Log and evaluate each 200 training step\n",
    "    if training_step % eval_interval == 0:\n",
    "        print(f'Training step {training_step}: Loss = {train_loss:.4f} | Env step = {iteration * collect_steps_per_iteration}')\n",
    "        train_losses.append(train_loss.numpy())\n",
    "        \n",
    "        engine_config_channel.set_configuration_parameters(time_scale=1)\n",
    "        time_step = tf_env.reset()\n",
    "        episode_return = 0.0\n",
    "        steps_in_episode = 0\n",
    "\n",
    "        while not time_step.is_last() and steps_in_episode < 500:\n",
    "            action_step = eval_policy.action(time_step)\n",
    "            time_step = tf_env.step(action_step.action)\n",
    "            episode_return += time_step.reward\n",
    "            steps_in_episode += 1\n",
    "            \n",
    "        episode_returns.append(episode_return.numpy()[0])\n",
    "        print(f'Evaluation episode Return: {episode_return.numpy()[0]:.2f}')\n",
    "\n",
    "print(\"Training complete\")"
   ]
  },
  {
   "cell_type": "markdown",
   "id": "00e478db",
   "metadata": {},
   "source": [
    "Visualizing training information"
   ]
  },
  {
   "cell_type": "code",
   "execution_count": 74,
   "id": "53468dbd",
   "metadata": {},
   "outputs": [
    {
     "data": {
      "image/png": "[encoded data removed]",
      "text/plain": [
       "<Figure size 1500x500 with 2 Axes>"
      ]
     },
     "metadata": {},
     "output_type": "display_data"
    }
   ],
   "source": [
    "fig, (ax1, ax2) = plt.subplots(1, 2, figsize=(15, 5))\n",
    "\n",
    "ax1.plot(train_losses)\n",
    "ax1.set_title('Training Loss Over Time')\n",
    "ax1.set_xlabel('Training step x200')\n",
    "ax1.set_ylabel('Loss')\n",
    "ax1.grid(True)\n",
    "\n",
    "ax2.plot(episode_returns)\n",
    "ax2.set_title('Episode Returns Over Time')\n",
    "ax2.set_xlabel('Training step x200')\n",
    "ax2.set_ylabel('Episode Return')\n",
    "ax2.grid(True)\n",
    "\n",
    "plt.tight_layout()\n",
    "plt.show()"
   ]
  },
  {
   "cell_type": "markdown",
   "id": "2a12d9c3",
   "metadata": {},
   "source": [
    "Running evaluation episodes"
   ]
  },
  {
   "cell_type": "code",
   "execution_count": 70,
   "id": "ee1eaa3a",
   "metadata": {},
   "outputs": [
    {
     "name": "stdout",
     "output_type": "stream",
     "text": [
      "Episode 1: Return = 0.00, Steps = 400\n",
      "Episode 2: Return = 0.00, Steps = 400\n",
      "Episode 3: Return = 0.00, Steps = 400\n",
      "Episode 4: Return = 0.00, Steps = 400\n",
      "Episode 5: Return = -100.00, Steps = 6\n",
      "Episode 6: Return = 0.00, Steps = 400\n",
      "Episode 7: Return = 0.00, Steps = 400\n",
      "Episode 8: Return = 0.00, Steps = 400\n",
      "Episode 9: Return = 0.00, Steps = 400\n",
      "Episode 10: Return = 0.00, Steps = 400\n",
      "Average Return: -10.00\n",
      "Average Episode Length: 360.6 steps\n",
      "Best Episode: 0.00\n",
      "Worst Episode: -100.00\n"
     ]
    }
   ],
   "source": [
    "total_returns = []\n",
    "total_steps = []\n",
    "\n",
    "engine_config_channel.set_configuration_parameters(time_scale=1)\n",
    "for episode in range(10):\n",
    "    time_step = tf_env.reset()\n",
    "    episode_return = 0.0\n",
    "    steps_in_episode = 0\n",
    "\n",
    "    while not time_step.is_last():\n",
    "        action_step = eval_policy.action(time_step)\n",
    "        time_step = tf_env.step(action_step.action)\n",
    "        episode_return += time_step.reward\n",
    "        steps_in_episode += 1\n",
    "    \n",
    "    total_returns.append(episode_return.numpy()[0])\n",
    "    total_steps.append(steps_in_episode)\n",
    "    print(f\"Episode {episode+1}: Return = {episode_return.numpy()[0]:.2f}, Steps = {steps_in_episode}\")\n",
    "\n",
    "avg_return = np.mean(total_returns)\n",
    "avg_steps = np.mean(total_steps)\n",
    "std_return = np.std(total_returns)\n",
    "\n",
    "print(f\"Average Return: {avg_return:.2f}\")\n",
    "print(f\"Average Episode Length: {avg_steps:.1f} steps\")\n",
    "print(f\"Best Episode: {max(total_returns):.2f}\")\n",
    "print(f\"Worst Episode: {min(total_returns):.2f}\")"
   ]
  },
  {
   "cell_type": "markdown",
   "id": "6c0cf18a",
   "metadata": {},
   "source": [
    "Visualizing evaluation information"
   ]
  },
  {
   "cell_type": "code",
   "execution_count": 75,
   "id": "825692df",
   "metadata": {},
   "outputs": [
    {
     "data": {
      "image/png": "[encoded data removed]",
      "text/plain": [
       "<Figure size 1500x500 with 2 Axes>"
      ]
     },
     "metadata": {},
     "output_type": "display_data"
    }
   ],
   "source": [
    "fig, (ax1, ax2) = plt.subplots(1, 2, figsize=(15, 5))\n",
    "\n",
    "ax1.plot(total_returns)\n",
    "ax1.set_title('Evaluation returns')\n",
    "ax1.set_xlabel('Evaluation step')\n",
    "ax1.set_ylabel('Return')\n",
    "ax1.grid(True)\n",
    "\n",
    "ax2.plot(total_steps)\n",
    "ax2.set_title('Evaluation duration (in steps)')\n",
    "ax2.set_xlabel('Evaluation step')\n",
    "ax2.set_ylabel('Episode Length (steps)')\n",
    "ax2.grid(True)"
   ]
  },
  {
   "cell_type": "code",
   "execution_count": 77,
   "id": "37cc70e8",
   "metadata": {},
   "outputs": [],
   "source": [
    "env.close()"
   ]
  },
  {
   "cell_type": "markdown",
   "id": "5a121a04",
   "metadata": {},
   "source": [
    "Saving the No-Fall policy and checkpoint"
   ]
  },
  {
   "cell_type": "code",
   "execution_count": 76,
   "id": "8973cdd2",
   "metadata": {},
   "outputs": [
    {
     "name": "stderr",
     "output_type": "stream",
     "text": [
      "WARNING:absl:`0/step_type` is not a valid tf.function parameter name. Sanitizing to `arg_0_step_type`.\n",
      "WARNING:absl:`0/reward` is not a valid tf.function parameter name. Sanitizing to `arg_0_reward`.\n",
      "WARNING:absl:`0/discount` is not a valid tf.function parameter name. Sanitizing to `arg_0_discount`.\n",
      "WARNING:absl:`0/observation` is not a valid tf.function parameter name. Sanitizing to `arg_0_observation`.\n",
      "WARNING:absl:`0/step_type` is not a valid tf.function parameter name. Sanitizing to `arg_0_step_type`.\n"
     ]
    },
    {
     "name": "stdout",
     "output_type": "stream",
     "text": [
      "INFO:tensorflow:Assets written to: ./saved_models/no_fall_agent/assets\n"
     ]
    },
    {
     "name": "stderr",
     "output_type": "stream",
     "text": [
      "/home/louay/miniforge3/envs/DQL_env/lib/python3.10/site-packages/tensorflow/python/saved_model/nested_structure_coder.py:458: UserWarning: Encoding a StructuredValue with type tfp.distributions.Deterministic_ACTTypeSpec; loading this StructuredValue will require that this type be imported and registered.\n",
      "  warnings.warn(\"Encoding a StructuredValue with type %s; loading this \"\n",
      "INFO:tensorflow:Assets written to: ./saved_models/no_fall_agent/assets\n"
     ]
    },
    {
     "data": {
      "text/plain": [
       "'./checkpoints/no_fall_checkpoint-1'"
      ]
     },
     "execution_count": 76,
     "metadata": {},
     "output_type": "execute_result"
    }
   ],
   "source": [
    "no_fall_policy_saver = policy_saver.PolicySaver(agent.policy)\n",
    "no_fall_policy_saver.save('./saved_models/no_fall_agent')\n",
    "\n",
    "# Save the entire agent state for continued training\n",
    "checkpoint = tf.train.Checkpoint(\n",
    "    q_net=agent._q_network,\n",
    "    target_q_net=agent._target_q_network,\n",
    "    optimizer=agent._optimizer,\n",
    "    train_step=agent.train_step_counter\n",
    ")\n",
    "checkpoint.save('./checkpoints/no_fall_checkpoint')"
   ]
  },
  {
   "cell_type": "markdown",
   "id": "48ae4114",
   "metadata": {},
   "source": [
    "**2<sup>nd</sup> round of training**\n",
    "During this round, the agent learns to collect good items (green spheres). We remove the red spheres from the environment and we change the rewards like this:\n",
    "- Falling : -100\n",
    "- Collecting green sphere : +50"
   ]
  },
  {
   "cell_type": "markdown",
   "id": "f6e58c3a",
   "metadata": {},
   "source": [
    "Creating second agent with slightly different hyperparameters (for fine-tuning)"
   ]
  },
  {
   "cell_type": "code",
   "execution_count": 95,
   "id": "ee670791",
   "metadata": {},
   "outputs": [],
   "source": [
    "q_net = q_network.QNetwork(\n",
    "    tf_env.observation_spec(),\n",
    "    tf_env.action_spec(),\n",
    "    fc_layer_params=(256, 512, 256, 128)\n",
    ")\n",
    "\n",
    "train_step_counter = tf.Variable(0)\n",
    "optimizer = tf.keras.optimizers.Adam(learning_rate=0.0005)\n",
    "\n",
    "agent = dqn_agent.DqnAgent(\n",
    "    tf_env.time_step_spec(),\n",
    "    tf_env.action_spec(),\n",
    "    q_network=q_net,\n",
    "    optimizer=optimizer,\n",
    "    td_errors_loss_fn=common.element_wise_squared_loss,\n",
    "    train_step_counter=train_step_counter,\n",
    "    epsilon_greedy=0.08,\n",
    "    target_update_period=200,\n",
    "    gamma=0.99\n",
    ")\n",
    "\n",
    "agent.initialize()"
   ]
  },
  {
   "cell_type": "markdown",
   "id": "e46ecf74",
   "metadata": {},
   "source": [
    "Restoring the No-Fall agent checkpoint"
   ]
  },
  {
   "cell_type": "code",
   "execution_count": 96,
   "id": "a595d327",
   "metadata": {},
   "outputs": [],
   "source": [
    "checkpoint = tf.train.Checkpoint(\n",
    "    q_net=agent._q_network,\n",
    "    target_q_net=agent._target_q_network,\n",
    "    optimizer=agent._optimizer,\n",
    "    train_step=agent.train_step_counter\n",
    ")\n",
    "\n",
    "checkpoint_path = checkpoint.restore('./checkpoints/no_fall_checkpoint-1')"
   ]
  },
  {
   "cell_type": "markdown",
   "id": "a6191f11",
   "metadata": {},
   "source": [
    "Creating replay buffer for second round of training"
   ]
  },
  {
   "cell_type": "code",
   "execution_count": 97,
   "id": "9721547e",
   "metadata": {},
   "outputs": [],
   "source": [
    "stage2_replay_buffer = tf_uniform_replay_buffer.TFUniformReplayBuffer(\n",
    "    data_spec=agent.collect_data_spec,\n",
    "    batch_size=tf_env.batch_size,\n",
    "    max_length=100000\n",
    ")"
   ]
  },
  {
   "cell_type": "markdown",
   "id": "12893ad3",
   "metadata": {},
   "source": [
    "Setting up the new policies"
   ]
  },
  {
   "cell_type": "code",
   "execution_count": 98,
   "id": "b151ccfc",
   "metadata": {},
   "outputs": [],
   "source": [
    "eval_policy = agent.policy\n",
    "collect_policy = agent.collect_policy\n",
    "random_policy = random_tf_policy.RandomTFPolicy(\n",
    "    tf_env.time_step_spec(), \n",
    "    tf_env.action_spec()\n",
    ")"
   ]
  },
  {
   "cell_type": "markdown",
   "id": "f87cbfd3",
   "metadata": {},
   "source": [
    "Initial data collection"
   ]
  },
  {
   "cell_type": "code",
   "execution_count": 99,
   "id": "bb6fa109",
   "metadata": {},
   "outputs": [
    {
     "name": "stdout",
     "output_type": "stream",
     "text": [
      "Collected 100 steps\n",
      "Collected 200 steps\n",
      "Collected 300 steps\n",
      "Collected 400 steps\n",
      "Collected 500 steps\n",
      "Collected 600 steps\n",
      "Collected 700 steps\n",
      "Collected 800 steps\n",
      "Collected 900 steps\n"
     ]
    }
   ],
   "source": [
    "stage2_replay_buffer.clear()\n",
    "\n",
    "collect_data(random_policy, 1000, 5, stage2_replay_buffer)"
   ]
  },
  {
   "cell_type": "markdown",
   "id": "611c2a18",
   "metadata": {},
   "source": [
    "The actual training"
   ]
  },
  {
   "cell_type": "code",
   "execution_count": 100,
   "id": "6ac59f82",
   "metadata": {},
   "outputs": [],
   "source": [
    "num_iterations = 8000\n",
    "collect_steps_per_iteration = 4\n",
    "batch_size = 64\n",
    "eval_interval = 200\n",
    "speed = 50\n",
    "\n",
    "stage2_dataset = stage2_replay_buffer.as_dataset(\n",
    "    num_parallel_calls=3,\n",
    "    sample_batch_size=batch_size,\n",
    "    num_steps=2\n",
    ").prefetch(3)\n",
    "\n",
    "stage2_iterator = iter(stage2_dataset)"
   ]
  },
  {
   "cell_type": "code",
   "execution_count": null,
   "id": "177d5b6a",
   "metadata": {},
   "outputs": [
    {
     "name": "stdout",
     "output_type": "stream",
     "text": [
      "Training step 10400: Loss = 1.5907 | Env step = 280\n",
      "Episode Return: -100.00\n",
      "Training step 10600: Loss = 3.0934 | Env step = 1080\n",
      "Episode Return: -100.00\n",
      "Training step 10800: Loss = 5.6282 | Env step = 1880\n",
      "Episode Return: -100.00\n",
      "Training step 11000: Loss = 3.3674 | Env step = 2680\n",
      "Episode Return: -100.00\n",
      "Training step 11200: Loss = 2.3760 | Env step = 3480\n",
      "Episode Return: 0.00\n",
      "Training step 11400: Loss = 1.8312 | Env step = 4280\n",
      "Episode Return: -100.00\n",
      "Training step 11600: Loss = 2.9478 | Env step = 5080\n",
      "Episode Return: 50.00\n",
      "Training step 11800: Loss = 0.7695 | Env step = 5880\n",
      "Episode Return: -100.00\n",
      "Training step 12000: Loss = 0.7231 | Env step = 6680\n",
      "Episode Return: -50.00\n",
      "Training step 12200: Loss = 1.4333 | Env step = 7480\n",
      "Episode Return: 0.00\n",
      "Training step 12400: Loss = 1.2674 | Env step = 8280\n",
      "Episode Return: 0.00\n",
      "Training step 12600: Loss = 2.1897 | Env step = 9080\n",
      "Episode Return: -100.00\n",
      "Training step 12800: Loss = 0.7656 | Env step = 9880\n",
      "Episode Return: -100.00\n",
      "Training step 13000: Loss = 0.4984 | Env step = 10680\n",
      "Episode Return: 0.00\n",
      "Training step 13200: Loss = 2.3409 | Env step = 11480\n",
      "Episode Return: -100.00\n",
      "Training step 13400: Loss = 5.9871 | Env step = 12280\n",
      "Episode Return: -100.00\n",
      "Training step 13600: Loss = 0.5194 | Env step = 13080\n",
      "Episode Return: -100.00\n",
      "Training step 13800: Loss = 1.5784 | Env step = 13880\n",
      "Episode Return: -100.00\n",
      "Training step 14000: Loss = 0.4893 | Env step = 14680\n",
      "Episode Return: -100.00\n",
      "Training step 14200: Loss = 1.2326 | Env step = 15480\n",
      "Episode Return: 100.00\n",
      "Training step 14400: Loss = 6.8941 | Env step = 16280\n",
      "Episode Return: -100.00\n",
      "Training step 14600: Loss = 0.7559 | Env step = 17080\n",
      "Episode Return: -100.00\n",
      "Training step 14800: Loss = 31.7926 | Env step = 17880\n",
      "Episode Return: -100.00\n",
      "Training step 15000: Loss = 0.1855 | Env step = 18680\n",
      "Episode Return: -100.00\n",
      "Training step 15200: Loss = 2.3546 | Env step = 19480\n",
      "Episode Return: -50.00\n",
      "Training step 15400: Loss = 1.6219 | Env step = 20280\n",
      "Episode Return: 0.00\n",
      "Training step 15600: Loss = 1.9100 | Env step = 21080\n",
      "Episode Return: -100.00\n",
      "Training step 15800: Loss = 2.3129 | Env step = 21880\n",
      "Episode Return: 0.00\n",
      "Training step 16000: Loss = 27.9973 | Env step = 22680\n",
      "Episode Return: -100.00\n",
      "Training step 16200: Loss = 2.2187 | Env step = 23480\n",
      "Episode Return: -100.00\n",
      "Training step 16400: Loss = 9.8603 | Env step = 24280\n",
      "Episode Return: -100.00\n",
      "Training step 16600: Loss = 2.3239 | Env step = 25080\n",
      "Episode Return: -100.00\n",
      "Training step 16800: Loss = 2.2726 | Env step = 25880\n",
      "Episode Return: -100.00\n",
      "Training step 17000: Loss = 2.1890 | Env step = 26680\n",
      "Episode Return: -100.00\n",
      "Training step 17200: Loss = 1.3272 | Env step = 27480\n",
      "Episode Return: 50.00\n",
      "Training step 17400: Loss = 0.7923 | Env step = 28280\n",
      "Episode Return: -100.00\n",
      "Training step 17600: Loss = 0.9013 | Env step = 29080\n",
      "Episode Return: -100.00\n",
      "Training step 17800: Loss = 1.0003 | Env step = 29880\n",
      "Episode Return: -100.00\n",
      "Training step 18000: Loss = 0.5144 | Env step = 30680\n",
      "Episode Return: 0.00\n",
      "Training step 18200: Loss = 0.8740 | Env step = 31480\n",
      "Episode Return: -100.00\n"
     ]
    }
   ],
   "source": [
    "stage2_train_losses = []\n",
    "stage2_episode_returns = []\n",
    "\n",
    "for iteration in range(num_iterations):\n",
    "    collect_data(collect_policy, \n",
    "                collect_steps_per_iteration, \n",
    "                speed,\n",
    "                stage2_replay_buffer)\n",
    "\n",
    "    experience, _ = next(stage2_iterator)\n",
    "    train_loss = agent.train(experience).loss\n",
    "    \n",
    "    training_step = agent.train_step_counter.numpy()\n",
    "\n",
    "    # Evaluate progress\n",
    "    if training_step % eval_interval == 0:\n",
    "        print(f'Training step {training_step}: Loss = {train_loss:.4f} | Env step = {iteration * collect_steps_per_iteration}')\n",
    "        stage2_train_losses.append(train_loss.numpy())\n",
    "        \n",
    "        engine_config_channel.set_configuration_parameters(time_scale=1)\n",
    "        time_step = tf_env.reset()\n",
    "        episode_return = 0.0\n",
    "        steps_in_episode = 0\n",
    "        spheres_collected = 0\n",
    "\n",
    "        while not time_step.is_last():\n",
    "            action_step = eval_policy.action(time_step)\n",
    "            time_step = tf_env.step(action_step.action)\n",
    "            episode_return += time_step.reward\n",
    "            steps_in_episode += 1\n",
    "            \n",
    "        stage2_episode_returns.append(episode_return.numpy()[0])\n",
    "        print(f'Episode Return: {episode_return.numpy()[0]:.2f}')\n",
    "\n",
    "print('Training complete!')"
   ]
  },
  {
   "cell_type": "markdown",
   "id": "6c0c5402",
   "metadata": {},
   "source": [
    "Visualizing training information"
   ]
  },
  {
   "cell_type": "code",
   "execution_count": 93,
   "id": "3c239299",
   "metadata": {},
   "outputs": [
    {
     "data": {
      "image/png": "[encoded data removed]",
      "text/plain": [
       "<Figure size 1500x500 with 2 Axes>"
      ]
     },
     "metadata": {},
     "output_type": "display_data"
    }
   ],
   "source": [
    "fig, (ax1, ax2) = plt.subplots(1, 2, figsize=(15, 5))\n",
    "\n",
    "ax1.plot(stage2_train_losses)\n",
    "ax1.set_title('Training Loss Over Time')\n",
    "ax1.set_xlabel('Training step x200')\n",
    "ax1.set_ylabel('Loss')\n",
    "ax1.grid(True)\n",
    "\n",
    "ax2.plot(stage2_episode_returns)\n",
    "ax2.set_title('Episode Returns Over Time')\n",
    "ax2.set_xlabel('Training step x200')\n",
    "ax2.set_ylabel('Episode Return')\n",
    "ax2.grid(True)\n",
    "\n",
    "plt.tight_layout()\n",
    "plt.show()"
   ]
  },
  {
   "cell_type": "markdown",
   "id": "2dce0c19",
   "metadata": {},
   "source": [
    "Model evaluation"
   ]
  },
  {
   "cell_type": "code",
   "execution_count": 101,
   "id": "dd0f9752",
   "metadata": {},
   "outputs": [
    {
     "name": "stdout",
     "output_type": "stream",
     "text": [
      "Episode 1: Return = 100.00, Steps = 401\n",
      "Episode 2: Return = 0.00, Steps = 401\n",
      "Episode 3: Return = 0.00, Steps = 401\n",
      "Episode 4: Return = 0.00, Steps = 401\n",
      "Episode 5: Return = -100.00, Steps = 11\n",
      "Episode 6: Return = -100.00, Steps = 39\n",
      "Episode 7: Return = 150.00, Steps = 401\n",
      "Episode 8: Return = -100.00, Steps = 40\n",
      "Episode 9: Return = -100.00, Steps = 30\n",
      "Episode 10: Return = 100.00, Steps = 428\n",
      "Average Return: -5.00\n",
      "Average Episode Length: 255.3 steps\n",
      "Best Episode: 150.00\n",
      "Worst Episode: -100.00\n"
     ]
    }
   ],
   "source": [
    "stage2_total_returns = []\n",
    "stage2_total_steps = []\n",
    "\n",
    "engine_config_channel.set_configuration_parameters(time_scale=1)\n",
    "for episode in range(10):\n",
    "    time_step = tf_env.reset()\n",
    "    episode_return = 0.0\n",
    "    steps_in_episode = 0\n",
    "\n",
    "    while not time_step.is_last():\n",
    "        action_step = eval_policy.action(time_step)\n",
    "        time_step = tf_env.step(action_step.action)\n",
    "        episode_return += time_step.reward\n",
    "        steps_in_episode += 1\n",
    "    \n",
    "    stage2_total_returns.append(episode_return.numpy()[0])\n",
    "    stage2_total_steps.append(steps_in_episode)\n",
    "    print(f\"Episode {episode+1}: Return = {episode_return.numpy()[0]:.2f}, Steps = {steps_in_episode}\")\n",
    "\n",
    "avg_return = np.mean(stage2_total_returns)\n",
    "avg_steps = np.mean(stage2_total_steps)\n",
    "std_return = np.std(stage2_total_returns)\n",
    "\n",
    "print(f\"Average Return: {avg_return:.2f}\")\n",
    "print(f\"Average Episode Length: {avg_steps:.1f} steps\")\n",
    "print(f\"Best Episode: {max(stage2_total_returns):.2f}\")\n",
    "print(f\"Worst Episode: {min(stage2_total_returns):.2f}\")"
   ]
  }
 ],
 "metadata": {
  "kernelspec": {
   "display_name": "DQL_env",
   "language": "python",
   "name": "python3"
  },
  "language_info": {
   "codemirror_mode": {
    "name": "ipython",
    "version": 3
   },
   "file_extension": ".py",
   "mimetype": "text/x-python",
   "name": "python",
   "nbconvert_exporter": "python",
   "pygments_lexer": "ipython3",
   "version": "3.10.12"
  }
 },
 "nbformat": 4,
 "nbformat_minor": 5
}
