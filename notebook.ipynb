{
 "cells": [
  {
   "cell_type": "markdown",
   "id": "b0d54c99",
   "metadata": {},
   "source": [
    "**Adding libraries and dependencies**"
   ]
  },
  {
   "cell_type": "code",
   "execution_count": 4,
   "id": "f11e35f4",
   "metadata": {},
   "outputs": [],
   "source": [
    "import numpy as np\n",
    "import tensorflow as tf\n",
    "\n",
    "from mlagents_envs.environment import UnityEnvironment\n",
    "from mlagents_envs.side_channel.engine_configuration_channel import EngineConfigurationChannel\n",
    "from mlagents_envs.base_env import ActionTuple\n",
    "\n",
    "import tf_agents\n",
    "from tf_agents.environments import py_environment\n",
    "from tf_agents.environments import tf_py_environment\n",
    "from tf_agents.networks import q_network\n",
    "from tf_agents.agents.dqn import dqn_agent\n",
    "from tf_agents.utils import common\n",
    "from tf_agents.policies import random_tf_policy\n",
    "from tf_agents.replay_buffers import tf_uniform_replay_buffer\n",
    "from tf_agents.trajectories import trajectory\n",
    "from tf_agents.specs import array_spec\n",
    "from tf_agents.policies import policy_saver\n",
    "from tf_agents.agents.ppo import ppo_agent\n",
    "from tf_agents.networks import actor_distribution_network, value_network\n",
    "from tf_agents.drivers.dynamic_episode_driver import DynamicEpisodeDriver\n",
    "\n",
    "import matplotlib.pyplot as plt\n",
    "import seaborn as sns\n",
    "from concurrent.futures import ThreadPoolExecutor"
   ]
  },
  {
   "cell_type": "markdown",
   "id": "c1ff98d1",
   "metadata": {},
   "source": [
    "Checking GPU detection"
   ]
  },
  {
   "cell_type": "code",
   "execution_count": 4,
   "id": "d7d874e4",
   "metadata": {},
   "outputs": [
    {
     "name": "stdout",
     "output_type": "stream",
     "text": [
      "[PhysicalDevice(name='/physical_device:GPU:0', device_type='GPU')]\n"
     ]
    }
   ],
   "source": [
    "print(tf.config.list_physical_devices('GPU'))"
   ]
  },
  {
   "cell_type": "markdown",
   "id": "e79e48b5",
   "metadata": {},
   "source": [
    "**Establishing connection with Unity environment**"
   ]
  },
  {
   "cell_type": "code",
   "execution_count": 27,
   "id": "68010f46",
   "metadata": {},
   "outputs": [],
   "source": [
    "env.close()"
   ]
  },
  {
   "cell_type": "code",
   "execution_count": 28,
   "id": "88d95eab",
   "metadata": {},
   "outputs": [],
   "source": [
    "engine_config_channel = EngineConfigurationChannel()\n",
    "\n",
    "env = UnityEnvironment(\n",
    "    file_name=None,\n",
    "    worker_id=0,\n",
    "    base_port=5004,\n",
    "    side_channels=[engine_config_channel],\n",
    "    timeout_wait=36000\n",
    ")"
   ]
  },
  {
   "cell_type": "code",
   "execution_count": 29,
   "id": "7745b4e0",
   "metadata": {},
   "outputs": [
    {
     "name": "stdout",
     "output_type": "stream",
     "text": [
      "Behavior: Robot?team=0\n",
      "Action branches: (5,)\n",
      "Observation shapes: [(45,), (12,)]\n",
      "Active agents: 1\n"
     ]
    }
   ],
   "source": [
    "env.reset()\n",
    "behavior_names = list(env.behavior_specs)\n",
    "behavior_name = behavior_names[0]\n",
    "behavior_spec = env.behavior_specs[behavior_name]\n",
    "\n",
    "print(f\"Behavior: {behavior_name}\")\n",
    "print(f\"Action branches: {behavior_spec.action_spec.discrete_branches}\")\n",
    "print(f\"Observation shapes: {[obs.shape for obs in behavior_spec.observation_specs]}\")\n",
    "\n",
    "decision_steps, terminal_steps = env.get_steps(behavior_name)\n",
    "print(f\"Active agents: {len(decision_steps)}\")"
   ]
  },
  {
   "cell_type": "markdown",
   "id": "751d26ee",
   "metadata": {},
   "source": [
    "#### **Action Space**\n",
    "- **5 discrete actions** corresponding to possible movements:\n",
    "  - `0`: Do nothing\n",
    "  - `1`: Go right  \n",
    "  - `2`: Go left\n",
    "  - `3`: Go forward\n",
    "  - `4`: Go backwards\n",
    "\n",
    "#### **Observation Space**\n",
    "\n",
    "##### Ray Perception (45 dimensions)\n",
    "- **45 values** from ML-Agents Ray Perception Sensor 3D component\n",
    "- Detects tags and distances in the environment. It detects the tags: Floor, GoodSphere, Badsphere. The Sensor contains 9 rays, each contains these following 5 observations:\n",
    "  - GoodSphere: `0` not detected, `1` detected\n",
    "  - BadSphere: `0` not detected, `1` detected\n",
    "  - Floor: `0` not detected, `1` detected\n",
    "  - No-hit flag: `1` didn't detect anything, `1` detected something\n",
    "  - Distance: varies from `0`(close) to `1`(far)\n",
    "\n",
    "##### Agent State (12 dimensions)\n",
    "- **12 normalized values** divided as follows:\n",
    "  - Position: `x`, `z` coordinates\n",
    "  - Velocity: `x`, `z` velocity components  \n",
    "  - Rotation: 4 one-hot encoded values `forward` `backwards` `left` `right`\n",
    "  - Distances to floor bounds: `top`, `bottom`, `right`, `left` \n",
    "\n",
    "**Total observation size:** 57\n",
    "\n",
    "---"
   ]
  },
  {
   "cell_type": "code",
   "execution_count": 7,
   "id": "17cd20f7",
   "metadata": {},
   "outputs": [],
   "source": [
    "action_size = 5\n",
    "state_size = 57"
   ]
  },
  {
   "cell_type": "markdown",
   "id": "7955b847",
   "metadata": {},
   "source": [
    "Preparing a get_state function for model training and inference, that is responsible for getting the agent's state at the current step and returning information which will later be used by the model :\n",
    "- state (57,) : agent's state at the current step\n",
    "- reward (float) : reward of the current step\n",
    "- done (boolean) : whether the episode is terminated at the current step"
   ]
  },
  {
   "cell_type": "code",
   "execution_count": 8,
   "id": "b06a9cc6",
   "metadata": {},
   "outputs": [],
   "source": [
    "def get_state():\n",
    "    decision_steps, terminal_steps = env.get_steps(behavior_name)\n",
    "    \n",
    "    if len(decision_steps) > 0:\n",
    "        obs1 = decision_steps.obs[0][0] #Ray perception sensor observations\n",
    "        obs2 = decision_steps.obs[1][0] #Agent state observations\n",
    "        state = np.concatenate([obs1, obs2]) #Combine observations for correct DQN input format\n",
    "        return state, decision_steps.reward[0], False\n",
    "    \n",
    "    elif len(terminal_steps) > 0:\n",
    "        # Episode ended\n",
    "        obs1 = terminal_steps.obs[0][0]\n",
    "        obs2 = terminal_steps.obs[1][0] \n",
    "        state = np.concatenate([obs1, obs2])\n",
    "        return state, terminal_steps.reward[0], True\n",
    "    \n",
    "    return None, 0, False\n"
   ]
  },
  {
   "cell_type": "markdown",
   "id": "dc13a5b4",
   "metadata": {},
   "source": [
    "**Making a random Neural Network for testing Model-Simulation connection**"
   ]
  },
  {
   "cell_type": "code",
   "execution_count": 11,
   "id": "3768e999",
   "metadata": {},
   "outputs": [],
   "source": [
    "model = tf.keras.Sequential([\n",
    "    tf.keras.layers.Dense(256, activation='relu', input_shape=(state_size,)),\n",
    "    tf.keras.layers.Dense(512, activation='relu'),\n",
    "    tf.keras.layers.Dense(256, activation='relu'),\n",
    "    tf.keras.layers.Dense(128, activation='relu'),\n",
    "    tf.keras.layers.Dense(action_size, activation='linear')\n",
    "])"
   ]
  },
  {
   "cell_type": "code",
   "execution_count": 8,
   "id": "9992709f",
   "metadata": {},
   "outputs": [
    {
     "name": "stdout",
     "output_type": "stream",
     "text": [
      "Model: \"sequential\"\n",
      "_________________________________________________________________\n",
      " Layer (type)                Output Shape              Param #   \n",
      "=================================================================\n",
      " dense (Dense)               (None, 256)               14848     \n",
      "                                                                 \n",
      " dense_1 (Dense)             (None, 512)               131584    \n",
      "                                                                 \n",
      " dense_2 (Dense)             (None, 256)               131328    \n",
      "                                                                 \n",
      " dense_3 (Dense)             (None, 128)               32896     \n",
      "                                                                 \n",
      " dense_4 (Dense)             (None, 5)                 645       \n",
      "                                                                 \n",
      "=================================================================\n",
      "Total params: 311301 (1.19 MB)\n",
      "Trainable params: 311301 (1.19 MB)\n",
      "Non-trainable params: 0 (0.00 Byte)\n",
      "_________________________________________________________________\n"
     ]
    }
   ],
   "source": [
    "model.summary()"
   ]
  },
  {
   "cell_type": "code",
   "execution_count": 9,
   "id": "d540d39d",
   "metadata": {},
   "outputs": [
    {
     "data": {
      "text/plain": [
       "array([ 0.07737374, -0.00648218,  0.06949984,  0.03705293, -0.06775721,\n",
       "        0.1202559 ,  0.12113152, -0.01201017, -0.08666   ,  0.07665624,\n",
       "       -0.01725511,  0.09428237, -0.07929844,  0.09896681, -0.05624677,\n",
       "       -0.11420877,  0.12827615, -0.03118309, -0.00405595, -0.09832588,\n",
       "        0.11950238,  0.03512914, -0.0148273 ,  0.01080281, -0.13288987,\n",
       "       -0.09832539,  0.06312427, -0.03498427,  0.04186118,  0.01500417,\n",
       "       -0.09339771, -0.1320627 ,  0.09191471,  0.07503961, -0.13829374,\n",
       "        0.11795633,  0.12565921,  0.12211533, -0.07425632, -0.08830254,\n",
       "        0.00774524, -0.09108131,  0.12355249,  0.0578333 ,  0.05846249,\n",
       "       -0.10532427, -0.07864448, -0.00682013,  0.01125669, -0.03624759,\n",
       "        0.03209838, -0.06470561,  0.12328513, -0.05323479,  0.01460478,\n",
       "       -0.03497186, -0.01957263], dtype=float32)"
      ]
     },
     "execution_count": 9,
     "metadata": {},
     "output_type": "execute_result"
    }
   ],
   "source": [
    "l1_weights = model.get_weights()[0]\n",
    "l1_weights[:,0] #weights of the first neuron of the first layer"
   ]
  },
  {
   "cell_type": "markdown",
   "id": "30678d9b",
   "metadata": {},
   "source": [
    "Running the model with the initial random weights"
   ]
  },
  {
   "cell_type": "code",
   "execution_count": 10,
   "id": "33ad2d7c",
   "metadata": {},
   "outputs": [
    {
     "name": "stderr",
     "output_type": "stream",
     "text": [
      "2025-08-21 03:34:35.346872: I external/local_tsl/tsl/platform/default/subprocess.cc:304] Start cannot spawn child process: No such file or directory\n"
     ]
    },
    {
     "name": "stdout",
     "output_type": "stream",
     "text": [
      "Step 0: Action 3, Reward 0.00\n",
      "Step 10: Action 3, Reward 0.00\n",
      "Step 20: Action 3, Reward 0.00\n",
      "Step 30: Action 3, Reward 0.00\n",
      "Step 40: Action 3, Reward 0.00\n",
      "Step 50: Action 3, Reward 0.00\n",
      "Step 60: Action 3, Reward 0.00\n",
      "Step 70: Action 3, Reward 0.00\n",
      "Step 80: Action 3, Reward 0.00\n",
      "Step 90: Action 3, Reward 0.00\n"
     ]
    }
   ],
   "source": [
    "for step in range(100): #Run for 100 steps\n",
    "    state, reward, done = get_state()\n",
    "    \n",
    "    if state is not None:\n",
    "        if done:\n",
    "            env.reset()\n",
    "        q_values = model.predict(np.expand_dims(state, axis=0), verbose=0)\n",
    "        action = np.argmax(q_values[0])  # Choose best action\n",
    "        \n",
    "        if step % 10 == 0: \n",
    "            print(f\"Step {step}: Action {action}, Reward {reward:.2f}\")\n",
    "        \n",
    "        # Send action to Unity\n",
    "        action_tuple = ActionTuple(discrete=np.array([[action]]))\n",
    "        env.set_actions(behavior_name, action_tuple)\n",
    "        env.step()\n",
    "    else:\n",
    "        env.close()\n",
    "    "
   ]
  },
  {
   "cell_type": "markdown",
   "id": "f0286db8",
   "metadata": {},
   "source": [
    "**Creating environment wrapper for TF agents**"
   ]
  },
  {
   "cell_type": "code",
   "execution_count": 9,
   "id": "9117ce3f",
   "metadata": {},
   "outputs": [],
   "source": [
    "class EnvironmentWrapper(py_environment.PyEnvironment):\n",
    "    def __init__(self, unity_env, behavior_name, get_state_func):\n",
    "        super().__init__()\n",
    "        self.unity_env = unity_env\n",
    "        self.behavior_name = behavior_name\n",
    "        self.get_state_func = get_state_func\n",
    "\n",
    "        self._action_spec = array_spec.BoundedArraySpec(\n",
    "            shape=(),\n",
    "            dtype=np.int32,\n",
    "            minimum=0,\n",
    "            maximum=4,\n",
    "            name='action'\n",
    "        )\n",
    "        self._observation_spec = array_spec.ArraySpec(\n",
    "            shape=(state_size,),\n",
    "            dtype=np.float32,\n",
    "            name='observation'\n",
    "        )\n",
    "\n",
    "        self._state = np.zeros(state_size, dtype=np.float32)\n",
    "        self._episode_ended = False\n",
    "\n",
    "    def action_spec(self):\n",
    "        return self._action_spec\n",
    "\n",
    "    def observation_spec(self):\n",
    "        return self._observation_spec\n",
    "\n",
    "    def _reset(self):\n",
    "        self.unity_env.reset()\n",
    "        self._episode_ended = False\n",
    "        state, _, _ = self.get_state_func()\n",
    "        if state is not None:\n",
    "            self._state = state.astype(np.float32)\n",
    "        return tf_agents.trajectories.time_step.restart(self._state)\n",
    "\n",
    "    def _step(self, action):\n",
    "        if self._episode_ended:\n",
    "            return self.reset()\n",
    "        \n",
    "        # Send action to Unity\n",
    "        action_tuple = ActionTuple(discrete=np.array([[action]]))\n",
    "        self.unity_env.set_actions(self.behavior_name, action_tuple)\n",
    "        self.unity_env.step()\n",
    "        \n",
    "        # Get new state\n",
    "        state, reward, done = self.get_state_func()\n",
    "\n",
    "        if state is not None:\n",
    "            self._state = state.astype(np.float32)\n",
    "        \n",
    "        if done:\n",
    "            self._episode_ended = True\n",
    "            return tf_agents.trajectories.time_step.termination(self._state, reward)\n",
    "        else:\n",
    "            return tf_agents.trajectories.time_step.transition(self._state, reward)"
   ]
  },
  {
   "cell_type": "markdown",
   "id": "7a6ab16f",
   "metadata": {},
   "source": [
    "### **Creating and training the agent**\n",
    "We are going to use Proximal Policy Optimization (PPO) for creating the agent, the reward are going to be as follows:\n",
    "- Falling: -10\n",
    "- Doing nothing: -0.01 (encouraging movement)\n",
    "- Collecting green sphere: +3\n",
    "- Collecting red sphere: -3\n",
    "- Distance to green sphere: +(0.005 x (1-Distance)) for each ray that is detecting a green sphere  \n",
    "- Distance to red sphere: -(0.005 x (1-Distance)) for each ray that is detecting a red sphere  "
   ]
  },
  {
   "cell_type": "markdown",
   "id": "6574c4a0",
   "metadata": {},
   "source": [
    "Creating a new environment wrapper"
   ]
  },
  {
   "cell_type": "code",
   "execution_count": null,
   "id": "7600439f",
   "metadata": {},
   "outputs": [],
   "source": [
    "engine_config_channel = EngineConfigurationChannel()\n",
    "\n",
    "env = UnityEnvironment(\n",
    "    file_name=None,\n",
    "    worker_id=0,\n",
    "    base_port=5004,\n",
    "    side_channels=[engine_config_channel],\n",
    "    timeout_wait=36000\n",
    ")"
   ]
  },
  {
   "cell_type": "code",
   "execution_count": 31,
   "id": "da552e1f",
   "metadata": {},
   "outputs": [],
   "source": [
    "env_wrapper_ppo = EnvironmentWrapper(env, behavior_name, get_state)\n",
    "tf_env_ppo = tf_py_environment.TFPyEnvironment(env_wrapper_ppo)"
   ]
  },
  {
   "cell_type": "markdown",
   "id": "28aa5c11",
   "metadata": {},
   "source": [
    "Creating actor and critic networks"
   ]
  },
  {
   "cell_type": "code",
   "execution_count": 11,
   "id": "b8bbd2dd",
   "metadata": {},
   "outputs": [],
   "source": [
    "actor_net = actor_distribution_network.ActorDistributionNetwork(\n",
    "    tf_env_ppo.observation_spec(),\n",
    "    tf_env_ppo.action_spec(),\n",
    "    fc_layer_params=(256, 128, 64)\n",
    ")\n",
    "\n",
    "value_net = value_network.ValueNetwork(\n",
    "    tf_env_ppo.observation_spec(),\n",
    "    fc_layer_params=(256, 128, 64)\n",
    ")"
   ]
  },
  {
   "cell_type": "markdown",
   "id": "23394d92",
   "metadata": {},
   "source": [
    "Creating the agent"
   ]
  },
  {
   "cell_type": "code",
   "execution_count": 12,
   "id": "97828ff1",
   "metadata": {},
   "outputs": [
    {
     "name": "stderr",
     "output_type": "stream",
     "text": [
      "2025-08-22 15:05:17.594400: I external/local_xla/xla/stream_executor/cuda/cuda_executor.cc:887] could not open file to read NUMA node: /sys/bus/pci/devices/0000:01:00.0/numa_node\n",
      "Your kernel may have been built without NUMA support.\n",
      "2025-08-22 15:05:17.781952: I external/local_xla/xla/stream_executor/cuda/cuda_executor.cc:887] could not open file to read NUMA node: /sys/bus/pci/devices/0000:01:00.0/numa_node\n",
      "Your kernel may have been built without NUMA support.\n",
      "2025-08-22 15:05:17.782003: I external/local_xla/xla/stream_executor/cuda/cuda_executor.cc:887] could not open file to read NUMA node: /sys/bus/pci/devices/0000:01:00.0/numa_node\n",
      "Your kernel may have been built without NUMA support.\n",
      "2025-08-22 15:05:17.785077: I external/local_xla/xla/stream_executor/cuda/cuda_executor.cc:887] could not open file to read NUMA node: /sys/bus/pci/devices/0000:01:00.0/numa_node\n",
      "Your kernel may have been built without NUMA support.\n",
      "2025-08-22 15:05:17.785119: I external/local_xla/xla/stream_executor/cuda/cuda_executor.cc:887] could not open file to read NUMA node: /sys/bus/pci/devices/0000:01:00.0/numa_node\n",
      "Your kernel may have been built without NUMA support.\n",
      "2025-08-22 15:05:17.785137: I external/local_xla/xla/stream_executor/cuda/cuda_executor.cc:887] could not open file to read NUMA node: /sys/bus/pci/devices/0000:01:00.0/numa_node\n",
      "Your kernel may have been built without NUMA support.\n",
      "2025-08-22 15:05:17.977682: I external/local_xla/xla/stream_executor/cuda/cuda_executor.cc:887] could not open file to read NUMA node: /sys/bus/pci/devices/0000:01:00.0/numa_node\n",
      "Your kernel may have been built without NUMA support.\n",
      "2025-08-22 15:05:17.978481: I external/local_xla/xla/stream_executor/cuda/cuda_executor.cc:887] could not open file to read NUMA node: /sys/bus/pci/devices/0000:01:00.0/numa_node\n",
      "Your kernel may have been built without NUMA support.\n",
      "2025-08-22 15:05:17.978502: I tensorflow/core/common_runtime/gpu/gpu_device.cc:2022] Could not identify NUMA node of platform GPU id 0, defaulting to 0.  Your kernel may not have been built with NUMA support.\n",
      "2025-08-22 15:05:17.978542: I external/local_xla/xla/stream_executor/cuda/cuda_executor.cc:887] could not open file to read NUMA node: /sys/bus/pci/devices/0000:01:00.0/numa_node\n",
      "Your kernel may have been built without NUMA support.\n",
      "2025-08-22 15:05:17.979077: I tensorflow/core/common_runtime/gpu/gpu_device.cc:1929] Created device /job:localhost/replica:0/task:0/device:GPU:0 with 1767 MB memory:  -> device: 0, name: NVIDIA GeForce RTX 3050 Laptop GPU, pci bus id: 0000:01:00.0, compute capability: 8.6\n",
      "2025-08-22 15:05:18.333558: I external/local_tsl/tsl/platform/default/subprocess.cc:304] Start cannot spawn child process: No such file or directory\n"
     ]
    }
   ],
   "source": [
    "train_step_counter_ppo = tf.Variable(0)\n",
    "\n",
    "ppo = ppo_agent.PPOAgent(\n",
    "    tf_env_ppo.time_step_spec(),\n",
    "    tf_env_ppo.action_spec(),\n",
    "    actor_net=actor_net,\n",
    "    value_net=value_net,\n",
    "    optimizer=tf.keras.optimizers.Adam(learning_rate=3e-4),\n",
    "    normalize_observations=False,\n",
    "    normalize_rewards=True,\n",
    "    use_gae=True,\n",
    "    lambda_value=0.95,\n",
    "    entropy_regularization=0.02,\n",
    "    importance_ratio_clipping=0.2,\n",
    "    discount_factor=0.99,\n",
    "    value_pred_loss_coef=0.5,\n",
    "    num_epochs=3,\n",
    "    train_step_counter=train_step_counter_ppo,\n",
    ")\n",
    "\n",
    "ppo.initialize()"
   ]
  },
  {
   "cell_type": "markdown",
   "id": "ba77a1e4",
   "metadata": {},
   "source": [
    "Creating the replay buffer"
   ]
  },
  {
   "cell_type": "code",
   "execution_count": 13,
   "id": "8c7301ed",
   "metadata": {},
   "outputs": [],
   "source": [
    "replay_buffer_ppo = tf_uniform_replay_buffer.TFUniformReplayBuffer(\n",
    "    data_spec=ppo.collect_data_spec,\n",
    "    batch_size=tf_env_ppo.batch_size,\n",
    "    max_length=20000,\n",
    ")"
   ]
  },
  {
   "cell_type": "code",
   "execution_count": 14,
   "id": "369fa9aa",
   "metadata": {},
   "outputs": [],
   "source": [
    "def rb_observer(traj):\n",
    "    replay_buffer_ppo.add_batch(traj)\n",
    "\n",
    "driver = DynamicEpisodeDriver(\n",
    "    tf_env_ppo,\n",
    "    ppo.collect_policy,\n",
    "    observers=[rb_observer],\n",
    "    num_episodes=10,\n",
    ")"
   ]
  },
  {
   "cell_type": "code",
   "execution_count": 15,
   "id": "50626c32",
   "metadata": {},
   "outputs": [],
   "source": [
    "num_iterations_ppo = 1500\n",
    "eval_interval_ppo = 10\n",
    "speed_ppo = 100"
   ]
  },
  {
   "cell_type": "code",
   "execution_count": 17,
   "id": "d2f25671",
   "metadata": {},
   "outputs": [
    {
     "name": "stdout",
     "output_type": "stream",
     "text": [
      "Iter 0 | Eval return: -6.51 | Steps: 21\n",
      "Iter 10 | Eval return: 3.03 | Steps: 50\n",
      "Iter 20 | Eval return: 4.85 | Steps: 46\n",
      "Iter 30 | Eval return: 7.75 | Steps: 42\n",
      "Iter 40 | Eval return: -36.03 | Steps: 400\n",
      "Iter 50 | Eval return: 12.29 | Steps: 400\n",
      "Iter 60 | Eval return: 36.39 | Steps: 400\n",
      "Iter 70 | Eval return: 31.05 | Steps: 400\n",
      "Iter 80 | Eval return: 27.56 | Steps: 400\n",
      "Iter 90 | Eval return: -14.51 | Steps: 400\n",
      "Iter 100 | Eval return: 90.52 | Steps: 400\n",
      "Iter 110 | Eval return: 49.25 | Steps: 400\n",
      "Iter 120 | Eval return: 19.71 | Steps: 400\n",
      "Iter 130 | Eval return: 27.45 | Steps: 400\n",
      "Iter 140 | Eval return: 33.60 | Steps: 400\n",
      "Iter 150 | Eval return: 66.55 | Steps: 400\n",
      "Iter 160 | Eval return: 61.30 | Steps: 400\n",
      "Iter 170 | Eval return: 95.64 | Steps: 400\n",
      "Iter 180 | Eval return: 84.09 | Steps: 400\n",
      "Iter 190 | Eval return: 41.30 | Steps: 400\n",
      "Iter 200 | Eval return: 54.03 | Steps: 400\n",
      "Iter 210 | Eval return: 2.30 | Steps: 400\n",
      "Iter 220 | Eval return: 113.59 | Steps: 400\n",
      "Iter 230 | Eval return: -2.63 | Steps: 400\n",
      "Iter 240 | Eval return: 46.34 | Steps: 400\n",
      "Iter 250 | Eval return: 69.13 | Steps: 400\n",
      "Iter 260 | Eval return: 58.68 | Steps: 400\n",
      "Iter 270 | Eval return: 131.13 | Steps: 400\n",
      "Iter 280 | Eval return: 95.48 | Steps: 400\n",
      "Iter 290 | Eval return: -27.58 | Steps: 400\n",
      "Iter 300 | Eval return: 74.65 | Steps: 400\n",
      "Iter 310 | Eval return: 25.72 | Steps: 400\n",
      "Iter 320 | Eval return: 17.80 | Steps: 400\n",
      "Iter 330 | Eval return: 40.43 | Steps: 400\n",
      "Iter 340 | Eval return: 71.02 | Steps: 400\n",
      "Iter 350 | Eval return: 36.33 | Steps: 400\n",
      "Iter 360 | Eval return: 110.36 | Steps: 400\n",
      "Iter 370 | Eval return: 124.11 | Steps: 400\n",
      "Iter 380 | Eval return: 141.61 | Steps: 400\n",
      "Iter 390 | Eval return: 96.64 | Steps: 400\n",
      "Iter 400 | Eval return: 50.43 | Steps: 400\n",
      "Iter 410 | Eval return: 74.80 | Steps: 400\n",
      "Iter 420 | Eval return: 55.88 | Steps: 400\n",
      "Iter 430 | Eval return: 88.60 | Steps: 400\n",
      "Iter 440 | Eval return: 42.70 | Steps: 400\n",
      "Iter 450 | Eval return: 91.70 | Steps: 400\n",
      "Iter 460 | Eval return: 88.14 | Steps: 400\n",
      "Iter 470 | Eval return: 83.09 | Steps: 400\n",
      "Iter 480 | Eval return: 140.03 | Steps: 400\n",
      "Iter 490 | Eval return: 60.92 | Steps: 400\n",
      "Iter 500 | Eval return: 61.36 | Steps: 400\n",
      "Iter 510 | Eval return: 113.77 | Steps: 400\n",
      "Iter 520 | Eval return: 34.26 | Steps: 400\n",
      "Iter 530 | Eval return: 95.37 | Steps: 400\n",
      "Iter 540 | Eval return: 116.58 | Steps: 400\n",
      "Iter 550 | Eval return: 77.24 | Steps: 400\n",
      "Iter 560 | Eval return: 122.89 | Steps: 400\n",
      "Iter 570 | Eval return: 94.03 | Steps: 400\n",
      "Iter 580 | Eval return: 46.84 | Steps: 400\n",
      "Iter 590 | Eval return: 52.89 | Steps: 400\n",
      "Iter 600 | Eval return: 162.96 | Steps: 400\n",
      "Iter 610 | Eval return: 99.28 | Steps: 400\n",
      "Iter 620 | Eval return: 61.31 | Steps: 400\n",
      "Iter 630 | Eval return: 47.09 | Steps: 400\n",
      "Iter 640 | Eval return: 94.43 | Steps: 400\n",
      "Iter 650 | Eval return: 43.85 | Steps: 400\n",
      "Iter 660 | Eval return: 80.62 | Steps: 400\n",
      "Iter 670 | Eval return: 101.66 | Steps: 400\n",
      "Iter 680 | Eval return: 23.37 | Steps: 400\n",
      "Iter 690 | Eval return: 107.28 | Steps: 400\n",
      "Iter 700 | Eval return: 123.02 | Steps: 400\n",
      "Iter 710 | Eval return: 115.63 | Steps: 400\n",
      "Iter 720 | Eval return: 70.94 | Steps: 400\n",
      "Iter 730 | Eval return: 88.99 | Steps: 400\n",
      "Iter 740 | Eval return: 95.73 | Steps: 400\n",
      "Iter 750 | Eval return: 100.79 | Steps: 400\n",
      "Iter 760 | Eval return: 172.40 | Steps: 400\n",
      "Iter 770 | Eval return: 151.83 | Steps: 400\n",
      "Iter 780 | Eval return: 88.16 | Steps: 400\n",
      "Iter 790 | Eval return: 75.43 | Steps: 400\n",
      "Iter 800 | Eval return: 67.50 | Steps: 400\n",
      "Iter 810 | Eval return: 61.56 | Steps: 400\n",
      "Iter 820 | Eval return: 133.68 | Steps: 400\n",
      "Iter 830 | Eval return: 63.05 | Steps: 400\n",
      "Iter 840 | Eval return: 65.09 | Steps: 400\n",
      "Iter 850 | Eval return: 81.96 | Steps: 400\n",
      "Iter 860 | Eval return: 80.55 | Steps: 400\n",
      "Iter 870 | Eval return: 93.40 | Steps: 400\n",
      "Iter 880 | Eval return: -21.90 | Steps: 400\n",
      "Iter 890 | Eval return: 99.30 | Steps: 400\n",
      "Iter 900 | Eval return: 103.48 | Steps: 400\n",
      "Iter 910 | Eval return: 90.04 | Steps: 400\n",
      "Iter 920 | Eval return: 135.19 | Steps: 400\n",
      "Iter 930 | Eval return: 112.22 | Steps: 400\n",
      "Iter 940 | Eval return: 105.57 | Steps: 400\n",
      "Iter 950 | Eval return: 70.07 | Steps: 400\n",
      "Iter 960 | Eval return: 23.44 | Steps: 400\n",
      "Iter 970 | Eval return: 17.83 | Steps: 400\n",
      "Iter 980 | Eval return: 82.53 | Steps: 400\n",
      "Iter 990 | Eval return: 147.34 | Steps: 400\n",
      "Iter 1000 | Eval return: 8.29 | Steps: 400\n",
      "Iter 1010 | Eval return: 24.22 | Steps: 400\n",
      "Iter 1020 | Eval return: 152.01 | Steps: 400\n",
      "Iter 1030 | Eval return: 120.23 | Steps: 400\n",
      "Iter 1040 | Eval return: 125.66 | Steps: 400\n",
      "Iter 1050 | Eval return: 155.46 | Steps: 400\n",
      "Iter 1060 | Eval return: 98.17 | Steps: 400\n",
      "Iter 1070 | Eval return: 21.99 | Steps: 400\n",
      "Iter 1080 | Eval return: -8.28 | Steps: 400\n",
      "Iter 1090 | Eval return: 121.59 | Steps: 400\n",
      "Iter 1100 | Eval return: 74.61 | Steps: 400\n",
      "Iter 1110 | Eval return: 65.21 | Steps: 400\n",
      "Iter 1120 | Eval return: 76.51 | Steps: 400\n",
      "Iter 1130 | Eval return: 147.30 | Steps: 400\n",
      "Iter 1140 | Eval return: 62.69 | Steps: 400\n",
      "Iter 1150 | Eval return: 137.63 | Steps: 400\n",
      "Iter 1160 | Eval return: 140.22 | Steps: 400\n",
      "Iter 1170 | Eval return: 42.57 | Steps: 400\n",
      "Iter 1180 | Eval return: 133.89 | Steps: 400\n",
      "Iter 1190 | Eval return: 77.83 | Steps: 400\n",
      "Iter 1200 | Eval return: 31.76 | Steps: 400\n",
      "Iter 1210 | Eval return: 56.23 | Steps: 400\n",
      "Iter 1220 | Eval return: 17.37 | Steps: 400\n",
      "Iter 1230 | Eval return: 52.55 | Steps: 400\n",
      "Iter 1240 | Eval return: 124.73 | Steps: 400\n",
      "Iter 1250 | Eval return: 103.59 | Steps: 400\n",
      "Iter 1260 | Eval return: 68.40 | Steps: 400\n",
      "Iter 1270 | Eval return: 15.96 | Steps: 400\n",
      "Iter 1280 | Eval return: 145.30 | Steps: 400\n",
      "Iter 1290 | Eval return: 141.09 | Steps: 400\n",
      "Iter 1300 | Eval return: 8.48 | Steps: 400\n",
      "Iter 1310 | Eval return: 88.59 | Steps: 400\n",
      "Iter 1320 | Eval return: 36.11 | Steps: 400\n",
      "Iter 1330 | Eval return: 113.97 | Steps: 400\n",
      "Iter 1340 | Eval return: 156.44 | Steps: 400\n",
      "Iter 1350 | Eval return: 26.28 | Steps: 400\n",
      "Iter 1360 | Eval return: 104.45 | Steps: 400\n",
      "Iter 1370 | Eval return: 70.89 | Steps: 400\n",
      "Iter 1380 | Eval return: 140.24 | Steps: 400\n",
      "Iter 1390 | Eval return: 137.53 | Steps: 400\n",
      "Iter 1400 | Eval return: 68.90 | Steps: 400\n",
      "Iter 1410 | Eval return: 105.58 | Steps: 400\n",
      "Iter 1420 | Eval return: 122.48 | Steps: 400\n",
      "Iter 1430 | Eval return: 38.05 | Steps: 400\n",
      "Iter 1440 | Eval return: 26.17 | Steps: 400\n",
      "Iter 1450 | Eval return: 105.09 | Steps: 400\n",
      "Iter 1460 | Eval return: 16.61 | Steps: 400\n",
      "Iter 1470 | Eval return: 138.83 | Steps: 400\n",
      "Iter 1480 | Eval return: 102.08 | Steps: 400\n",
      "Iter 1490 | Eval return: 130.02 | Steps: 400\n",
      "Training complete!\n"
     ]
    }
   ],
   "source": [
    "eval_returns = []\n",
    "\n",
    "engine_config_channel.set_configuration_parameters(time_scale=speed_ppo)\n",
    "\n",
    "for iteration in range(num_iterations_ppo):\n",
    "    replay_buffer_ppo.clear()\n",
    "    driver.run()\n",
    "\n",
    "    experience = replay_buffer_ppo.gather_all()\n",
    "    loss_info = ppo.train(experience)\n",
    "    replay_buffer_ppo.clear()\n",
    "\n",
    "    if iteration % eval_interval_ppo == 0:\n",
    "        ts = tf_env_ppo.reset()\n",
    "        step_count = 0\n",
    "        eval_return = 0.0\n",
    "\n",
    "        while not ts.is_last():\n",
    "            action_step = ppo.policy.action(ts)\n",
    "            step_count += 1\n",
    "            ts = tf_env_ppo.step(action_step.action)\n",
    "            eval_return += ts.reward\n",
    "\n",
    "        eval_returns.append(eval_return.numpy()[0])\n",
    "        print(f\"Iter {iteration} | Eval return: {eval_return.numpy()[0]:.2f} | Steps: {step_count}\")\n",
    "\n",
    "\n",
    "print('Training complete!')"
   ]
  },
  {
   "cell_type": "code",
   "execution_count": 25,
   "id": "aa436ccc",
   "metadata": {},
   "outputs": [
    {
     "data": {
      "image/png": "[encoded data removed]",
      "text/plain": [
       "<Figure size 1500x500 with 1 Axes>"
      ]
     },
     "metadata": {},
     "output_type": "display_data"
    }
   ],
   "source": [
    "fig = plt.figure(figsize=(15, 5))\n",
    "\n",
    "plt.plot(eval_returns, label='Evaluation Returns', marker='o')\n",
    "\n",
    "x = np.arange(len(eval_returns))\n",
    "coefficients = np.polyfit(x, eval_returns, 1)\n",
    "trend_line = np.polyval(coefficients, x)\n",
    "plt.plot(x, trend_line, label='Trend Line', linestyle='--', color='red')\n",
    "\n",
    "plt.title('PPO Evaluation Returns Over Time with Trend Line')\n",
    "plt.xlabel('Iteration')\n",
    "plt.ylabel('Return')\n",
    "plt.legend()\n",
    "plt.grid(True)\n",
    "\n",
    "plt.show()"
   ]
  },
  {
   "cell_type": "code",
   "execution_count": 23,
   "id": "4ab81c01",
   "metadata": {},
   "outputs": [
    {
     "name": "stdout",
     "output_type": "stream",
     "text": [
      "INFO:tensorflow:Assets written to: ./saved_models/ppo_agent/assets\n"
     ]
    },
    {
     "name": "stderr",
     "output_type": "stream",
     "text": [
      "/home/louay/miniforge3/envs/DQL_env/lib/python3.10/site-packages/tensorflow/python/saved_model/nested_structure_coder.py:458: UserWarning: Encoding a StructuredValue with type tfp.distributions.Deterministic_ACTTypeSpec; loading this StructuredValue will require that this type be imported and registered.\n",
      "  warnings.warn(\"Encoding a StructuredValue with type %s; loading this \"\n",
      "INFO:tensorflow:Assets written to: ./saved_models/ppo_agent/assets\n"
     ]
    },
    {
     "data": {
      "text/plain": [
       "'./checkpoints/ppo_checkpoint-1'"
      ]
     },
     "execution_count": 23,
     "metadata": {},
     "output_type": "execute_result"
    }
   ],
   "source": [
    "ppo_policy_saver = policy_saver.PolicySaver(ppo.policy)\n",
    "ppo_policy_saver.save('./saved_models/ppo_agent')\n",
    "\n",
    "checkpoint = tf.train.Checkpoint(\n",
    "    actor_net=ppo._actor_net,\n",
    "    value_net=ppo._value_net,\n",
    "    optimizer=ppo._optimizer,\n",
    "    train_step=ppo._train_step_counter\n",
    ")\n",
    "checkpoint.save('./checkpoints/ppo_checkpoint')"
   ]
  },
  {
   "cell_type": "markdown",
   "id": "6911ad4b",
   "metadata": {},
   "source": [
    "Model evaluation\n",
    "\n",
    "*For these episodes of evaluation, we will remove the reward for getting closer to spheres to be able to easily track the number of spheres collected*"
   ]
  },
  {
   "cell_type": "code",
   "execution_count": null,
   "id": "818b0758",
   "metadata": {},
   "outputs": [
    {
     "name": "stdout",
     "output_type": "stream",
     "text": [
      "Episode 1: Return = 30.00, Steps = 400, Green Spheres = 8, Red Spheres = 0\n",
      "Episode 2: Return = 84.00, Steps = 400, Green Spheres = 28, Red Spheres = 4\n",
      "Episode 3: Return = 75.00, Steps = 400, Green Spheres = 27, Red Spheres = 2\n",
      "Episode 4: Return = 90.00, Steps = 400, Green Spheres = 38, Red Spheres = 8\n",
      "Episode 5: Return = 87.00, Steps = 400, Green Spheres = 24, Red Spheres = 1\n",
      "Episode 6: Return = 87.00, Steps = 400, Green Spheres = 34, Red Spheres = 7\n",
      "Episode 7: Return = 93.00, Steps = 400, Green Spheres = 30, Red Spheres = 3\n",
      "Episode 8: Return = 105.00, Steps = 400, Green Spheres = 36, Red Spheres = 5\n",
      "Episode 9: Return = 120.00, Steps = 400, Green Spheres = 40, Red Spheres = 6\n",
      "Episode 10: Return = 93.00, Steps = 400, Green Spheres = 36, Red Spheres = 9\n",
      "Average Return: 86.40\n",
      "Average Episode Length: 400.0 steps\n",
      "Best Episode: 120.00\n",
      "Worst Episode: 30.00\n"
     ]
    }
   ],
   "source": [
    "ppo_total_returns = []\n",
    "ppo_total_steps = []\n",
    "\n",
    "engine_config_channel.set_configuration_parameters(time_scale=2)\n",
    "for episode in range(10):\n",
    "    time_step = tf_env_ppo.reset()\n",
    "    episode_return = 0.0\n",
    "    steps_in_episode = 0\n",
    "    green_spheres = 0\n",
    "    red_spheres = 0\n",
    "\n",
    "    while not time_step.is_last():\n",
    "        action_step = ppo.policy.action(time_step)\n",
    "        time_step = tf_env_ppo.step(action_step.action)\n",
    "        episode_return += time_step.reward\n",
    "        steps_in_episode += 1\n",
    "        if time_step.reward == 3:\n",
    "            green_spheres += 1\n",
    "        elif time_step.reward == -3:\n",
    "            red_spheres += 1\n",
    "\n",
    "    ppo_total_returns.append(episode_return.numpy()[0])\n",
    "    ppo_total_steps.append(steps_in_episode)\n",
    "    print(f\"Episode {episode+1}: Return = {episode_return.numpy()[0]:.2f}, Steps = {steps_in_episode}, Green Spheres = {green_spheres}, Red Spheres = {red_spheres}\")\n",
    "\n",
    "avg_return = np.mean(ppo_total_returns)\n",
    "avg_steps = np.mean(ppo_total_steps)\n",
    "std_return = np.std(ppo_total_returns)\n",
    "\n",
    "print(f\"Average Return: {avg_return:.2f}\")\n",
    "print(f\"Average Episode Length: {avg_steps:.1f} steps\")\n",
    "print(f\"Best Episode: {max(ppo_total_returns):.2f}\")\n",
    "print(f\"Worst Episode: {min(ppo_total_returns):.2f}\")"
   ]
  },
  {
   "cell_type": "markdown",
   "id": "a1c72baf",
   "metadata": {},
   "source": [
    "#### **Training Summary**\n",
    "**After 23 hours of training, the agent demonstrated a solid understanding of the three main objectives:**\n",
    "\n",
    "1. Avoiding Falls:\n",
    "<br>\n",
    "The agent quickly learned not to fall off the edges, achieving this behavior after 30–40 training iterations.  \n",
    "\n",
    "\n",
    "2. Collecting Green Spheres:\n",
    "<br>\n",
    "The agent successfully learned to collect green spheres during evaluation episodes.\n",
    "\n",
    "\n",
    "3. Avoiding Red Spheres:\n",
    "<br>\n",
    "The agent showed an understanding of avoiding red spheres.\n",
    "\n",
    "\n",
    "**Despite the progress, two key issues remain:**\n",
    "\n",
    "1. Close Proximity of Green and Red Spheres:\n",
    "<br>\n",
    "When a green sphere and a red sphere are close to each other, the agent collects both without optimizing its movement to avoid the red sphere.\n",
    "\n",
    "\n",
    "2. Getting Stuck in Empty Areas:<br>\n",
    "After collecting all nearby green spheres, the agent gets stuck in areas without any green spheres (outside its Ray Perception range). It then moves back and forth in the same spot without exploring further."
   ]
  },
  {
   "cell_type": "code",
   "execution_count": null,
   "id": "14493aea",
   "metadata": {},
   "outputs": [],
   "source": [
    "env.close()"
   ]
  }
 ],
 "metadata": {
  "kernelspec": {
   "display_name": "DQL_env",
   "language": "python",
   "name": "python3"
  },
  "language_info": {
   "codemirror_mode": {
    "name": "ipython",
    "version": 3
   },
   "file_extension": ".py",
   "mimetype": "text/x-python",
   "name": "python",
   "nbconvert_exporter": "python",
   "pygments_lexer": "ipython3",
   "version": "3.10.12"
  }
 },
 "nbformat": 4,
 "nbformat_minor": 5
}
