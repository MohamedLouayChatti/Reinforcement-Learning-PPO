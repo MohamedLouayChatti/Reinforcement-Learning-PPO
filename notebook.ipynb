{
 "cells": [
  {
   "cell_type": "markdown",
   "id": "b0d54c99",
   "metadata": {},
   "source": [
    "**Adding libraries and dependencies**"
   ]
  },
  {
   "cell_type": "code",
   "execution_count": 1,
   "id": "f11e35f4",
   "metadata": {},
   "outputs": [
    {
     "name": "stderr",
     "output_type": "stream",
     "text": [
      "2025-08-11 00:53:18.645717: E external/local_xla/xla/stream_executor/cuda/cuda_fft.cc:467] Unable to register cuFFT factory: Attempting to register factory for plugin cuFFT when one has already been registered\n",
      "WARNING: All log messages before absl::InitializeLog() is called are written to STDERR\n",
      "E0000 00:00:1754869998.657988   11922 cuda_dnn.cc:8579] Unable to register cuDNN factory: Attempting to register factory for plugin cuDNN when one has already been registered\n",
      "E0000 00:00:1754869998.661617   11922 cuda_blas.cc:1407] Unable to register cuBLAS factory: Attempting to register factory for plugin cuBLAS when one has already been registered\n",
      "W0000 00:00:1754869998.671402   11922 computation_placer.cc:177] computation placer already registered. Please check linkage and avoid linking the same target more than once.\n",
      "W0000 00:00:1754869998.671415   11922 computation_placer.cc:177] computation placer already registered. Please check linkage and avoid linking the same target more than once.\n",
      "W0000 00:00:1754869998.671417   11922 computation_placer.cc:177] computation placer already registered. Please check linkage and avoid linking the same target more than once.\n",
      "W0000 00:00:1754869998.671418   11922 computation_placer.cc:177] computation placer already registered. Please check linkage and avoid linking the same target more than once.\n",
      "2025-08-11 00:53:18.675328: I tensorflow/core/platform/cpu_feature_guard.cc:210] This TensorFlow binary is optimized to use available CPU instructions in performance-critical operations.\n",
      "To enable the following instructions: AVX2 FMA, in other operations, rebuild TensorFlow with the appropriate compiler flags.\n"
     ]
    }
   ],
   "source": [
    "import numpy as np\n",
    "import tensorflow as tf\n",
    "import pandas as pd\n",
    "from mlagents_envs.environment import UnityEnvironment\n",
    "from mlagents_envs.side_channel.engine_configuration_channel import EngineConfigurationChannel\n",
    "from collections import deque\n",
    "import random\n",
    "from tensorflow.keras import layers, Model\n",
    "import os\n",
    "import time"
   ]
  },
  {
   "cell_type": "markdown",
   "id": "e79e48b5",
   "metadata": {},
   "source": [
    "**Establishing connection with Unity environment**"
   ]
  },
  {
   "cell_type": "code",
   "execution_count": 2,
   "id": "88d95eab",
   "metadata": {},
   "outputs": [],
   "source": [
    "engine_config_channel = EngineConfigurationChannel()\n",
    "\n",
    "env = UnityEnvironment(\n",
    "    file_name=None,\n",
    "    worker_id=0,\n",
    "    base_port=5004,\n",
    "    side_channels=[engine_config_channel]\n",
    ")"
   ]
  },
  {
   "cell_type": "code",
   "execution_count": 5,
   "id": "7745b4e0",
   "metadata": {},
   "outputs": [
    {
     "name": "stdout",
     "output_type": "stream",
     "text": [
      "Behavior: RobotBehaviour?team=0\n",
      "Action branches: (5,)\n",
      "Observation shapes: [(36,), (8,)]\n",
      "Active agents: 1\n"
     ]
    }
   ],
   "source": [
    "env.reset()\n",
    "behavior_names = list(env.behavior_specs)\n",
    "behavior_name = behavior_names[0]\n",
    "behavior_spec = env.behavior_specs[behavior_name]\n",
    "\n",
    "print(f\"Behavior: {behavior_name}\")\n",
    "print(f\"Action branches: {behavior_spec.action_spec.discrete_branches}\")\n",
    "print(f\"Observation shapes: {[obs.shape for obs in behavior_spec.observation_specs]}\")\n",
    "\n",
    "decision_steps, terminal_steps = env.get_steps(behavior_name)\n",
    "print(f\"Active agents: {len(decision_steps)}\")"
   ]
  },
  {
   "cell_type": "markdown",
   "id": "751d26ee",
   "metadata": {},
   "source": [
    "## Environment Configuration\n",
    "\n",
    "### Action Space\n",
    "- **5 discrete actions** corresponding to possible movements:\n",
    "  - `0`: Do nothing\n",
    "  - `1`: Go right  \n",
    "  - `2`: Go left\n",
    "  - `3`: Go forward\n",
    "  - `4`: Go backwards\n",
    "\n",
    "### Observation Space\n",
    "\n",
    "#### Ray Perception (36 dimensions)\n",
    "- **36 values** from ML-Agents RayPerception3D component\n",
    "- Detects sphere tags and distances in the environment\n",
    "\n",
    "#### Agent State (8 dimensions)\n",
    "- **8 values** divided as follows:\n",
    "  - Position: `x`, `y`, `z` coordinates\n",
    "  - Velocity: `x`, `y`, `z` velocity components  \n",
    "  - Rotation: `y`-axis rotation (facing direction)\n",
    "  - Time: Elapsed time since episode start\n",
    "\n",
    "---\n",
    "**Total observation size:** 44"
   ]
  },
  {
   "cell_type": "code",
   "execution_count": null,
   "id": "accd67ee",
   "metadata": {},
   "outputs": [],
   "source": []
  }
 ],
 "metadata": {
  "kernelspec": {
   "display_name": "DQL_env",
   "language": "python",
   "name": "python3"
  },
  "language_info": {
   "codemirror_mode": {
    "name": "ipython",
    "version": 3
   },
   "file_extension": ".py",
   "mimetype": "text/x-python",
   "name": "python",
   "nbconvert_exporter": "python",
   "pygments_lexer": "ipython3",
   "version": "3.10.12"
  }
 },
 "nbformat": 4,
 "nbformat_minor": 5
}
